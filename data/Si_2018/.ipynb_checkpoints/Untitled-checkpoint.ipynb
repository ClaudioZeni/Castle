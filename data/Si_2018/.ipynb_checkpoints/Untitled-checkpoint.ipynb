{
 "cells": [
  {
   "cell_type": "code",
   "execution_count": 2,
   "metadata": {},
   "outputs": [],
   "source": [
    "import numpy as np\n",
    "import pandas as pd\n",
    "import seaborn as sns\n",
    "from matplotlib import pyplot as plt\n",
    "from eff import flare_utils as ut\n",
    "from flare.gp import GaussianProcess as gp\n",
    "import os\n",
    "import json\n",
    "from flare.env import AtomicEnvironment\n",
    "from flare.struc import Structure\n",
    "from ase.io import read\n",
    "from pathlib import Path\n",
    "\n",
    "sns.set_style(\"white\")\n",
    "sns.set_context(\"talk\")\n",
    "colors_ = ['tab:red', 'gold', 'tab:green', 'tab:blue', 'tab:purple']\n",
    "markers = ['o', 'v', 's', '*', 'X']\n",
    "\n",
    "def pred_all(mgp, struc, cutoffs):\n",
    "    nat = struc[0].nat\n",
    "    pred_forces = np.zeros((len(struc)*nat, 3))\n",
    "    pred_energies = np.zeros(len(struc))\n",
    "    true_forces = np.zeros((len(struc)*nat, 3))\n",
    "    true_energies = np.zeros(len(struc))\n",
    "    force_var = np.zeros((len(struc)*nat))\n",
    "    \n",
    "    for j, s in enumerate(struc):\n",
    "        try:\n",
    "            true_forces[j*nat:(j+1)*nat, :] = s.forces\n",
    "        except:\n",
    "            true_forces[j*nat:(j+1)*nat, :] = None\n",
    "            \n",
    "        try:\n",
    "            true_energies[j] = s.energy\n",
    "        except:\n",
    "            true_energies[j] = None\n",
    "\n",
    "        for i in np.arange(nat):\n",
    "            pred_forces[j*nat+i, :], v, __, en = mgp.predict(AtomicEnvironment(s, i, cutoffs))\n",
    "            force_var[j*nat+i] = v**0.5\n",
    "            pred_energies[j] += en\n",
    "    return true_forces, pred_forces, true_energies, pred_energies, force_var"
   ]
  },
  {
   "cell_type": "markdown",
   "metadata": {},
   "source": [
    "# Generate Data set"
   ]
  },
  {
   "cell_type": "code",
   "execution_count": 3,
   "metadata": {},
   "outputs": [
    {
     "ename": "FileNotFoundError",
     "evalue": "[Errno 2] No such file or directory: '../data/Si_2018/delta_silicon.xyz'",
     "output_type": "error",
     "traceback": [
      "\u001b[0;31m---------------------------------------------------------------------------\u001b[0m",
      "\u001b[0;31mFileNotFoundError\u001b[0m                         Traceback (most recent call last)",
      "\u001b[0;32m<ipython-input-3-d3f151cad1e0>\u001b[0m in \u001b[0;36m<module>\u001b[0;34m\u001b[0m\n\u001b[1;32m      4\u001b[0m \u001b[0;31m# Load xyz data\u001b[0m\u001b[0;34m\u001b[0m\u001b[0;34m\u001b[0m\u001b[0;34m\u001b[0m\u001b[0m\n\u001b[1;32m      5\u001b[0m \u001b[0minput_file\u001b[0m \u001b[0;34m=\u001b[0m  \u001b[0;34m\"../data/Si_2018/delta_silicon.xyz\"\u001b[0m\u001b[0;34m\u001b[0m\u001b[0;34m\u001b[0m\u001b[0m\n\u001b[0;32m----> 6\u001b[0;31m \u001b[0mframes_\u001b[0m \u001b[0;34m=\u001b[0m \u001b[0mread\u001b[0m\u001b[0;34m(\u001b[0m\u001b[0minput_file\u001b[0m\u001b[0;34m,\u001b[0m \u001b[0mindex\u001b[0m \u001b[0;34m=\u001b[0m \u001b[0;34m':'\u001b[0m\u001b[0;34m)\u001b[0m\u001b[0;34m\u001b[0m\u001b[0;34m\u001b[0m\u001b[0m\n\u001b[0m\u001b[1;32m      7\u001b[0m \u001b[0;34m\u001b[0m\u001b[0m\n\u001b[1;32m      8\u001b[0m \u001b[0;31m# Wrap positions so rascal does not complain\u001b[0m\u001b[0;34m\u001b[0m\u001b[0;34m\u001b[0m\u001b[0;34m\u001b[0m\u001b[0m\n",
      "\u001b[0;32m~/.local/lib/python3.8/site-packages/ase/io/formats.py\u001b[0m in \u001b[0;36mread\u001b[0;34m(filename, index, format, parallel, do_not_split_by_at_sign, **kwargs)\u001b[0m\n\u001b[1;32m    639\u001b[0m     \u001b[0mio\u001b[0m \u001b[0;34m=\u001b[0m \u001b[0mget_ioformat\u001b[0m\u001b[0;34m(\u001b[0m\u001b[0mformat\u001b[0m\u001b[0;34m)\u001b[0m\u001b[0;34m\u001b[0m\u001b[0;34m\u001b[0m\u001b[0m\n\u001b[1;32m    640\u001b[0m     \u001b[0;32mif\u001b[0m \u001b[0misinstance\u001b[0m\u001b[0;34m(\u001b[0m\u001b[0mindex\u001b[0m\u001b[0;34m,\u001b[0m \u001b[0;34m(\u001b[0m\u001b[0mslice\u001b[0m\u001b[0;34m,\u001b[0m \u001b[0mstr\u001b[0m\u001b[0;34m)\u001b[0m\u001b[0;34m)\u001b[0m\u001b[0;34m:\u001b[0m\u001b[0;34m\u001b[0m\u001b[0;34m\u001b[0m\u001b[0m\n\u001b[0;32m--> 641\u001b[0;31m         return list(_iread(filename, index, format, io, parallel=parallel,\n\u001b[0m\u001b[1;32m    642\u001b[0m                            **kwargs))\n\u001b[1;32m    643\u001b[0m     \u001b[0;32melse\u001b[0m\u001b[0;34m:\u001b[0m\u001b[0;34m\u001b[0m\u001b[0;34m\u001b[0m\u001b[0m\n",
      "\u001b[0;32m~/.local/lib/python3.8/site-packages/ase/parallel.py\u001b[0m in \u001b[0;36mnew_generator\u001b[0;34m(*args, **kwargs)\u001b[0m\n\u001b[1;32m    262\u001b[0m             not kwargs.pop('parallel', True)):\n\u001b[1;32m    263\u001b[0m             \u001b[0;31m# Disable:\u001b[0m\u001b[0;34m\u001b[0m\u001b[0;34m\u001b[0m\u001b[0;34m\u001b[0m\u001b[0m\n\u001b[0;32m--> 264\u001b[0;31m             \u001b[0;32mfor\u001b[0m \u001b[0mresult\u001b[0m \u001b[0;32min\u001b[0m \u001b[0mgenerator\u001b[0m\u001b[0;34m(\u001b[0m\u001b[0;34m*\u001b[0m\u001b[0margs\u001b[0m\u001b[0;34m,\u001b[0m \u001b[0;34m**\u001b[0m\u001b[0mkwargs\u001b[0m\u001b[0;34m)\u001b[0m\u001b[0;34m:\u001b[0m\u001b[0;34m\u001b[0m\u001b[0;34m\u001b[0m\u001b[0m\n\u001b[0m\u001b[1;32m    265\u001b[0m                 \u001b[0;32myield\u001b[0m \u001b[0mresult\u001b[0m\u001b[0;34m\u001b[0m\u001b[0;34m\u001b[0m\u001b[0m\n\u001b[1;32m    266\u001b[0m             \u001b[0;32mreturn\u001b[0m\u001b[0;34m\u001b[0m\u001b[0;34m\u001b[0m\u001b[0m\n",
      "\u001b[0;32m~/.local/lib/python3.8/site-packages/ase/io/formats.py\u001b[0m in \u001b[0;36m_iread\u001b[0;34m(filename, index, format, io, parallel, full_output, **kwargs)\u001b[0m\n\u001b[1;32m    701\u001b[0m         \u001b[0;32mif\u001b[0m \u001b[0mio\u001b[0m\u001b[0;34m.\u001b[0m\u001b[0macceptsfd\u001b[0m\u001b[0;34m:\u001b[0m\u001b[0;34m\u001b[0m\u001b[0;34m\u001b[0m\u001b[0m\n\u001b[1;32m    702\u001b[0m             \u001b[0mmode\u001b[0m \u001b[0;34m=\u001b[0m \u001b[0;34m'rb'\u001b[0m \u001b[0;32mif\u001b[0m \u001b[0mio\u001b[0m\u001b[0;34m.\u001b[0m\u001b[0misbinary\u001b[0m \u001b[0;32melse\u001b[0m \u001b[0;34m'r'\u001b[0m\u001b[0;34m\u001b[0m\u001b[0;34m\u001b[0m\u001b[0m\n\u001b[0;32m--> 703\u001b[0;31m             \u001b[0mfd\u001b[0m \u001b[0;34m=\u001b[0m \u001b[0mopen_with_compression\u001b[0m\u001b[0;34m(\u001b[0m\u001b[0mfilename\u001b[0m\u001b[0;34m,\u001b[0m \u001b[0mmode\u001b[0m\u001b[0;34m)\u001b[0m\u001b[0;34m\u001b[0m\u001b[0;34m\u001b[0m\u001b[0m\n\u001b[0m\u001b[1;32m    704\u001b[0m             \u001b[0mmust_close_fd\u001b[0m \u001b[0;34m=\u001b[0m \u001b[0;32mTrue\u001b[0m\u001b[0;34m\u001b[0m\u001b[0;34m\u001b[0m\u001b[0m\n\u001b[1;32m    705\u001b[0m         \u001b[0;32melse\u001b[0m\u001b[0;34m:\u001b[0m\u001b[0;34m\u001b[0m\u001b[0;34m\u001b[0m\u001b[0m\n",
      "\u001b[0;32m~/.local/lib/python3.8/site-packages/ase/io/formats.py\u001b[0m in \u001b[0;36mopen_with_compression\u001b[0;34m(filename, mode)\u001b[0m\n\u001b[1;32m    454\u001b[0m \u001b[0;34m\u001b[0m\u001b[0m\n\u001b[1;32m    455\u001b[0m     \u001b[0;32mif\u001b[0m \u001b[0mcompression\u001b[0m \u001b[0;32mis\u001b[0m \u001b[0;32mNone\u001b[0m\u001b[0;34m:\u001b[0m\u001b[0;34m\u001b[0m\u001b[0;34m\u001b[0m\u001b[0m\n\u001b[0;32m--> 456\u001b[0;31m         \u001b[0;32mreturn\u001b[0m \u001b[0mopen\u001b[0m\u001b[0;34m(\u001b[0m\u001b[0mfilename\u001b[0m\u001b[0;34m,\u001b[0m \u001b[0mmode\u001b[0m\u001b[0;34m)\u001b[0m\u001b[0;34m\u001b[0m\u001b[0;34m\u001b[0m\u001b[0m\n\u001b[0m\u001b[1;32m    457\u001b[0m     \u001b[0;32melif\u001b[0m \u001b[0mcompression\u001b[0m \u001b[0;34m==\u001b[0m \u001b[0;34m'gz'\u001b[0m\u001b[0;34m:\u001b[0m\u001b[0;34m\u001b[0m\u001b[0;34m\u001b[0m\u001b[0m\n\u001b[1;32m    458\u001b[0m         \u001b[0;32mimport\u001b[0m \u001b[0mgzip\u001b[0m\u001b[0;34m\u001b[0m\u001b[0;34m\u001b[0m\u001b[0m\n",
      "\u001b[0;31mFileNotFoundError\u001b[0m: [Errno 2] No such file or directory: '../data/Si_2018/delta_silicon.xyz'"
     ]
    }
   ],
   "source": [
    "from eff import flare_utils as ut\n",
    "from flare.struc import Structure\n",
    "\n",
    "# Load xyz data\n",
    "input_file =  \"delta_silicon.xyz\"\n",
    "frames_ = read(input_file, index = ':')\n",
    "    \n",
    "# Wrap positions so rascal does not complain\n",
    "for ff in frames_:\n",
    "    ff.wrap(eps=1e-11)\n",
    "energy_name = 'dft_energy'\n",
    "force_name = 'dft_force'\n",
    "virial_name = 'dft_virial'\n",
    "\n",
    "tags = set()\n",
    "for ff in frames_:\n",
    "    tags.add(ff.info['config_type'])\n",
    "print(tags)\n",
    "\n",
    "# build a potential for diamond phase only\n",
    "frames = []\n",
    "for ff in frames_:\n",
    "    if ff.info['config_type'] in ['amorph', 'bt', 'dia', 'liq', 'fcc', 'bcc', 'hcp', 'hex_diamond']:\n",
    "        try:\n",
    "            len(ff.info['dft_virial'])\n",
    "            frames.append(ff)\n",
    "        except KeyError:\n",
    "            pass\n",
    "        \n",
    "zero_point_energy = -frames_[0].info['dft_energy']\n",
    "\n",
    "frames_json = [Structure.from_ase_atoms(f) for f in frames]\n",
    "dft_forces = [f.get_array('dft_force') for f in frames]\n",
    "dft_energies = [f.info['dft_energy'] for f in frames]\n",
    "delta_forces = [f.get_array('delta_forces') for f in frames]\n",
    "delta_energies = [f.info['delta_energy'] for f in frames]\n",
    "\n",
    "for i, f in enumerate(frames_json):\n",
    "    f.forces = dft_forces[i]\n",
    "    f.energy = dft_energies[i] + f.nat*zero_point_energy\n",
    "ut.save_as_json(frames_json, \"reduced_dft_silicon.json\")\n",
    "\n",
    "for i, f in enumerate(frames_json):\n",
    "    f.forces = delta_forces[i]\n",
    "    f.energy = delta_energies[i] + f.nat*zero_point_energy\n",
    "ut.save_as_json(frames_json, \"reduced_delta_silicon.json\")"
   ]
  },
  {
   "cell_type": "markdown",
   "metadata": {},
   "source": [
    "# Check M-FFs"
   ]
  },
  {
   "cell_type": "code",
   "execution_count": 4,
   "metadata": {},
   "outputs": [],
   "source": [
    "mgp, cutoffs = ut.load_mgp(\"/home/claudio/postdoc/integrated_potentials/data/Si_2018/mffs/mapped_model_200_2b_energy_True_opt_False_dft_data.json\")\n",
    "struct = ut.load_structures(\"/home/claudio/postdoc/integrated_potentials/data/Si_2018/reduced_dft_silicon.json\")"
   ]
  },
  {
   "cell_type": "code",
   "execution_count": 5,
   "metadata": {},
   "outputs": [],
   "source": [
    "nats = np.array([ss.nat for ss in struct])"
   ]
  },
  {
   "cell_type": "code",
   "execution_count": 6,
   "metadata": {},
   "outputs": [
    {
     "data": {
      "image/png": "[encoded data removed]",
      "text/plain": [
       "<Figure size 432x288 with 1 Axes>"
      ]
     },
     "metadata": {},
     "output_type": "display_data"
    }
   ],
   "source": [
    "plt.plot(np.linspace(mgp.maps['twobody'].as_dict()['bounds'][0][0][0], mgp.maps['twobody'].as_dict()['bounds'][0][1][0], 102),\n",
    "    mgp.maps['twobody'].as_dict()['maps'][0][0])\n",
    "plt.show()"
   ]
  },
  {
   "cell_type": "code",
   "execution_count": null,
   "metadata": {},
   "outputs": [],
   "source": []
  }
 ],
 "metadata": {
  "kernelspec": {
   "display_name": "flare_dev",
   "language": "python",
   "name": "flare_dev"
  },
  "language_info": {
   "codemirror_mode": {
    "name": "ipython",
    "version": 3
   },
   "file_extension": ".py",
   "mimetype": "text/x-python",
   "name": "python",
   "nbconvert_exporter": "python",
   "pygments_lexer": "ipython3",
   "version": "3.8.5"
  }
 },
 "nbformat": 4,
 "nbformat_minor": 4
}
