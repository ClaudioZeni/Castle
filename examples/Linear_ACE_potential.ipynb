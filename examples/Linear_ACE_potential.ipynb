{
 "cells": [
  {
   "cell_type": "code",
   "execution_count": 1,
   "metadata": {
    "tags": []
   },
   "outputs": [],
   "source": [
    "from ase.io import read\n",
    "import numpy as np\n",
    "from matplotlib import pyplot as plt\n",
    "import joblib, pickle, sys\n",
    "from castle import ASEMLCalculator, AceGlobalRepresentation, AceLocalRepresentation, LPEnsamble, LinearPotential\n",
    "from castle import get_forces_and_energies, get_virials, get_nat, dump, load, print_score, utils\n",
    "\n",
    "def split_dataset(N, training_percentage, seed=20):\n",
    "    np.random.seed(seed)\n",
    "    ids = list(range(N))\n",
    "    np.random.shuffle(ids)\n",
    "    return ids[:int(training_percentage*N)], ids[int(training_percentage*N):]\n",
    "\n",
    "%load_ext autoreload\n",
    "%autoreload 2"
   ]
  },
  {
   "cell_type": "markdown",
   "metadata": {},
   "source": [
    "# Load structures"
   ]
  },
  {
   "cell_type": "code",
   "execution_count": 7,
   "metadata": {},
   "outputs": [],
   "source": [
    "# Load xyz data\n",
    "input_file =  \"../data/Si_2018/delta_silicon.xyz\"\n",
    "\n",
    "frames_ = read(input_file, index = ':')\n",
    "    \n",
    "# Select only frames that contain virial information\n",
    "frames = []\n",
    "for ff in frames_:\n",
    "    try:\n",
    "        len(ff.info['dft_virial'])\n",
    "        frames.append(ff)\n",
    "    except KeyError:\n",
    "        pass\n",
    "    \n",
    "energy_name = 'dft_energy'\n",
    "force_name = 'dft_force'\n",
    "virial_name = 'dft_virial'"
   ]
  },
  {
   "cell_type": "markdown",
   "metadata": {},
   "source": [
    "# Build a model"
   ]
  },
  {
   "cell_type": "markdown",
   "metadata": {},
   "source": [
    "Compute representation"
   ]
  },
  {
   "cell_type": "code",
   "execution_count": 8,
   "metadata": {},
   "outputs": [],
   "source": [
    "# Create training and validation set\n",
    "tr_ind, val_ind = split_dataset(len(frames), 0.8)\n",
    "tr_frames = [frames[s] for s in tr_ind]\n",
    "val_frames = [frames[s] for s in val_ind]\n",
    "e_t, f_t = get_forces_and_energies(tr_frames, energy_name = energy_name, force_name = force_name)\n",
    "e_val, f_val = get_forces_and_energies(val_frames, energy_name = energy_name, force_name = force_name)\n",
    "s_val = get_virials(val_frames, virial_name)\n",
    "nat_val = get_nat(val_frames)\n",
    "\n",
    "N = 5               # Number of products\n",
    "maxdeg = 10         # Maximum degree of angular and radial expansion\n",
    "rcut = 5.0          # Radial Cutoff\n",
    "r0 = 1.0            # Lowest radius for basis\n",
    "reg = 1e-8          # Ridge regularizer\n",
    "species = 14        # Number of elements present \n",
    "\n",
    "\n",
    "representation = AceGlobalRepresentation(N, maxdeg, rcut, species, r0, reg, \n",
    "                                         energy_name=energy_name, force_name=force_name, virial_name=virial_name)"
   ]
  },
  {
   "cell_type": "code",
   "execution_count": 9,
   "metadata": {},
   "outputs": [],
   "source": [
    "# #  compute features\n",
    "features = representation.transform(frames)\n",
    "# #  save them\n",
    "dump(input_file[:-4] + \"_features.xz\", features)"
   ]
  },
  {
   "cell_type": "markdown",
   "metadata": {},
   "source": [
    "## Train a linear model"
   ]
  },
  {
   "cell_type": "code",
   "execution_count": 10,
   "metadata": {},
   "outputs": [],
   "source": [
    "# load the features\n",
    "# features = load(input_file[:-4] + \"_features.xz\")\n",
    "noise = 1e-6\n",
    "# get the subset of features for training\n",
    "tr_features = features.get_subset(tr_ind)\n",
    "# train the model\n",
    "model_lin = LinearPotential(representation)\n",
    "model_lin.fit_from_features(tr_features, noise, e_t, f_t)"
   ]
  },
  {
   "cell_type": "code",
   "execution_count": 18,
   "metadata": {},
   "outputs": [
    {
     "name": "stdout",
     "output_type": "stream",
     "text": [
      "MAE=0.017 RMSE=0.044 SUP=0.622 R2=0.960\n",
      "MAE=0.082 RMSE=0.134 SUP=2.301 R2=0.968\n"
     ]
    },
    {
     "data": {
      "image/png": "[encoded data removed]",
      "text/plain": [
       "<Figure size 432x288 with 1 Axes>"
      ]
     },
     "metadata": {
      "needs_background": "light"
     },
     "output_type": "display_data"
    },
    {
     "data": {
      "image/png": "[encoded data removed]",
      "text/plain": [
       "<Figure size 252x180 with 1 Axes>"
      ]
     },
     "metadata": {
      "needs_background": "light"
     },
     "output_type": "display_data"
    }
   ],
   "source": [
    "# evaluate its performances\n",
    "val_features = features.get_subset(val_ind)\n",
    "predictions = model_lin.predict_from_features(val_features, forces=True)\n",
    "ep, fp = predictions['energy'], predictions['forces']\n",
    "print_score(ep/nat_val, e_val/nat_val)\n",
    "print_score(fp.flatten(), f_val.flatten())\n",
    "\n",
    "plt.scatter(e_val/nat_val, ep/nat_val)\n",
    "plt.plot(e_val/nat_val, e_val/nat_val, 'k--')\n",
    "plt.xlabel(\"True Energy [eV/atom]\")\n",
    "plt.ylabel(\"Predicted Energy [eV/atom]\")\n",
    "plt.show()\n",
    "\n",
    "plt.figure(figsize = (3.5, 2.5))\n",
    "plt.hist2d(np.ravel(f_val), np.ravel(fp), cmin = 1e-12, bins = 100, cmap = 'viridis')\n",
    "plt.plot(f_val, f_val, 'k--')\n",
    "plt.xlim(-5, 5)\n",
    "plt.ylim(-5, 5)\n",
    "plt.xlabel(\"True Force [eV/$\\AA$]\")\n",
    "plt.ylabel(\"Predicted Force [eV/$\\AA$]\")\n",
    "plt.tight_layout()\n",
    "plt.show()"
   ]
  },
  {
   "cell_type": "code",
   "execution_count": null,
   "metadata": {},
   "outputs": [],
   "source": []
  }
 ],
 "metadata": {
  "kernelspec": {
   "display_name": "Python 3 (ipykernel)",
   "language": "python",
   "name": "python3"
  },
  "language_info": {
   "codemirror_mode": {
    "name": "ipython",
    "version": 3
   },
   "file_extension": ".py",
   "mimetype": "text/x-python",
   "name": "python",
   "nbconvert_exporter": "python",
   "pygments_lexer": "ipython3",
   "version": "3.8.10"
  },
  "toc": {
   "base_numbering": 1,
   "nav_menu": {},
   "number_sections": true,
   "sideBar": true,
   "skip_h1_title": false,
   "title_cell": "Table of Contents",
   "title_sidebar": "Contents",
   "toc_cell": false,
   "toc_position": {
    "height": "calc(100% - 180px)",
    "left": "10px",
    "top": "150px",
    "width": "290px"
   },
   "toc_section_display": true,
   "toc_window_display": true
  }
 },
 "nbformat": 4,
 "nbformat_minor": 4
}
