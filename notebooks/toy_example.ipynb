{
 "cells": [
  {
   "cell_type": "code",
   "execution_count": 2,
   "metadata": {},
   "outputs": [],
   "source": [
    "import numpy as np\n",
    "\n",
    "from matplotlib import pyplot as plt\n",
    "\n",
    "from sklearn.linear_model import Ridge\n"
   ]
  },
  {
   "cell_type": "code",
   "execution_count": 104,
   "metadata": {},
   "outputs": [],
   "source": [
    "x1 = np.sort(np.random.normal(1, 1, size = 100).reshape(-1, 1))\n",
    "\n",
    "x2 = np.sort(np.random.normal(7, .7, size = 200).reshape(-1, 1))\n",
    "\n",
    "x3 = np.sort(np.random.normal(12, .8, size = 150).reshape(-1, 1))\n",
    "\n",
    "y1 = 2+ .5*x1 + np.random.normal(0, .15, size = len(x1)).reshape(-1, 1)\n",
    "\n",
    "y2 = 2+ .3*x2 + np.random.normal(0, .12, size = len(x2)).reshape(-1, 1)\n",
    "\n",
    "y3 = 5+ .1*x3 + np.random.normal(0, .1, size = len(x3)).reshape(-1, 1)\n",
    "\n",
    "x = np.concatenate([x1, x2, x3])\n",
    "y = np.concatenate([y1, y2, y3])\n",
    "\n",
    "lin = Ridge(.1).fit(x, y)\n",
    "y_lin = lin.predict(x)\n",
    "\n",
    "lin1 = Ridge(.1).fit(x1, y1)\n",
    "y_lin1 = lin1.predict(x1)\n",
    "\n",
    "lin2 = Ridge(.1).fit(x2, y2)\n",
    "y_lin2 = lin2.predict(x2)\n",
    "\n",
    "lin3 = Ridge(.1).fit(x3, y3)\n",
    "y_lin3 = lin3.predict(x3)\n",
    "\n",
    "pots = [lin1, lin2, lin3]\n",
    "centroids = np.array([np.mean(x1), np.mean(x2), np.mean(x3)])\n",
    "stds =  np.array([np.std(x1), np.std(x2), np.std(x3)])\n",
    "nums =  np.array([len(x1),len(x2), len(x3)])\n",
    "\n",
    "def predict_ensemble(x, pots, centroids, stds, nums):\n",
    "    preds = np.empty((len(pots), len(x)))\n",
    "\n",
    "    for i, p in enumerate(pots):\n",
    "        preds[i] = p.predict(x)[:, 0]\n",
    "    \n",
    "    weights = (stds*nums**0.5)[:, None]/(x[None, :, 0] - centroids[:, None])**2\n",
    "    \n",
    "    weights = np.exp(weights)\n",
    "    weights = (weights/np.sum(weights, axis = 0))\n",
    "    return np.sum(preds * weights, axis = 0)"
   ]
  },
  {
   "cell_type": "code",
   "execution_count": 105,
   "metadata": {},
   "outputs": [
    {
     "name": "stderr",
     "output_type": "stream",
     "text": [
      "/tmp/ipykernel_29650/3707098169.py:41: RuntimeWarning: overflow encountered in exp\n",
      "  weights = np.exp(weights)\n",
      "/tmp/ipykernel_29650/3707098169.py:42: RuntimeWarning: invalid value encountered in true_divide\n",
      "  weights = (weights/np.sum(weights, axis = 0))\n"
     ]
    }
   ],
   "source": [
    "preds = predict_ensemble(np.linspace(-2, 14, 100).reshape(-1, 1), pots, centroids, stds, nums)"
   ]
  },
  {
   "cell_type": "code",
   "execution_count": 121,
   "metadata": {},
   "outputs": [
    {
     "data": {
      "image/png": "[encoded data removed]",
      "text/plain": [
       "<Figure size 432x288 with 1 Axes>"
      ]
     },
     "metadata": {
      "needs_background": "light"
     },
     "output_type": "display_data"
    }
   ],
   "source": [
    "plt.scatter(x1, y1, c = 'tab:green')\n",
    "plt.scatter(x2, y2, c = 'tab:green')\n",
    "plt.scatter(x3, y3, c = 'tab:green')\n",
    "plt.plot(x, y_lin, c = 'tab:blue', lw =2, label = 'Linear')\n",
    "plt.plot(x1, y_lin1, c = 'tab:red', lw = 3, label = 'Piecewise Linear')\n",
    "plt.plot(x2, y_lin2, c = 'tab:red', lw = 3)\n",
    "plt.plot(x3, y_lin3, c = 'tab:red', lw = 3)\n",
    "plt.plot(np.linspace(-2, 14, 100), preds, c = 'tab:orange', lw =2, label = 'D&C')\n",
    "plt.ylabel(\"Energy\")\n",
    "plt.xlabel(\"Feature\")\n",
    "plt.legend(frameon=False)\n",
    "plt.savefig(\"../toy_model_plot.pdf\")"
   ]
  },
  {
   "cell_type": "code",
   "execution_count": null,
   "metadata": {},
   "outputs": [],
   "source": []
  }
 ],
 "metadata": {
  "kernelspec": {
   "display_name": "Python 3.10.4 ('castle')",
   "language": "python",
   "name": "python3"
  },
  "language_info": {
   "codemirror_mode": {
    "name": "ipython",
    "version": 3
   },
   "file_extension": ".py",
   "mimetype": "text/x-python",
   "name": "python",
   "nbconvert_exporter": "python",
   "pygments_lexer": "ipython3",
   "version": "3.10.4"
  },
  "orig_nbformat": 4,
  "vscode": {
   "interpreter": {
    "hash": "6026fc6be1a2276e096b5e29ac25f88ad733ed5f8b9febef42e5fb7691094edd"
   }
  }
 },
 "nbformat": 4,
 "nbformat_minor": 2
}
