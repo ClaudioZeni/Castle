{
 "cells": [
  {
   "cell_type": "code",
   "execution_count": 1,
   "metadata": {},
   "outputs": [
    {
     "name": "stderr",
     "output_type": "stream",
     "text": [
      "┌ Info: Precompiling IPFitting [3002bd4c-79e4-52ce-b924-91256dde4e52]\n",
      "└ @ Base loading.jl:1317\n",
      "┌ Info: Skipping precompilation since __precompile__(false). Importing IPFitting [3002bd4c-79e4-52ce-b924-91256dde4e52].\n",
      "└ @ Base loading.jl:1025\n",
      "┌ Info: Precompiling ASE [51974c44-a7ed-5088-b8be-3e78c8ba416c]\n",
      "└ @ Base loading.jl:1317\n",
      "┌ Info: Skipping precompilation since __precompile__(false). Importing ASE [51974c44-a7ed-5088-b8be-3e78c8ba416c].\n",
      "└ @ Base loading.jl:1025\n"
     ]
    }
   ],
   "source": [
    "using LinearAlgebra, Statistics, Random, ProgressMeter, ScikitLearn\n",
    "using ACE: alloc_B, alloc_temp, evaluate!,alloc_dB, alloc_temp_d, evaluate_d!, rpi_basis, rnn\n",
    "using NeighbourLists: maxneigs\n",
    "using JuLIP: sites, neighbourlist, cutoff, JVec, AbstractAtoms, fltype, AtomicNumber\n",
    "using JuLIP.Potentials: neigsz!\n",
    "using IPFitting.Data: read_xyz\n",
    "@sk_import linear_model: Ridge\n",
    "@sk_import linear_model: RidgeCV\n",
    "using ScikitLearn.CrossValidation: train_test_split"
   ]
  },
  {
   "cell_type": "code",
   "execution_count": 2,
   "metadata": {},
   "outputs": [],
   "source": [
    "function sum_descriptor(shipB, at::AbstractAtoms{T}) where {T}\n",
    "   E = zeros(fltype(shipB), length(shipB))\n",
    "   B = alloc_B(shipB)\n",
    "   nlist = neighbourlist(at, cutoff(shipB))\n",
    "   maxnR = maxneigs(nlist)\n",
    "   tmp = alloc_temp(shipB, maxnR)\n",
    "   tmpRZ = (R = zeros(JVec{T}, maxnR), Z = zeros(AtomicNumber, maxnR))\n",
    "   for i = 1:length(at)\n",
    "      j, R, Z = neigsz!(tmpRZ, nlist, at, i)\n",
    "      fill!(B, 0)\n",
    "      evaluate!(B, tmp, shipB, R, Z, at.Z[i])\n",
    "      E[:] .+= B[:]\n",
    "   end\n",
    "   return E\n",
    "end\n",
    "\n",
    "function sum_descriptor_traj(basis, traj)\n",
    "    A_all = Array{Float64, 2}(undef, length(traj), length(basis)) \n",
    "    @showprogress \"Computing descriptor for structure \" for i in 1:length(traj)\n",
    "        atoms = traj[i].at\n",
    "        A_all[i, :] = sum_descriptor(basis, atoms)\n",
    "    end\n",
    "    return A_all\n",
    "end;\n",
    "\n",
    "\n",
    "function sum_d_descriptor(shipB, at::AbstractAtoms{T}) where {T}\n",
    "   # precompute the neighbourlist to count the number of neighbours\n",
    "   nlist = neighbourlist(at, cutoff(shipB); storelist=false)\n",
    "   maxR = maxneigs(nlist)\n",
    "   # allocate space accordingly\n",
    "   F = zeros(JVec{T}, length(at), length(shipB))\n",
    "   B = alloc_B(shipB, maxR)\n",
    "   dB = alloc_dB(shipB, maxR)\n",
    "   tmp = alloc_temp_d(shipB, maxR)\n",
    "   tmpRZ = (R = zeros(JVec{T}, maxR), Z = zeros(AtomicNumber, maxR))\n",
    "   return sum_d_descriptor_inner!(shipB, at, nlist, F, B, dB, tmp, tmpRZ)\n",
    "end\n",
    "\n",
    "# this is a little hack to remove a type instability. It probably makes no\n",
    "# difference in practise...\n",
    "function sum_d_descriptor_inner!(shipB, at::AbstractAtoms{T},\n",
    "                       nlist, F, B, dB, tmp, tmpRZ) where {T}\n",
    "   # assemble site gradients and write into F\n",
    "   for i = 1:length(at)\n",
    "      j, R, Z = neigsz!(tmpRZ, nlist, at, i)\n",
    "      fill!(dB, zero(JVec{T}))\n",
    "      fill!(B, 0)\n",
    "      evaluate_d!(B, dB, tmp, shipB, R, Z, at.Z[i])\n",
    "      for a = 1:length(R)\n",
    "         F[j[a], :] .-= dB[:, a]\n",
    "         F[i, :] .+= dB[:, a]\n",
    "      end\n",
    "   end\n",
    "   return [ F[:, iB] for iB = 1:length(shipB) ]\n",
    "end\n",
    "\n",
    "function sum_d_descriptor_traj(basis, traj)\n",
    "    dA_all = []\n",
    "    @showprogress \"Computing desc. der. for structure \" for i in 1:length(traj)\n",
    "        atoms = traj[i].at\n",
    "        XF = sum_d_descriptor(basis, atoms);\n",
    "        XF = hcat([collect(Iterators.flatten(a)) for a in XF]...)\n",
    "        push!(dA_all, XF)\n",
    "    end\n",
    "    return dA_all\n",
    "end;\n",
    "\n",
    "function fit_potential(XE_tr, YE_tr, XF_tr, YF_tr, alpha=1.0)\n",
    "    YF_tr = hcat(YF_tr'...)'\n",
    "    XF_tr = hcat(XF_tr'...)'\n",
    "    X_tr = vcat(XE_tr, XF_tr)\n",
    "    Y_tr = vcat(YE_tr, YF_tr);\n",
    "    ridge_pred = fit!(Ridge(alpha), X_tr, Y_tr)\n",
    "    return ridge_pred\n",
    "end\n",
    "\n",
    "function fit_potential_with_contributions(XE_tr, YE_tr, XF_tr, YF_tr, atomic_energies,nats_tr,alpha=1.0,)\n",
    "    nYE_tr = YE_tr - dot(nats_tr,atomic_energies)\n",
    "    YF_tr = hcat(YF_tr'...)'\n",
    "    XF_tr = hcat(XF_tr'...)'\n",
    "    X_tr = vcat(XE_tr, XF_tr)\n",
    "    Y_tr = vcat(nYE_tr, YF_tr);\n",
    "    ridge_pred = fit!(Ridge(alpha), X_tr, Y_tr)\n",
    "    return ridge_pred\n",
    "end\n",
    "\n",
    "function predict_potential(ridge_pred, XE_tst, XF_tst)\n",
    "    n_struc = length(XE_tst[:, 1])\n",
    "    XF_tst = hcat(XF_tst'...)'\n",
    "    X_tst = vcat(XE_tst, XF_tst)\n",
    "    result = predict(ridge_pred, X_tst)\n",
    "    return result[1:n_struc], result[n_struc+1:end]\n",
    "end\n",
    "\n",
    "\n",
    "function predict_potential_with_contributions(ridge_pred, XE_tst, XF_tst,atomic_energies,nats_ts)\n",
    "    n_struc = length(XE_tst[:, 1])\n",
    "    XF_tst = hcat(XF_tst'...)'\n",
    "    X_tst = vcat(XE_tst, XF_tst)\n",
    "    result = predict(ridge_pred, X_tst)\n",
    "    return result[1:n_struc] + dot(nats_ts,atomic_energies), result[n_struc+1:end]\n",
    "end\n",
    "\n",
    "function extract_info(B, traj)\n",
    "    XE = sum_descriptor_traj(B, traj);\n",
    "    XF = sum_d_descriptor_traj(B, traj);\n",
    "\n",
    "    YE = Vector{Float64}(undef, length(traj)) \n",
    "    for i in 1:length(traj)\n",
    "        YE[i] = traj[i].D[\"E\"][1]\n",
    "    end\n",
    "\n",
    "    YF = Vector{Float64}[]\n",
    "    for i in 1:length(traj)\n",
    "        push!(YF, traj[i].D[\"F\"])\n",
    "    end\n",
    "\n",
    "    nat = Vector{Float64}(undef, length(traj)) \n",
    "    for i in 1:length(traj)\n",
    "        nat[i] = length(traj[i])\n",
    "    end\n",
    "    \n",
    "    return XE, YE, XF, YF, nat\n",
    "    end;"
   ]
  },
  {
   "cell_type": "code",
   "execution_count": 127,
   "metadata": {
    "scrolled": true
   },
   "outputs": [
    {
     "name": "stderr",
     "output_type": "stream",
     "text": [
      "┌ Info: Keys used: E => \"energy\", F => \"forces\", V => \"dft_virial\"\n",
      "└ @ IPFitting.Data /home/users/anellia/.julia/packages/IPFitting/Ypo4v/src/data.jl:153\n",
      "\u001b[32mProgress: 100%|█████████████████████████████████████████| Time: 0:04:21\u001b[39m\n"
     ]
    },
    {
     "name": "stdout",
     "output_type": "stream",
     "text": [
      "┌─────────────┬───────┬────────┬───────┬────────┬───────┐\n",
      "│\u001b[1m config_type \u001b[0m│\u001b[1m #cfgs \u001b[0m│\u001b[1m  #envs \u001b[0m│\u001b[1m    #E \u001b[0m│\u001b[1m     #F \u001b[0m│\u001b[1m    #V \u001b[0m│\n",
      "│\u001b[90m      String \u001b[0m│\u001b[90m Int64 \u001b[0m│\u001b[90m  Int64 \u001b[0m│\u001b[90m Int64 \u001b[0m│\u001b[90m  Int64 \u001b[0m│\u001b[90m Int64 \u001b[0m│\n",
      "├─────────────┼───────┼────────┼───────┼────────┼───────┤\n",
      "│     nothing │  1405 │ 302016 │  1405 │ 906048 │     0 │\n",
      "├─────────────┼───────┼────────┼───────┼────────┼───────┤\n",
      "│       total │  1405 │ 302016 │  1405 │ 906048 │     0 │\n",
      "│     missing │     0 │      0 │     0 │      0 │ 12645 │\n",
      "└─────────────┴───────┴────────┴───────┴────────┴───────┘\n"
     ]
    }
   ],
   "source": [
    "# Data loading\n",
    "all_traj = read_xyz(\"/home/users/anellia/Desktop/datasets/Cat-s_minima.xyz\",\n",
    "    energy_key=\"energy\", force_key=\"forces\", verbose=false);\n",
    "\n",
    "siliconset = false\n",
    "# Data parsing\n",
    "if siliconset == true\n",
    "    types = [\"bcc\",\"fcc\",\"dia\",\"liq\",\"amorph\",\"bt\",\"st12\"]\n",
    "    traj = Any[]\n",
    "    for tt in all_traj\n",
    "       if tt.configtype in types\n",
    "            push!(traj, tt)\n",
    "        end\n",
    "    end\n",
    "end"
   ]
  },
  {
   "cell_type": "code",
   "execution_count": 112,
   "metadata": {},
   "outputs": [
    {
     "name": "stdout",
     "output_type": "stream",
     "text": [
      "Feature size :213\n"
     ]
    }
   ],
   "source": [
    "# Descriptor parameters\n",
    "\n",
    "N = 4       # Body order\n",
    "maxdeg = 6        # Number of basis (?)\n",
    "rcut = 4.5         # Radial Cutoff\n",
    "species = [:H,:];      # Well... Species\n",
    "r0 = 0.2           # Lowest radius for basis\n",
    "\n",
    "B = rpi_basis(; species=species, N = N, r0 = r0,\n",
    "   maxdeg = maxdeg, rcut = rcut,\n",
    "   rin = 1.0* 0.5,\n",
    "   constants = false);\n",
    "println(\"Feature size :\",length(B))"
   ]
  },
  {
   "cell_type": "code",
   "execution_count": 113,
   "metadata": {},
   "outputs": [
    {
     "name": "stderr",
     "output_type": "stream",
     "text": [
      "\u001b[32mComputing descriptor for structure 100%|████████████████| Time: 0:00:12\u001b[39m\n",
      "\u001b[32mComputing desc. der. for structure 100%|████████████████| Time: 0:06:34\u001b[39m\n"
     ]
    }
   ],
   "source": [
    "# Generate descriptors and extract data\n",
    "\n",
    "XE, YE, XF, YF, nat = extract_info(B, all_traj);"
   ]
  },
  {
   "cell_type": "code",
   "execution_count": 124,
   "metadata": {},
   "outputs": [
    {
     "ename": "LoadError",
     "evalue": "MethodError: no method matching fit(::Type{ZScoreTransform}, ::Vector{Any}; dims=1)\n\u001b[0mClosest candidates are:\n\u001b[0m  fit(\u001b[91m::StatisticalModel\u001b[39m, ::Any...) at /home/users/anellia/.julia/packages/StatsBase/DU1bT/src/statmodels.jl:178\u001b[91m got unsupported keyword argument \"dims\"\u001b[39m\n\u001b[0m  fit(\u001b[91m::Type{D}\u001b[39m, ::Any) where D<:Distributions.Distribution at /home/users/anellia/.julia/packages/Distributions/bawf4/src/genericfit.jl:33\u001b[91m got unsupported keyword argument \"dims\"\u001b[39m\n\u001b[0m  fit(\u001b[91m::Type{D}\u001b[39m, ::Any...) where D<:Distributions.Distribution at /home/users/anellia/.julia/packages/Distributions/bawf4/src/genericfit.jl:34\u001b[91m got unsupported keyword argument \"dims\"\u001b[39m\n\u001b[0m  ...",
     "output_type": "error",
     "traceback": [
      "MethodError: no method matching fit(::Type{ZScoreTransform}, ::Vector{Any}; dims=1)\n\u001b[0mClosest candidates are:\n\u001b[0m  fit(\u001b[91m::StatisticalModel\u001b[39m, ::Any...) at /home/users/anellia/.julia/packages/StatsBase/DU1bT/src/statmodels.jl:178\u001b[91m got unsupported keyword argument \"dims\"\u001b[39m\n\u001b[0m  fit(\u001b[91m::Type{D}\u001b[39m, ::Any) where D<:Distributions.Distribution at /home/users/anellia/.julia/packages/Distributions/bawf4/src/genericfit.jl:33\u001b[91m got unsupported keyword argument \"dims\"\u001b[39m\n\u001b[0m  fit(\u001b[91m::Type{D}\u001b[39m, ::Any...) where D<:Distributions.Distribution at /home/users/anellia/.julia/packages/Distributions/bawf4/src/genericfit.jl:34\u001b[91m got unsupported keyword argument \"dims\"\u001b[39m\n\u001b[0m  ...",
      "",
      "Stacktrace:",
      " [1] top-level scope",
      "   @ In[124]:7",
      " [2] eval",
      "   @ ./boot.jl:360 [inlined]",
      " [3] include_string(mapexpr::typeof(REPL.softscope), mod::Module, code::String, filename::String)",
      "   @ Base ./loading.jl:1094"
     ]
    }
   ],
   "source": [
    "# split\n",
    "\n",
    "XE_tr, XE_tst, YE_tr, YE_tst, XF_tr, XF_tst, YF_tr, YF_tst, nat_tr, nat_tst = train_test_split(\n",
    "    XE, YE, XF, YF, nat, test_size=0.1, random_state=10);"
   ]
  },
  {
   "cell_type": "code",
   "execution_count": 117,
   "metadata": {},
   "outputs": [
    {
     "name": "stdout",
     "output_type": "stream",
     "text": [
      "RMSE Energy [meV/atom]: 4.600640345439763\n",
      "RMSE Forces [eV/A]:     0.0385025063253788"
     ]
    }
   ],
   "source": [
    "# Fit and Predict\n",
    "reg = 1e-12;         # Ridge regularizer\n",
    "\n",
    "rr = fit_potential(XE_tr, YE_tr, XF_tr, YF_tr, reg)\n",
    "e_hat, f_hat = predict_potential(rr, XE_tst, XF_tst)\n",
    "\n",
    "rmse_e = mean((YE_tst./nat_tst .-  e_hat./nat_tst).^2).^0.5\n",
    "print(\"RMSE Energy [meV/atom]: \", 1000*rmse_e)\n",
    "rmse_f = mean((hcat(YF_tst'...)' .-  f_hat).^2).^0.5\n",
    "print(\"\\nRMSE Forces [eV/A]:     \", rmse_f)\n",
    "\n",
    "plottingall = false\n",
    "if plottingall\n",
    "    pe = scatter( YE_tst./nat_tst, e_hat./nat_tst,title=\"Energies correlation\")\n",
    "    pf = scatter(hcat(YF_tst'...)' ,  f_hat,title=\"Forces correlation\")\n",
    "    plot(pe, pf, layout=(1,2), legend = false,size = (700, 350))\n",
    "end"
   ]
  },
  {
   "cell_type": "code",
   "execution_count": null,
   "metadata": {},
   "outputs": [],
   "source": []
  }
 ],
 "metadata": {
  "kernelspec": {
   "display_name": "Julia 1.6.0",
   "language": "julia",
   "name": "julia-1.6"
  },
  "language_info": {
   "file_extension": ".jl",
   "mimetype": "application/julia",
   "name": "julia",
   "version": "1.6.0"
  }
 },
 "nbformat": 4,
 "nbformat_minor": 4
}
