{
 "cells": [
  {
   "cell_type": "code",
   "execution_count": 1,
   "metadata": {},
   "outputs": [],
   "source": [
    "import julia\n",
    "julia.install()\n",
    "j = julia.Julia(compiled_modules=False)\n",
    "from julia import Main"
   ]
  },
  {
   "cell_type": "code",
   "execution_count": null,
   "metadata": {},
   "outputs": [],
   "source": [
    "Main.using(\"ACE: alloc_B, alloc_temp, evaluate!,alloc_dB, alloc_temp_d, evaluate_d!, rpi_basis, rnn\")\n",
    "Main.using(\"JuLIP: Chemistry.AtomicNumber\")\n",
    "Main.using(\"IPFitting.Data: read_xyz\")\n",
    "Main.include(\"utils.jl\");"
   ]
  },
  {
   "cell_type": "code",
   "execution_count": 5,
   "metadata": {},
   "outputs": [],
   "source": [
    "N = 8               # Body order\n",
    "maxdeg = 10         # Number of basis (?)\n",
    "rcut = 5.0          # Radial Cutoff\n",
    "r0 = 1.0            # Lowest radius for basis\n",
    "reg = 1e-8         # Ridge regularizer"
   ]
  },
  {
   "cell_type": "code",
   "execution_count": 22,
   "metadata": {},
   "outputs": [],
   "source": [
    "basis = Main.rpi_basis( N = N, r0 = r0,\n",
    "   maxdeg = maxdeg, rcut = rcut, species = 14,\n",
    "   rin = 1.0,constants = False)"
   ]
  },
  {
   "cell_type": "code",
   "execution_count": 35,
   "metadata": {},
   "outputs": [],
   "source": [
    "all_traj = Main.read_xyz(\"/home/claudio/postdoc/integrated_potentials/data/Si_2018/delta_silicon.xyz\", \n",
    "    energy_key=\"dft_energy\", force_key=\"dft_force\", verbose=False)"
   ]
  },
  {
   "cell_type": "code",
   "execution_count": null,
   "metadata": {},
   "outputs": [],
   "source": []
  }
 ],
 "metadata": {
  "kernelspec": {
   "display_name": "flare_dev",
   "language": "python",
   "name": "flare_dev"
  },
  "language_info": {
   "codemirror_mode": {
    "name": "ipython",
    "version": 3
   },
   "file_extension": ".py",
   "mimetype": "text/x-python",
   "name": "python",
   "nbconvert_exporter": "python",
   "pygments_lexer": "ipython3",
   "version": "3.8.10"
  }
 },
 "nbformat": 4,
 "nbformat_minor": 4
}
