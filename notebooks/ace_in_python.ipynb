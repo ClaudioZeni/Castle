{
 "cells": [
  {
   "cell_type": "code",
   "execution_count": 1,
   "metadata": {},
   "outputs": [],
   "source": [
    "import sys\n",
    "from ase.io import read\n",
    "sys.path.append(\"../src\")\n",
    "import julia_interface as ji"
   ]
  },
  {
   "cell_type": "code",
   "execution_count": 3,
   "metadata": {},
   "outputs": [],
   "source": [
    "N = 8               # Body order\n",
    "maxdeg = 10         # Number of basis (?)\n",
    "rcut = 5.0          # Radial Cutoff\n",
    "r0 = 1.0            # Lowest radius for basis\n",
    "reg = 1e-8          # Ridge regularizer\n",
    "species = 14        # Atomic number of species\n",
    "\n",
    "# Create julia basis\n",
    "basis = ji.get_basis(N, maxdeg, rcut, species, r0, reg)\n",
    "\n",
    "# Read as ASE python trajectory\n",
    "traj = read(\"/home/claudio/postdoc/integrated_potentials/data/Si_2018/delta_silicon.xyz\", index = ':')\n",
    "\n",
    "# Convert to ASE julia snapshot\n",
    "at = ji.convert_julia_at(traj[0], \"dft_energy\", \"dft_force\")\n",
    "\n",
    "# Get descriptors and derivatives\n",
    "XE, YE, XF, YF, nat = ji.extract_descriptors(basis, at)"
   ]
  },
  {
   "cell_type": "code",
   "execution_count": 11,
   "metadata": {},
   "outputs": [
    {
     "name": "stdout",
     "output_type": "stream",
     "text": [
      "CPU times: user 4.3 ms, sys: 3 µs, total: 4.3 ms\n",
      "Wall time: 4.28 ms\n"
     ]
    }
   ],
   "source": [
    "# Time test\n",
    "%time at = ji.convert_julia_at(traj[0], \"dft_energy\", \"dft_force\")"
   ]
  },
  {
   "cell_type": "code",
   "execution_count": 12,
   "metadata": {},
   "outputs": [
    {
     "name": "stdout",
     "output_type": "stream",
     "text": [
      "CPU times: user 1.13 ms, sys: 0 ns, total: 1.13 ms\n",
      "Wall time: 1.13 ms\n"
     ]
    }
   ],
   "source": [
    "%time XE, YE, XF, YF, nat = ji.extract_descriptors(basis, at)"
   ]
  },
  {
   "cell_type": "code",
   "execution_count": null,
   "metadata": {},
   "outputs": [],
   "source": []
  }
 ],
 "metadata": {
  "kernelspec": {
   "display_name": "flare_dev",
   "language": "python",
   "name": "flare_dev"
  },
  "language_info": {
   "codemirror_mode": {
    "name": "ipython",
    "version": 3
   },
   "file_extension": ".py",
   "mimetype": "text/x-python",
   "name": "python",
   "nbconvert_exporter": "python",
   "pygments_lexer": "ipython3",
   "version": "3.8.10"
  }
 },
 "nbformat": 4,
 "nbformat_minor": 4
}
