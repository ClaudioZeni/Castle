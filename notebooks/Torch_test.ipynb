{
 "cells": [
  {
   "cell_type": "code",
   "execution_count": 1,
   "metadata": {},
   "outputs": [
    {
     "name": "stderr",
     "output_type": "stream",
     "text": [
      "/home/claudio/.local/lib/python3.8/site-packages/julia/core.py:687: FutureWarning: Accessing `Julia().<name>` to obtain Julia objects is deprecated.  Use `from julia import Main; Main.<name>` or `jl = Julia(); jl.eval('<name>')`.\n",
      "  warnings.warn(\n"
     ]
    }
   ],
   "source": [
    "from ase.io import read\n",
    "import numpy as np\n",
    "import sys\n",
    "from matplotlib import pyplot as plt\n",
    "\n",
    "import joblib\n",
    "import pickle\n",
    "sys.path.insert(0,\"../\")\n",
    "from castle import train_ensamble_linear_model, ASEMLCalculator, AceGlobalRepresentation, train_linear_model\n",
    "from castle import get_forces_and_energies, get_virials, get_nat, dump, load, print_score\n",
    "\n",
    "import torch\n",
    "from torch.autograd import Variable\n",
    "import torch.nn.functional as F\n",
    "import torch.utils.data as Data\n",
    "\n",
    "def split_dataset(N, training_percentage, seed=20):\n",
    "    np.random.seed(seed)\n",
    "    ids = list(range(N))\n",
    "    np.random.shuffle(ids)\n",
    "    return ids[:int(training_percentage*N)], ids[int(training_percentage*N):]\n",
    "\n",
    "%load_ext autoreload\n",
    "%autoreload 2"
   ]
  },
  {
   "cell_type": "code",
   "execution_count": 2,
   "metadata": {},
   "outputs": [
    {
     "name": "stdout",
     "output_type": "stream",
     "text": [
      "{'crack_110_1-10', 'crack_111_1-10', 'amorph', 'isolated_atom', 'surface_111_pandey', 'vacancy', 'divacancy', 'sp', 'bcc', 'interstitial', 'surface_111_3x3_das', 'dia', 'fcc', 'hcp', 'surface_110', 'bc8', 'decohesion', 'st12', 'screw_disloc', 'bt', 'surface_001', 'liq', 'sp2', 'hex_diamond', 'sh', '111adatom', 'surface_111'}\n"
     ]
    }
   ],
   "source": [
    "# Load xyz data\n",
    "input_file =  \"/home/claudio/postdoc/integrated_potentials/data/Si_2018/delta_silicon.xyz\"\n",
    "frames_ = read(input_file, index = ':')\n",
    "    \n",
    "# Wrap positions so rascal does not complain\n",
    "for ff in frames_:\n",
    "    ff.wrap(eps=1e-11)\n",
    "energy_name = 'dft_energy'\n",
    "force_name = 'dft_force'\n",
    "virial_name = 'dft_virial'\n",
    "\n",
    "\n",
    "tags = set()\n",
    "for ff in frames_:\n",
    "    tags.add(ff.info['config_type'])\n",
    "print(tags)\n",
    "\n",
    "# build a potential for diamond phase only\n",
    "frames = []\n",
    "for ff in frames_:\n",
    "    if ff.info['config_type'] in ['amorph', 'bt', 'dia', 'liq', 'fcc', 'bcc', 'hcp', 'hex_diamond']:\n",
    "        try:\n",
    "            len(ff.info['dft_virial'])\n",
    "            frames.append(ff)\n",
    "        except KeyError:\n",
    "            pass\n",
    "        \n",
    "        \n",
    "# Create training and validation set\n",
    "tr_ind, val_ind = split_dataset(len(frames), 0.8)\n",
    "tr_frames = [frames[s] for s in tr_ind]\n",
    "val_frames = [frames[s] for s in val_ind]\n",
    "e_t, f_t = get_forces_and_energies(tr_frames, energy_name = energy_name, force_name = force_name)\n",
    "e_val, f_val = get_forces_and_energies(val_frames, energy_name = energy_name, force_name = force_name)\n",
    "s_val = get_virials(val_frames, virial_name)\n",
    "nat_val = get_nat(val_frames)\n",
    "\n",
    "N = 8               # Body order\n",
    "maxdeg = 10         # Number of basis (?)\n",
    "rcut = 5.0          # Radial Cutoff\n",
    "r0 = 1.0            # Lowest radius for basis\n",
    "reg = 1e-8          # Ridge regularizer\n",
    "species = 14        # Atomic number of species\n",
    "\n",
    "features = load('./features.xz')\n",
    "\n",
    "# representation = AceGlobalRepresentation(N, maxdeg, rcut, species, r0, reg, \n",
    "#                                          energy_name=energy_name, force_name=force_name, virial_name=virial_name)\n",
    "\n",
    "# #  compute features\n",
    "# features = representation.transform(frames)"
   ]
  },
  {
   "cell_type": "code",
   "execution_count": 3,
   "metadata": {},
   "outputs": [],
   "source": [
    "# cuda = torch.device('cuda:0')\n",
    "\n",
    "tr_features = features.get_subset(tr_ind)\n",
    "val_features = features.get_subset(val_ind)\n",
    "x = torch.from_numpy(tr_features.dX_dr.reshape((tr_features.dX_dr.shape[0], tr_features.dX_dr.shape[2]*3))).float()#.cuda()\n",
    "y = torch.from_numpy(f_t).float()#.cuda()"
   ]
  },
  {
   "cell_type": "code",
   "execution_count": 4,
   "metadata": {},
   "outputs": [
    {
     "name": "stdout",
     "output_type": "stream",
     "text": [
      "tensor(0.6614, grad_fn=<MseLossBackward>)\n",
      "tensor(0.0818, grad_fn=<MseLossBackward>)\n",
      "tensor(0.0970, grad_fn=<MseLossBackward>)\n",
      "tensor(0.0514, grad_fn=<MseLossBackward>)\n",
      "tensor(0.0609, grad_fn=<MseLossBackward>)\n",
      "tensor(0.0514, grad_fn=<MseLossBackward>)\n",
      "tensor(0.0667, grad_fn=<MseLossBackward>)\n",
      "tensor(0.0411, grad_fn=<MseLossBackward>)\n",
      "tensor(0.0348, grad_fn=<MseLossBackward>)\n",
      "tensor(0.0414, grad_fn=<MseLossBackward>)\n",
      "tensor(0.0290, grad_fn=<MseLossBackward>)\n",
      "tensor(0.0299, grad_fn=<MseLossBackward>)\n",
      "tensor(0.0501, grad_fn=<MseLossBackward>)\n",
      "tensor(0.0240, grad_fn=<MseLossBackward>)\n",
      "tensor(0.0357, grad_fn=<MseLossBackward>)\n",
      "tensor(0.0266, grad_fn=<MseLossBackward>)\n",
      "tensor(0.0203, grad_fn=<MseLossBackward>)\n",
      "tensor(0.0239, grad_fn=<MseLossBackward>)\n",
      "tensor(0.0224, grad_fn=<MseLossBackward>)\n",
      "tensor(0.0157, grad_fn=<MseLossBackward>)\n"
     ]
    }
   ],
   "source": [
    "net = torch.nn.Sequential(\n",
    "        torch.nn.Linear(630, 100),\n",
    "        torch.nn.LeakyReLU(),\n",
    "        torch.nn.Linear(100, 3),\n",
    "    )#.cuda()\n",
    "\n",
    "optimizer = torch.optim.Adam(net.parameters(), lr = 1e-5)\n",
    "loss_func = torch.nn.MSELoss()  # this is for regression mean squared loss\n",
    "\n",
    "BATCH_SIZE = 512\n",
    "EPOCH = 200\n",
    "\n",
    "torch_dataset = Data.TensorDataset(x, y)\n",
    "\n",
    "loader = Data.DataLoader(\n",
    "    dataset=torch_dataset, \n",
    "    batch_size=BATCH_SIZE, \n",
    "    shuffle=True, num_workers=2)\n",
    "\n",
    "# start training\n",
    "for epoch in range(EPOCH):\n",
    "    for step, (batch_x, batch_y) in enumerate(loader): # for each training step\n",
    "        b_x = Variable(batch_x)#.cuda()\n",
    "        b_y = Variable(batch_y)#.cuda()\n",
    "        prediction = net(b_x)     # input x and predict based on x\n",
    "        loss = loss_func(prediction, b_y)     # must be (1. nn output, 2. target)\n",
    "        optimizer.zero_grad()   # clear gradients for next train\n",
    "        loss.backward()         # backpropagation, compute gradients\n",
    "        optimizer.step()        # apply gradients\n",
    "    if epoch%10 == 0:\n",
    "        print(loss)"
   ]
  },
  {
   "cell_type": "code",
   "execution_count": 5,
   "metadata": {},
   "outputs": [
    {
     "data": {
      "image/png": "[encoded data removed]",
      "text/plain": [
       "<Figure size 432x288 with 1 Axes>"
      ]
     },
     "metadata": {
      "needs_background": "light"
     },
     "output_type": "display_data"
    }
   ],
   "source": [
    "X = torch.from_numpy(val_features.dX_dr.reshape((val_features.dX_dr.shape[0], val_features.dX_dr.shape[2]*3))).float()#.cuda()\n",
    "y_hat = net(X)\n",
    "y_val = torch.from_numpy(f_val).float()\n",
    "plt.scatter(y_val.detach().numpy(), y_hat.detach().numpy())\n",
    "plt.plot(y_val.detach().numpy(), y_val.detach().numpy(), 'k--')\n",
    "plt.text(-2, 4, \"RMSE %.3f eV/A\" %(torch.mean(torch.sum((y_hat - y_val)**2, axis =1)).detach().numpy())**0.5, fontsize = 15)\n",
    "plt.show()"
   ]
  },
  {
   "cell_type": "code",
   "execution_count": 7,
   "metadata": {},
   "outputs": [],
   "source": [
    "from torchvision import datasets, transforms\n",
    "from torch.utils.data import Dataset, DataLoader\n",
    "\n",
    "class MyDataset(Dataset):\n",
    "    def __init__(self, x, y):\n",
    "        self.set = Data.TensorDataset(x, y)\n",
    "        \n",
    "    def __getitem__(self, index):\n",
    "        data, target = self.set[index]        \n",
    "        return data, target, index\n",
    "\n",
    "    def __len__(self):\n",
    "        return len(self.set)"
   ]
  },
  {
   "cell_type": "code",
   "execution_count": null,
   "metadata": {},
   "outputs": [
    {
     "name": "stdout",
     "output_type": "stream",
     "text": [
      "tensor(1.0001e+12, grad_fn=<AddBackward0>)\n",
      "tensor(1.8360e+12, grad_fn=<AddBackward0>)\n",
      "tensor(7.4376e+11, grad_fn=<AddBackward0>)\n",
      "tensor(6.1416e+11, grad_fn=<AddBackward0>)\n",
      "tensor(1.7776e+11, grad_fn=<AddBackward0>)\n",
      "tensor(2.4074e+11, grad_fn=<AddBackward0>)\n",
      "tensor(1.1230e+11, grad_fn=<AddBackward0>)\n"
     ]
    },
    {
     "ename": "KeyboardInterrupt",
     "evalue": "",
     "output_type": "error",
     "traceback": [
      "\u001b[0;31m---------------------------------------------------------------------------\u001b[0m",
      "\u001b[0;31mKeyboardInterrupt\u001b[0m                         Traceback (most recent call last)",
      "\u001b[0;32m<ipython-input-14-1f579bb65545>\u001b[0m in \u001b[0;36m<module>\u001b[0;34m\u001b[0m\n\u001b[1;32m     36\u001b[0m             \u001b[0mpred_en\u001b[0m\u001b[0;34m[\u001b[0m\u001b[0mi\u001b[0m\u001b[0;34m]\u001b[0m\u001b[0;34m.\u001b[0m\u001b[0mbackward\u001b[0m\u001b[0;34m(\u001b[0m\u001b[0mgradient\u001b[0m\u001b[0;34m=\u001b[0m\u001b[0mgrd\u001b[0m\u001b[0;34m,\u001b[0m \u001b[0mretain_graph\u001b[0m\u001b[0;34m=\u001b[0m\u001b[0;32mTrue\u001b[0m\u001b[0;34m)\u001b[0m\u001b[0;34m\u001b[0m\u001b[0;34m\u001b[0m\u001b[0m\n\u001b[1;32m     37\u001b[0m             \u001b[0mb_dx\u001b[0m \u001b[0;34m=\u001b[0m \u001b[0mtorch\u001b[0m\u001b[0;34m.\u001b[0m\u001b[0mfrom_numpy\u001b[0m\u001b[0;34m(\u001b[0m\u001b[0mxf\u001b[0m\u001b[0;34m[\u001b[0m\u001b[0mii\u001b[0m\u001b[0;34m]\u001b[0m\u001b[0;34m)\u001b[0m\u001b[0;34m\u001b[0m\u001b[0;34m\u001b[0m\u001b[0m\n\u001b[0;32m---> 38\u001b[0;31m             \u001b[0myf_pred\u001b[0m \u001b[0;34m=\u001b[0m \u001b[0;34m-\u001b[0m\u001b[0mtorch\u001b[0m\u001b[0;34m.\u001b[0m\u001b[0meinsum\u001b[0m\u001b[0;34m(\u001b[0m\u001b[0;34m's, mcs -> mc'\u001b[0m\u001b[0;34m,\u001b[0m \u001b[0mb_x\u001b[0m\u001b[0;34m[\u001b[0m\u001b[0mi\u001b[0m\u001b[0;34m]\u001b[0m\u001b[0;34m.\u001b[0m\u001b[0mfloat\u001b[0m\u001b[0;34m(\u001b[0m\u001b[0;34m)\u001b[0m\u001b[0;34m,\u001b[0m \u001b[0mb_dx\u001b[0m\u001b[0;34m.\u001b[0m\u001b[0mfloat\u001b[0m\u001b[0;34m(\u001b[0m\u001b[0;34m)\u001b[0m\u001b[0;34m)\u001b[0m\u001b[0;34m\u001b[0m\u001b[0;34m\u001b[0m\u001b[0m\n\u001b[0m\u001b[1;32m     39\u001b[0m             \u001b[0mloss\u001b[0m \u001b[0;34m+=\u001b[0m \u001b[0mloss_force\u001b[0m\u001b[0;34m(\u001b[0m\u001b[0myf_pred\u001b[0m\u001b[0;34m,\u001b[0m \u001b[0mtorch\u001b[0m\u001b[0;34m.\u001b[0m\u001b[0mfrom_numpy\u001b[0m\u001b[0;34m(\u001b[0m\u001b[0myf\u001b[0m\u001b[0;34m[\u001b[0m\u001b[0mii\u001b[0m\u001b[0;34m]\u001b[0m\u001b[0;34m)\u001b[0m\u001b[0;34m.\u001b[0m\u001b[0mfloat\u001b[0m\u001b[0;34m(\u001b[0m\u001b[0;34m)\u001b[0m\u001b[0;34m)\u001b[0m\u001b[0;34m\u001b[0m\u001b[0;34m\u001b[0m\u001b[0m\n\u001b[1;32m     40\u001b[0m         \u001b[0moptimizer\u001b[0m\u001b[0;34m.\u001b[0m\u001b[0mzero_grad\u001b[0m\u001b[0;34m(\u001b[0m\u001b[0;34m)\u001b[0m   \u001b[0;31m# clear gradients for next train\u001b[0m\u001b[0;34m\u001b[0m\u001b[0;34m\u001b[0m\u001b[0m\n",
      "\u001b[0;31mKeyboardInterrupt\u001b[0m: "
     ]
    }
   ],
   "source": [
    "x = torch.from_numpy(tr_features.X).float()#.cuda()\n",
    "y = torch.from_numpy(e_t.reshape(-1, 1)).float()#.cuda()\n",
    "xf = [tr_features.dX_dr[s1:s2] for (s1, s2) in zip(tr_features.strides[:-1], tr_features.strides[1:])]\n",
    "yf = [f_t[s1:s2] for (s1, s2) in zip(tr_features.strides[:-1], tr_features.strides[1:])]\n",
    "\n",
    "x.requires_grad=True\n",
    "net = torch.nn.Sequential(\n",
    "        torch.nn.Linear(210, 100),\n",
    "        torch.nn.LeakyReLU(),\n",
    "        torch.nn.Linear(100, 1),\n",
    "    )#.cuda()\n",
    "\n",
    "optimizer = torch.optim.Adam(net.parameters(), lr = 1e-5)\n",
    "loss_en = torch.nn.MSELoss()  # this is for regression mean squared loss\n",
    "loss_force = torch.nn.MSELoss()  # this is for regression mean squared loss\n",
    "\n",
    "BATCH_SIZE = 32\n",
    "EPOCH = 200\n",
    "\n",
    "energy_dataset = MyDataset(x, y)\n",
    "loader = Data.DataLoader(\n",
    "    dataset=energy_dataset, \n",
    "    batch_size=BATCH_SIZE, \n",
    "    shuffle=True)\n",
    "\n",
    "    \n",
    "# start training\n",
    "for epoch in range(EPOCH):\n",
    "    for step, (batch_x, batch_y, idx) in enumerate(loader): # for each training step\n",
    "        b_x = Variable(batch_x)#.cuda()\n",
    "        b_y = Variable(batch_y)#.cuda()\n",
    "        pred_en = net(b_x)     # input x and predict based on x\n",
    "        loss = loss_en(pred_en, b_y)     # must be (1. nn output, 2. target)\n",
    "        for i, ii in enumerate(idx):\n",
    "            grd = torch.zeros((1)) \n",
    "            pred_en[i].backward(gradient=grd, retain_graph=True)\n",
    "            b_dx = torch.from_numpy(xf[ii])\n",
    "            yf_pred = -torch.einsum('s, mcs -> mc', b_x[i].float(), b_dx.float())\n",
    "            loss += loss_force(yf_pred, torch.from_numpy(yf[ii]).float())\n",
    "        optimizer.zero_grad()   # clear gradients for next train\n",
    "        loss.backward()         # backpropagation, compute gradients\n",
    "        optimizer.step()        # apply gradients\n",
    "    if epoch%10 == 0:\n",
    "        print(loss)"
   ]
  },
  {
   "cell_type": "code",
   "execution_count": 197,
   "metadata": {},
   "outputs": [
    {
     "name": "stdout",
     "output_type": "stream",
     "text": [
      "2 5\n"
     ]
    }
   ],
   "source": [
    "a = [1, 5, 4, 10, 3, 3, 7]\n",
    "target = 7\n",
    "d = { i : ii for ii, i in enumerate(a)}\n",
    "for i in d.keys():\n",
    "    try:\n",
    "        print(d[i], d[7-i])\n",
    "        break\n",
    "    except:\n",
    "        pass"
   ]
  },
  {
   "cell_type": "code",
   "execution_count": 198,
   "metadata": {},
   "outputs": [
    {
     "data": {
      "text/plain": [
       "[1, 5, 4, 10, 3, 3, 7, 0, 0, 0, 0, 0, 0, 0, 0, 0, 0]"
      ]
     },
     "execution_count": 198,
     "metadata": {},
     "output_type": "execute_result"
    }
   ],
   "source": [
    "a.extend([0]*10)\n",
    "a"
   ]
  },
  {
   "cell_type": "code",
   "execution_count": 162,
   "metadata": {},
   "outputs": [
    {
     "ename": "SyntaxError",
     "evalue": "invalid syntax (<ipython-input-162-b84e432485b5>, line 1)",
     "output_type": "error",
     "traceback": [
      "\u001b[0;36m  File \u001b[0;32m\"<ipython-input-162-b84e432485b5>\"\u001b[0;36m, line \u001b[0;32m1\u001b[0m\n\u001b[0;31m    .shapeX = torch.from_numpy(val_features.X).float()#.cuda()\u001b[0m\n\u001b[0m    ^\u001b[0m\n\u001b[0;31mSyntaxError\u001b[0m\u001b[0;31m:\u001b[0m invalid syntax\n"
     ]
    }
   ],
   "source": [
    "X = torch.from_numpy(val_features.X).float()#.cuda()\n",
    "y_hat = net(X)\n",
    "y_val = torch.from_numpy(e_val).float()\n",
    "plt.scatter(y_val.detach().numpy(), y_hat.detach().numpy())\n",
    "plt.plot(y_val.detach().numpy(), y_val.detach().numpy(), 'k--')\n",
    "plt.text(-2, 4, \"RMSE %.3f eV/A\" %(torch.mean(torch.sum((y_hat - y_val)**2, axis =1)).detach().numpy())**0.5, fontsize = 15)\n",
    "plt.show()"
   ]
  },
  {
   "cell_type": "code",
   "execution_count": null,
   "metadata": {},
   "outputs": [],
   "source": []
  }
 ],
 "metadata": {
  "kernelspec": {
   "display_name": "cosmo",
   "language": "python",
   "name": "cosmo"
  },
  "language_info": {
   "codemirror_mode": {
    "name": "ipython",
    "version": 3
   },
   "file_extension": ".py",
   "mimetype": "text/x-python",
   "name": "python",
   "nbconvert_exporter": "python",
   "pygments_lexer": "ipython3",
   "version": "3.8.10"
  }
 },
 "nbformat": 4,
 "nbformat_minor": 4
}
