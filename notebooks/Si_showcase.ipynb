{
 "cells": [
  {
   "cell_type": "markdown",
   "metadata": {},
   "source": [
    "# BEFORE YOU START\n",
    "\n",
    "* Make sure you have the latest julia, julip, ace, installed\n",
    "* Change the JULIA_UTILS_PATH in ace_interface.py to point to your castle folder\n",
    "* Copy the delta_silicon.xyz data to \"../data/Si_2018/delta_silicon.xyz\""
   ]
  },
  {
   "cell_type": "code",
   "execution_count": 45,
   "metadata": {
    "tags": []
   },
   "outputs": [
    {
     "name": "stdout",
     "output_type": "stream",
     "text": [
      "The autoreload extension is already loaded. To reload it, use:\n",
      "  %reload_ext autoreload\n"
     ]
    }
   ],
   "source": [
    "from ase.io import read\n",
    "import numpy as np\n",
    "from matplotlib import pyplot as plt\n",
    "import joblib, pickle, sys\n",
    "\n",
    "sys.path.insert(0,\"/home/claudio/postdoc/Castle/\")\n",
    "from castle import ASEMLCalculator, AceGlobalRepresentation, AceLocalRepresentation, LPEnsamble, LinearPotential\n",
    "from castle import get_forces_and_energies, get_virials, get_nat, dump, load, print_score, utils\n",
    "\n",
    "def split_dataset(N, training_percentage, seed=20):\n",
    "    np.random.seed(seed)\n",
    "    ids = list(range(N))\n",
    "    np.random.shuffle(ids)\n",
    "    return ids[:int(training_percentage*N)], ids[int(training_percentage*N):]\n",
    "\n",
    "%load_ext autoreload\n",
    "%autoreload 2"
   ]
  },
  {
   "cell_type": "markdown",
   "metadata": {},
   "source": [
    "# Load structures"
   ]
  },
  {
   "cell_type": "code",
   "execution_count": 46,
   "metadata": {},
   "outputs": [],
   "source": [
    "# Load xyz data\n",
    "input_file =  \"../data/Si_2018/delta_silicon.xyz\"\n",
    "input_file =  \"../data/Si_2018/delta_silicon.xyz\"\n",
    "\n",
    "frames_ = read(input_file, index = ':')\n",
    "    \n",
    "# Wrap positions so rascal does not complain\n",
    "for ff in frames_:\n",
    "    ff.wrap(eps=1e-11)\n",
    "energy_name = 'dft_energy'\n",
    "force_name = 'dft_force'\n",
    "virial_name = 'dft_virial'"
   ]
  },
  {
   "cell_type": "code",
   "execution_count": 47,
   "metadata": {},
   "outputs": [
    {
     "name": "stdout",
     "output_type": "stream",
     "text": [
      "{'hcp', 'screw_disloc', 'divacancy', 'sh', 'sp', 'decohesion', 'bc8', 'isolated_atom', 'crack_110_1-10', 'dia', 'vacancy', 'liq', 'surface_001', 'bt', 'fcc', 'bcc', 'surface_110', 'interstitial', 'amorph', 'surface_111_pandey', 'sp2', 'crack_111_1-10', 'st12', 'surface_111_3x3_das', '111adatom', 'surface_111', 'hex_diamond'}\n"
     ]
    }
   ],
   "source": [
    "tags = set()\n",
    "for ff in frames_:\n",
    "    tags.add(ff.info['config_type'])\n",
    "print(tags)"
   ]
  },
  {
   "cell_type": "code",
   "execution_count": 48,
   "metadata": {},
   "outputs": [],
   "source": [
    "frames = []\n",
    "for ff in frames_:\n",
    "    # if ff.info['config_type'] in ['amorph', 'bt', 'dia', 'liq', 'fcc', 'bcc', 'hcp', 'hex_diamond']:\n",
    "    try:\n",
    "        len(ff.info['dft_virial'])\n",
    "        frames.append(ff)\n",
    "    except KeyError:\n",
    "        pass"
   ]
  },
  {
   "cell_type": "markdown",
   "metadata": {},
   "source": [
    "# Build a model"
   ]
  },
  {
   "cell_type": "markdown",
   "metadata": {},
   "source": [
    "Compute representation"
   ]
  },
  {
   "cell_type": "code",
   "execution_count": 49,
   "metadata": {},
   "outputs": [],
   "source": [
    "# Create training and validation set\n",
    "tr_ind, val_ind = split_dataset(len(frames), 0.8)\n",
    "tr_frames = [frames[s] for s in tr_ind]\n",
    "val_frames = [frames[s] for s in val_ind]\n",
    "e_t, f_t = get_forces_and_energies(tr_frames, energy_name = energy_name, force_name = force_name)\n",
    "e_val, f_val = get_forces_and_energies(val_frames, energy_name = energy_name, force_name = force_name)\n",
    "s_val = get_virials(val_frames, virial_name)\n",
    "nat_val = get_nat(val_frames)\n",
    "\n",
    "N = 5               # Body order\n",
    "maxdeg = 10         # Maximum degree of angular and radial expansion\n",
    "rcut = 5.0          # Radial Cutoff\n",
    "r0 = 1.0            # Lowest radius for basis\n",
    "reg = 1e-8          # Ridge regularizer\n",
    "species = 14        # Atomic number of species present\n",
    "\n",
    "\n",
    "representation = AceGlobalRepresentation(N, maxdeg, rcut, species, r0, reg, \n",
    "                                         energy_name=energy_name, force_name=force_name, virial_name=virial_name)"
   ]
  },
  {
   "cell_type": "code",
   "execution_count": null,
   "metadata": {},
   "outputs": [],
   "source": [
    "# #  compute features\n",
    "features = representation.transform(frames)\n",
    "# #  save them\n",
    "dump(input_file[:-4] + \"_features.xz\", features)"
   ]
  },
  {
   "cell_type": "markdown",
   "metadata": {},
   "source": [
    "## Train a linear model"
   ]
  },
  {
   "cell_type": "code",
   "execution_count": null,
   "metadata": {},
   "outputs": [],
   "source": [
    "# load the features\n",
    "features = load(input_file[:-4] + \"_features.xz\")\n",
    "noise = 1e-6\n",
    "# get the subset of features for training\n",
    "tr_features = features.get_subset(tr_ind)\n",
    "# train the model\n",
    "model_lin = LinearPotential(representation)\n",
    "model_lin.fit_from_features(tr_features, noise, e_t, f_t)"
   ]
  },
  {
   "cell_type": "code",
   "execution_count": null,
   "metadata": {},
   "outputs": [],
   "source": [
    "# evaluate its performances\n",
    "val_features = features.get_subset(val_ind)\n",
    "%time predictions = model_lin.predict_from_features(val_features, forces=True)\n",
    "ep, fp = predictions['energy'], predictions['forces']\n",
    "print_score(ep/nat_val, e_val/nat_val)\n",
    "print_score(fp.flatten(), f_val.flatten())\n",
    "# print_score(vp.flatten(), s_val.flatten())\n",
    "\n",
    "plt.scatter(e_val/nat_val, ep/nat_val)\n",
    "plt.plot(e_val/nat_val, e_val/nat_val, 'k--')\n",
    "plt.xlabel(\"True Energy [eV/atom]\")\n",
    "plt.ylabel(\"Predicted Energy [eV/atom]\")\n",
    "plt.show()\n",
    "\n",
    "plt.figure(figsize = (3.5, 2.5))\n",
    "plt.hist2d(np.ravel(f_val), np.ravel(fp), cmin = 1e-12, bins = 100, cmap = 'viridis')\n",
    "plt.plot(f_val, f_val, 'k--')\n",
    "plt.xlim(-5, 5)\n",
    "plt.ylim(-5, 5)\n",
    "plt.xlabel(\"True Force [eV/$\\AA$]\")\n",
    "plt.ylabel(\"Predicted Force [eV/$\\AA$]\")\n",
    "plt.tight_layout()\n",
    "plt.savefig(\"../../plots/Si_linear.png\", dpi=400)"
   ]
  },
  {
   "cell_type": "markdown",
   "metadata": {},
   "source": [
    "## train an ensemble of linear models"
   ]
  },
  {
   "cell_type": "code",
   "execution_count": null,
   "metadata": {},
   "outputs": [],
   "source": [
    "# features = load(input_file[:-4] + \"_features.xz\")"
   ]
  },
  {
   "cell_type": "code",
   "execution_count": null,
   "metadata": {},
   "outputs": [],
   "source": [
    "noise = 1e-8\n",
    "n_clusters = 8\n",
    "clustering_type = 'kmeans'\n",
    "# get the subset of features for training\n",
    "tr_features = features.get_subset(tr_ind)\n",
    "# train the model\n",
    "model_ens =  LPEnsamble(representation, n_clusters=n_clusters, clustering_type=clustering_type, baseline_percentile=0)\n",
    "model_ens.fit_from_features(tr_features, e_t, f_t, noise)\n",
    "\n",
    "# evaluate its performances\n",
    "val_features = features.get_subset(val_ind)\n",
    "%time predictions = model_ens.predict_from_features(val_features, forces=True)\n",
    "ep, fp = predictions['energy'], predictions['forces']\n",
    "# vp = model.predict_stress(val_features)\n",
    "\n",
    "print_score(ep/nat_val, e_val/nat_val)\n",
    "print_score(fp.flatten(), f_val.flatten())\n",
    "# print_score(vp.flatten(), s_val.flatten())\n",
    "\n",
    "plt.scatter(e_val/nat_val, ep/nat_val)\n",
    "plt.plot(e_val/nat_val, e_val/nat_val, 'k--')\n",
    "plt.xlabel(\"True Energy [eV/atom]\")\n",
    "plt.ylabel(\"Predicted Energy [eV/atom]\")\n",
    "plt.show()\n",
    "\n",
    "plt.figure(figsize = (3.5, 2.5))\n",
    "plt.hist2d(np.ravel(f_val), np.ravel(fp), cmin = 1e-12, bins = 100, cmap = 'viridis')\n",
    "plt.plot(f_val, f_val, 'k--')\n",
    "plt.xlim(-5, 5)\n",
    "plt.ylim(-5, 5)\n",
    "plt.xlabel(\"True Force [eV/$\\AA$]\")\n",
    "plt.ylabel(\"Predicted Force [eV/$\\AA$]\")\n",
    "plt.tight_layout()\n",
    "plt.savefig(\"../../plots/Si_ensemble.png\", dpi=400)"
   ]
  },
  {
   "cell_type": "code",
   "execution_count": null,
   "metadata": {},
   "outputs": [],
   "source": [
    "plt.figure(figsize = (12, 6))\n",
    "plt.plot(model_lin.weights, 'k-', lw = 4)\n",
    "for n in model_ens.potentials.keys():\n",
    "    plt.plot(model_ens.potentials[n].weights)\n",
    "    print(np.linalg.norm(model_ens.potentials[n].weights))\n",
    "plt.show()"
   ]
  },
  {
   "cell_type": "code",
   "execution_count": null,
   "metadata": {},
   "outputs": [],
   "source": [
    "plt.hist(model_ens.clustering.labels, bins = np.linspace(-0.5, n_clusters - 0.5, n_clusters+1))\n",
    "plt.yscale('log')\n",
    "plt.ylim(9e-1, 1000)\n",
    "plt.show()"
   ]
  },
  {
   "cell_type": "code",
   "execution_count": null,
   "metadata": {},
   "outputs": [],
   "source": [
    "# # save the model\n",
    "# dump('./model.xz',model)"
   ]
  },
  {
   "cell_type": "markdown",
   "metadata": {},
   "source": [
    "# use the model for cell optimization"
   ]
  },
  {
   "cell_type": "code",
   "execution_count": null,
   "metadata": {},
   "outputs": [],
   "source": [
    "from ase.lattice.cubic import FaceCenteredCubic, Diamond\n",
    "from scipy.optimize import leastsq, minimize\n",
    "from ase.build import bulk\n",
    "from ase.optimize import LBFGS\n",
    "from ase.optimize import FIRE\n",
    "from ase.optimize import MDMin\n",
    "from ase.md.langevin import Langevin\n",
    "from ase import constraints\n",
    "from ase.constraints import StrainFilter"
   ]
  },
  {
   "cell_type": "code",
   "execution_count": null,
   "metadata": {},
   "outputs": [],
   "source": [
    "calc = ASEMLCalculator(model_lin)"
   ]
  },
  {
   "cell_type": "code",
   "execution_count": null,
   "metadata": {},
   "outputs": [],
   "source": [
    "latticeconstant = 5.5\n",
    "atoms = bulk('Si', 'diamond', a=latticeconstant, cubic=True)\n",
    "atoms.set_calculator(calc)\n",
    "filt = StrainFilter(atoms)\n",
    "opt = FIRE(filt)\n",
    "opt.run(5e-4)\n",
    "enRef = atoms.get_potential_energy()\n",
    "volRef = atoms.get_volume()\n",
    "atoms.get_cell(), enRef, volRef**(1/3)"
   ]
  },
  {
   "cell_type": "code",
   "execution_count": null,
   "metadata": {},
   "outputs": [],
   "source": []
  }
 ],
 "metadata": {
  "kernelspec": {
   "display_name": "Python 3 (ipykernel)",
   "language": "python",
   "name": "python3"
  },
  "language_info": {
   "codemirror_mode": {
    "name": "ipython",
    "version": 3
   },
   "file_extension": ".py",
   "mimetype": "text/x-python",
   "name": "python",
   "nbconvert_exporter": "python",
   "pygments_lexer": "ipython3",
   "version": "3.8.10"
  },
  "toc": {
   "base_numbering": 1,
   "nav_menu": {},
   "number_sections": true,
   "sideBar": true,
   "skip_h1_title": false,
   "title_cell": "Table of Contents",
   "title_sidebar": "Contents",
   "toc_cell": false,
   "toc_position": {
    "height": "calc(100% - 180px)",
    "left": "10px",
    "top": "150px",
    "width": "290px"
   },
   "toc_section_display": true,
   "toc_window_display": true
  }
 },
 "nbformat": 4,
 "nbformat_minor": 4
}
