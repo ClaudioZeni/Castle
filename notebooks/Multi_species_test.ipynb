{
 "cells": [
  {
   "cell_type": "code",
   "execution_count": 2,
   "id": "ad9f104d-03fc-40eb-bc8b-94e6d4494377",
   "metadata": {},
   "outputs": [],
   "source": [
    "from ase.io import read\n",
    "import numpy as np\n",
    "from matplotlib import pyplot as plt\n",
    "import joblib, pickle, sys\n",
    "sys.path.insert(0,\"/home/claudio/postdoc/Castle/\")\n",
    "from castle import ASEMLCalculator, AceGlobalRepresentation, AceLocalRepresentation, LPEnsamble, LinearPotential\n",
    "from castle import get_forces_and_energies, get_virials, get_nat, dump, load, print_score, utils\n",
    "\n",
    "def split_dataset(N, training_percentage, seed=20):\n",
    "    np.random.seed(seed)\n",
    "    ids = list(range(N))\n",
    "    np.random.shuffle(ids)\n",
    "    return ids[:int(training_percentage*N)], ids[int(training_percentage*N):]\n",
    "\n",
    "%load_ext autoreload\n",
    "%autoreload 2"
   ]
  },
  {
   "cell_type": "code",
   "execution_count": 3,
   "id": "c294ca0e-9c41-4886-9e6c-40fa90807c16",
   "metadata": {},
   "outputs": [],
   "source": [
    "# Load xyz data\n",
    "input_file =  \"/home/claudio/postdoc/data/water/train_all.xyz\"\n",
    "frames = read(input_file, index = ':')\n",
    "    \n",
    "energy_name = 'energy'\n",
    "force_name = 'force'"
   ]
  },
  {
   "cell_type": "code",
   "execution_count": 15,
   "id": "1c3555fb-1ef8-4b01-8a76-4a986f41d0ed",
   "metadata": {},
   "outputs": [],
   "source": [
    "# Create training and validation set\n",
    "tr_ind, val_ind = split_dataset(len(frames), 0.8)\n",
    "tr_frames = [frames[s] for s in tr_ind]\n",
    "val_frames = [frames[s] for s in val_ind]\n",
    "e_t, f_t = get_forces_and_energies(tr_frames, energy_name = energy_name, force_name = force_name)\n",
    "e_val, f_val = get_forces_and_energies(val_frames, energy_name = energy_name, force_name = force_name)\n",
    "nat_val = get_nat(val_frames)\n",
    "\n",
    "N = 4               # Body order\n",
    "maxdeg = 5          # Maximum degree of angular and radial expansion\n",
    "rcut = 6.0          # Radial Cutoff\n",
    "r0 = 0.2            # Lowest radius for basis\n",
    "reg = 1e-8          # Ridge regularizer\n",
    "species = [1, 8]    # Atomic number of species present\n",
    "\n",
    "representation = AceGlobalRepresentation(N, maxdeg, rcut, species, r0, reg, \n",
    "                                         energy_name=energy_name, force_name=force_name)"
   ]
  },
  {
   "cell_type": "code",
   "execution_count": null,
   "id": "5c683069-de24-41c4-bb8f-4ab3461606b9",
   "metadata": {},
   "outputs": [],
   "source": [
    "features = representation.transform(frames)\n",
    "# dump(input_file[:-4] + \"_features.xz\", features)"
   ]
  },
  {
   "cell_type": "code",
   "execution_count": null,
   "id": "41368f5f-1eb5-4307-83d4-bedb4b0b3258",
   "metadata": {},
   "outputs": [],
   "source": [
    "# features = load(input_file[:-4] + \"_features.xz\")"
   ]
  },
  {
   "cell_type": "code",
   "execution_count": null,
   "id": "f51e7453-b125-4b18-87a9-f7f023305c57",
   "metadata": {
    "tags": []
   },
   "outputs": [],
   "source": [
    "noise = 1e-6\n",
    "\n",
    "# get the subset of features for training\n",
    "tr_features = features.get_subset(tr_ind)\n",
    "val_features = features.get_subset(val_ind)"
   ]
  },
  {
   "cell_type": "code",
   "execution_count": null,
   "id": "3cdaf289-1484-49f9-a502-820a4109686e",
   "metadata": {},
   "outputs": [],
   "source": [
    "# Model parameters\n",
    "n_clusters = 5\n",
    "clustering_type = 'e_gmm'\n",
    "baseline_perc = 0\n",
    "noise = 1e-6\n",
    "\n",
    "# train the model\n",
    "model_ens =  LPEnsamble(n_clusters=n_clusters, clustering_type=clustering_type, baseline_percentile=baseline_perc)\n",
    "model_ens.fit_from_features(tr_features, e_t, f_t, noise)\n",
    "# evaluate its performances\n",
    "%time ep, fp = model_ens.predict_from_features(val_features)\n",
    "print_score(ep/nat_val, e_val/nat_val)\n",
    "print_score(fp.flatten(), f_val.flatten())\n",
    "\n",
    "plt.scatter(e_val/nat_val, ep/nat_val)\n",
    "plt.plot(e_val/nat_val, e_val/nat_val, 'k--')\n",
    "plt.xlabel(\"True Energy [eV/atom]\")\n",
    "plt.ylabel(\"Predicted Energy [eV/atom]\")\n",
    "plt.show()\n",
    "\n",
    "plt.scatter(f_val, fp)\n",
    "plt.plot(f_val, f_val, 'k--')\n",
    "plt.xlabel(\"True Force [eV/$\\AA$]\")\n",
    "plt.ylabel(\"Predicted Force [eV/$\\AA$]\")\n",
    "plt.show()"
   ]
  },
  {
   "cell_type": "code",
   "execution_count": null,
   "id": "adf00c25-3c70-411b-9545-bca860799425",
   "metadata": {},
   "outputs": [],
   "source": [
    "# evaluate its performances\n",
    "nat_tr = get_nat(tr_frames)\n",
    "\n",
    "%time ep, fp = model_ens.predict_from_features(tr_features)\n",
    "\n",
    "print_score(ep/nat_tr, e_t/nat_tr)\n",
    "print_score(fp.flatten(), f_t.flatten())\n",
    "\n",
    "plt.scatter(e_t/nat_tr, ep/nat_tr)\n",
    "plt.plot(e_t/nat_tr, e_t/nat_tr, 'k--')\n",
    "plt.xlabel(\"True Energy [eV/atom]\")\n",
    "plt.ylabel(\"Predicted Energy [eV/atom]\")\n",
    "plt.show()\n",
    "\n",
    "plt.scatter(np.ravel(f_t), np.ravel(fp))\n",
    "plt.plot(f_val, f_val, 'k--')\n",
    "plt.xlabel(\"True Force [eV/$\\AA$]\")\n",
    "plt.ylabel(\"Predicted Force [eV/$\\AA$]\")\n",
    "plt.tight_layout()\n",
    "# plt.savefig(\"../../plots/Si_linear.png\", dpi=400)"
   ]
  },
  {
   "cell_type": "code",
   "execution_count": null,
   "id": "c35d100c-f97e-4fd3-b4c5-70ce6b1327c7",
   "metadata": {},
   "outputs": [],
   "source": []
  }
 ],
 "metadata": {
  "kernelspec": {
   "display_name": "Python 3 (ipykernel)",
   "language": "python",
   "name": "python3"
  },
  "language_info": {
   "codemirror_mode": {
    "name": "ipython",
    "version": 3
   },
   "file_extension": ".py",
   "mimetype": "text/x-python",
   "name": "python",
   "nbconvert_exporter": "python",
   "pygments_lexer": "ipython3",
   "version": "3.8.10"
  }
 },
 "nbformat": 4,
 "nbformat_minor": 5
}
