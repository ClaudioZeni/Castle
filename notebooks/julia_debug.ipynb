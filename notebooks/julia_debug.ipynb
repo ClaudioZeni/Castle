{
 "cells": [
  {
   "cell_type": "code",
   "execution_count": 1,
   "metadata": {},
   "outputs": [
    {
     "name": "stderr",
     "output_type": "stream",
     "text": [
      "\u001b[32m\u001b[1m Activating\u001b[22m\u001b[39m environment at `~/postdoc/ACE.jl/Project.toml`\n",
      "┌ Info: Precompiling IPFitting [3002bd4c-79e4-52ce-b924-91256dde4e52]\n",
      "└ @ Base loading.jl:1278\n",
      "┌ Info: Skipping precompilation since __precompile__(false). Importing IPFitting [3002bd4c-79e4-52ce-b924-91256dde4e52].\n",
      "└ @ Base loading.jl:1034\n",
      "┌ Info: Precompiling ASE [51974c44-a7ed-5088-b8be-3e78c8ba416c]\n",
      "└ @ Base loading.jl:1278\n",
      "┌ Info: Skipping precompilation since __precompile__(false). Importing ASE [51974c44-a7ed-5088-b8be-3e78c8ba416c].\n",
      "└ @ Base loading.jl:1034\n"
     ]
    }
   ],
   "source": [
    "using Pkg\n",
    "Pkg.activate(\"/home/claudio/postdoc/ACE.jl/Project.toml\")\n",
    "\n",
    "using LinearAlgebra, Statistics, Random, ProgressMeter, ScikitLearn, PyPlot\n",
    "using ACE: alloc_B, alloc_temp, evaluate!,alloc_dB, alloc_temp_d, evaluate_d!, rpi_basis, rnn\n",
    "using NeighbourLists: maxneigs\n",
    "using JuLIP: sites, neighbourlist, cutoff, JVec, AbstractAtoms, fltype, AtomicNumber\n",
    "using JuLIP.Potentials: neigsz!\n",
    "using JuLIP.MLIPs: combine\n",
    "using IPFitting.Data: read_xyz\n",
    "using Einsum\n",
    "@sk_import linear_model: Ridge\n",
    "using ScikitLearn.CrossValidation: train_test_split"
   ]
  },
  {
   "cell_type": "code",
   "execution_count": 15,
   "metadata": {},
   "outputs": [
    {
     "data": {
      "text/plain": [
       "extract_info_frame (generic function with 1 method)"
      ]
     },
     "execution_count": 15,
     "metadata": {},
     "output_type": "execute_result"
    }
   ],
   "source": []
  },
  {
   "cell_type": "code",
   "execution_count": 16,
   "metadata": {},
   "outputs": [
    {
     "name": "stderr",
     "output_type": "stream",
     "text": [
      "┌ Info: Keys used: E => \"dft_energy\", F => \"dft_force\", V => \"dft_virial\"\n",
      "└ @ IPFitting.Data /home/claudio/.julia/packages/IPFitting/Ypo4v/src/data.jl:153\n",
      "\u001b[32mProgress: 100%|█████████████████████████████████████████| Time: 0:00:03\u001b[39m\n"
     ]
    },
    {
     "name": "stdout",
     "output_type": "stream",
     "text": [
      "┌─────────────────────┬───────┬────────┬───────┬────────┬───────┐\n",
      "│\u001b[1m         config_type \u001b[0m│\u001b[1m #cfgs \u001b[0m│\u001b[1m  #envs \u001b[0m│\u001b[1m    #E \u001b[0m│\u001b[1m     #F \u001b[0m│\u001b[1m    #V \u001b[0m│\n",
      "│\u001b[90m              String \u001b[0m│\u001b[90m Int64 \u001b[0m│\u001b[90m  Int64 \u001b[0m│\u001b[90m Int64 \u001b[0m│\u001b[90m  Int64 \u001b[0m│\u001b[90m Int64 \u001b[0m│\n",
      "├─────────────────────┼───────┼────────┼───────┼────────┼───────┤\n",
      "│       isolated_atom │     1 │      1 │     1 │      3 │     0 │\n",
      "│                  sh │   223 │   4552 │   223 │  13656 │  1467 │\n",
      "│                 dia │   489 │  16708 │   489 │  50124 │  4401 │\n",
      "│                  bt │   445 │  16620 │   445 │  49860 │  4005 │\n",
      "│                 liq │    76 │   5312 │    76 │  15936 │   630 │\n",
      "│              amorph │   159 │  29632 │   159 │  88896 │     0 │\n",
      "│         surface_001 │    29 │   4176 │    29 │  12528 │     0 │\n",
      "│         surface_110 │    26 │   2808 │    26 │   8424 │     0 │\n",
      "│         surface_111 │    47 │   4512 │    47 │  13536 │     0 │\n",
      "│  surface_111_pandey │    50 │   4800 │    50 │  14400 │     0 │\n",
      "│      crack_110_1-10 │     7 │   1400 │     7 │   4200 │    63 │\n",
      "│      crack_111_1-10 │    10 │   1920 │    10 │   5760 │    90 │\n",
      "│                  sp │   100 │    400 │   100 │   1200 │     0 │\n",
      "│                 sp2 │    51 │    408 │    51 │   1224 │     0 │\n",
      "│        interstitial │   115 │  24955 │   115 │  74865 │   450 │\n",
      "│        screw_disloc │    19 │   2736 │    19 │   8208 │     0 │\n",
      "│           divacancy │    78 │  16692 │    78 │  50076 │     0 │\n",
      "│             vacancy │   211 │  30165 │   211 │  90495 │  1899 │\n",
      "│           111adatom │    11 │   1606 │    11 │   4818 │    99 │\n",
      "│ surface_111_3x3_das │     1 │     52 │     1 │    156 │     0 │\n",
      "│          decohesion │    33 │    792 │    33 │   2376 │   297 │\n",
      "│                 bc8 │    49 │    392 │    49 │   1176 │   441 │\n",
      "│                 bcc │    49 │     98 │    49 │    294 │   441 │\n",
      "│                 fcc │    49 │    196 │    49 │    588 │   441 │\n",
      "│                 hcp │    49 │     98 │    49 │    294 │   441 │\n",
      "│         hex_diamond │    49 │    196 │    49 │    588 │   441 │\n",
      "│                st12 │    49 │    588 │    49 │   1764 │   441 │\n",
      "├─────────────────────┼───────┼────────┼───────┼────────┼───────┤\n",
      "│               total │  2475 │ 171815 │  2475 │ 515445 │ 16047 │\n",
      "│             missing │     0 │      0 │     0 │      0 │  6228 │\n",
      "└─────────────────────┴───────┴────────┴───────┴────────┴───────┘\n"
     ]
    }
   ],
   "source": [
    "# Data loading\n",
    "\n",
    "all_traj = read_xyz(\"/home/claudio/postdoc/integrated_potentials/data/Si_2018/delta_silicon.xyz\", \n",
    "    energy_key=\"dft_energy\", force_key=\"dft_force\", verbose=false);\n",
    "\n",
    "\n",
    "# Data parsing\n",
    "\n",
    "types = [\"bcc\",\"fcc\",\"hcp\",\"bt\",\"liq\",\"amorph\",\"dia\"]\n",
    "traj = Any[]\n",
    "for tt in all_traj\n",
    "   if tt.configtype in types\n",
    "        push!(traj, tt)\n",
    "    end\n",
    "end"
   ]
  },
  {
   "cell_type": "code",
   "execution_count": 17,
   "metadata": {},
   "outputs": [],
   "source": [
    "# Descriptor parameters\n",
    "\n",
    "N = 8               # Body order\n",
    "maxdeg = 10         # Number of basis (?)\n",
    "rcut = 5.0          # Radial Cutoff\n",
    "species = :Si;      # Well... Species\n",
    "r0 = 1.0            # Lowest radius for basis\n",
    "reg = 1e-8;         # Ridge regularizer\n",
    "\n",
    "basis = rpi_basis(; species=species, N = N, r0 = r0,\n",
    "   maxdeg = maxdeg, rcut = rcut,\n",
    "   rin = rnn(:Si) * 0.6,\n",
    "   constants = false);"
   ]
  },
  {
   "cell_type": "code",
   "execution_count": 56,
   "metadata": {},
   "outputs": [],
   "source": [
    "\n",
    "# Local : environment descriptor\n",
    "function environment_descriptor(shipB, at::AbstractAtoms{T}) where {T}\n",
    "    E = zeros(fltype(shipB), length(at), length(shipB))\n",
    "    B = alloc_B(shipB)\n",
    "    nlist = neighbourlist(at, cutoff(shipB))\n",
    "    maxnR = maxneigs(nlist)\n",
    "    tmp = alloc_temp(shipB, maxnR)\n",
    "    tmpRZ = (R = zeros(JVec{T}, maxnR), Z = zeros(AtomicNumber, maxnR))\n",
    "    for i = 1:length(at)\n",
    "        j, R, Z = neigsz!(tmpRZ, nlist, at, i)\n",
    "        fill!(B, 0)\n",
    "        evaluate!(B, tmp, shipB, R, Z, at.Z[i])\n",
    "        E[i,:] = B[:]\n",
    "    end\n",
    "    return E\n",
    "end\n",
    "\n",
    "# Local : environments for all the atoms in trajectory\n",
    "function environment_descriptor_traj(basis, traj)\n",
    "    A_all = []\n",
    "    for i in 1:length(traj)\n",
    "        atoms = traj[i].at\n",
    "        X = environment_descriptor(basis, atoms);\n",
    "        push!(A_all, X)\n",
    "    end\n",
    "    return A_all\n",
    "end;\n",
    "\n",
    "\n",
    "# Global : sum descriptor\n",
    "function sum_descriptor(shipB, at::AbstractAtoms{T}) where {T}\n",
    "    E = zeros(fltype(shipB), length(shipB))\n",
    "    B = alloc_B(shipB)\n",
    "    nlist = neighbourlist(at, cutoff(shipB))\n",
    "    maxnR = maxneigs(nlist)\n",
    "    tmp = alloc_temp(shipB, maxnR)\n",
    "    tmpRZ = (R = zeros(JVec{T}, maxnR), Z = zeros(AtomicNumber, maxnR))\n",
    "    for i = 1:length(at)\n",
    "        j, R, Z = neigsz!(tmpRZ, nlist, at, i)\n",
    "        fill!(B, 0)\n",
    "        evaluate!(B, tmp, shipB, R, Z, at.Z[i])\n",
    "        E[:] .+= B[:]\n",
    "    end\n",
    "    return E\n",
    "end\n",
    "\n",
    "function sum_descriptor_traj(basis, traj)\n",
    "    A_all = Array{Float64,2}(undef, length(traj), length(basis)) \n",
    "    for i in 1:length(traj)\n",
    "        atoms = traj[i].at\n",
    "        A_all[i, :] = sum_descriptor(basis, atoms)\n",
    "    end\n",
    "    return A_all\n",
    "end\n",
    "\n",
    "function sum_d_descriptor(shipB, at::AbstractAtoms{T}) where {T}\n",
    "   # precompute the neighbourlist to count the number of neighbours\n",
    "    nlist = neighbourlist(at, cutoff(shipB); storelist=false)\n",
    "    maxR = maxneigs(nlist)\n",
    "   # allocate space accordingly\n",
    "    F = zeros(JVec{T}, length(at), length(shipB))\n",
    "    F_local = zeros(JVec{T}, length(at), length(at), length(shipB))\n",
    "    B = alloc_B(shipB, maxR)\n",
    "    dB = alloc_dB(shipB, maxR)\n",
    "    tmp = alloc_temp_d(shipB, maxR)\n",
    "    tmpRZ = (R = zeros(JVec{T}, maxR), Z = zeros(AtomicNumber, maxR))\n",
    "    return sum_d_descriptor_inner!(shipB, at, nlist, F, F_local, B, dB, tmp, tmpRZ)\n",
    "end\n",
    "\n",
    "# this is a little hack to remove a type instability. It probably makes no\n",
    "# difference in practise...\n",
    "function sum_d_descriptor_inner!(shipB, at::AbstractAtoms{T},\n",
    "                       nlist, F, F_local, B, dB, tmp, tmpRZ) where {T}\n",
    "   # assemble site gradients and write into F\n",
    "    for i = 1:length(at)\n",
    "        j, R, Z = neigsz!(tmpRZ, nlist, at, i)\n",
    "        fill!(dB, zero(JVec{T}))\n",
    "        fill!(B, 0)\n",
    "        evaluate_d!(B, dB, tmp, shipB, R, Z, at.Z[i])\n",
    "        for a = 1:length(R)\n",
    "            F[j[a], :] .-= dB[:, a]\n",
    "            F[i, :] .+= dB[:, a]\n",
    "            F_local[i, j[a], :] .-= dB[:, a]\n",
    "        end\n",
    "    end\n",
    "    virial = compute_virial(F_local, at)\n",
    "    return [ F[:, iB] for iB = 1:length(shipB) ], [virial[:, :, iB] for iB = 1:length(shipB) ]\n",
    "end\n",
    "\n",
    "function sum_d_descriptor_traj(basis, traj)\n",
    "    dA_all = []\n",
    "    dA_ds = []\n",
    "    for i in 1:length(traj)\n",
    "        atoms = traj[i].at\n",
    "        XF, virial = sum_d_descriptor(basis, atoms);\n",
    "        XF = hcat([collect(Iterators.flatten(a)) for a in XF]...)\n",
    "        push!(dA_all, XF)\n",
    "        push!(dA_ds, virial)\n",
    "    end\n",
    "    return dA_all, dA_ds\n",
    "end\n",
    "\n",
    "function fit_potential(XE_tr, YE_tr, XF_tr, YF_tr, alpha=1.0)\n",
    "    YF_tr = hcat(YF_tr'...)'\n",
    "    XF_tr = hcat(XF_tr'...)'\n",
    "    X_tr = vcat(XE_tr, XF_tr)\n",
    "    Y_tr = vcat(YE_tr, YF_tr);\n",
    "    ridge_pred = fit!(Ridge(alpha), X_tr, Y_tr)\n",
    "    return ridge_pred\n",
    "end\n",
    "\n",
    "function predict_potential(ridge_pred, XE_tst, XF_tst)\n",
    "    n_struc = length(XE_tst[:, 1])\n",
    "    XF_tst = hcat(XF_tst'...)'\n",
    "    X_tst = vcat(XE_tst, XF_tst)\n",
    "    result = predict(ridge_pred, X_tst)\n",
    "    return result[1:n_struc], result[n_struc + 1:end]\n",
    "end\n",
    "\n",
    "function extract_info_traj(B, traj)\n",
    "    X = sum_descriptor_traj(B, traj);\n",
    "    dX_dr, dX_ds = sum_d_descriptor_traj(B, traj);\n",
    "    \n",
    "    return X, dX_dr, dX_ds\n",
    "end\n",
    "\n",
    "function extract_info_frame(B, frame)\n",
    "    X = sum_descriptor(B, frame);\n",
    "    dX_dr, dX_dr_local = sum_d_descriptor(B, frame);\n",
    "    \n",
    "    return X, dX_dr, dX_dr_local\n",
    "end\n",
    "\n",
    "function compute_virial(F_local, at)\n",
    "    p = [tup[k] for tup in at.X, k in 1:3]\n",
    "    d = permutedims(repeat(p[:, :], 1, 1, length(at.X)) .- permutedims(repeat(p[:, :], 1, 1, length(at.X)), (3, 2, 1)), (1, 3, 2))\n",
    "    F_local = [tup[k] for tup in F_local, k in 1:3]\n",
    "    @einsum v[c1, c2, s] :=  - F_local[n, m, s, c1] * d[n, m, c2]\n",
    "    return v\n",
    "    end;"
   ]
  },
  {
   "cell_type": "code",
   "execution_count": 58,
   "metadata": {},
   "outputs": [
    {
     "name": "stdout",
     "output_type": "stream",
     "text": [
      "(10,)(210,)"
     ]
    }
   ],
   "source": [
    "# Generate descriptors and extract data\n",
    "\n",
    "X, dX_dr, dX_ds = extract_info_traj(basis, all_traj[1:10])\n",
    "\n",
    "# XE_tr, XE_tst, YE_tr, YE_tst, XF_tr, XF_tst, YF_tr, YF_tst, nat_tr, nat_tst = train_test_split(\n",
    "#     XE, YE, XF, YF, nat, test_size=0.25, random_state=42);"
   ]
  },
  {
   "cell_type": "code",
   "execution_count": 6,
   "metadata": {},
   "outputs": [
    {
     "name": "stdout",
     "output_type": "stream",
     "text": [
      "RMSE Energy [meV/atom]: 39.6777373566608\n",
      "RMSE Forces [eV/A]:     0.3216668252460817"
     ]
    }
   ],
   "source": [
    "# Fit and Predict\n",
    "factor = 1.5\n",
    "reg = 1.2e-6\n",
    "factor = 0.123\n",
    "reg =  0.0007\n",
    "\n",
    "rr = fit_potential(XE_tr, YE_tr, XF_tr.*factor, YF_tr.*factor,reg)\n",
    "e_hat, f_hat = predict_potential(rr, XE_tst, XF_tst.*factor)\n",
    "\n",
    "rmse_e = mean((YE_tst./nat_tst .-  e_hat./nat_tst).^2).^0.5\n",
    "print(\"RMSE Energy [meV/atom]: \", 1000*rmse_e)\n",
    "\n",
    "rmse_f = mean((hcat(YF_tst'...)' .-  f_hat./factor).^2).^0.5\n",
    "print(\"\\nRMSE Forces [eV/A]:     \", rmse_f)"
   ]
  },
  {
   "cell_type": "code",
   "execution_count": 7,
   "metadata": {},
   "outputs": [
    {
     "data": {
      "image/png": "[encoded data removed]",
      "text/plain": [
       "Figure(PyObject <Figure size 640x480 with 1 Axes>)"
      ]
     },
     "metadata": {},
     "output_type": "display_data"
    },
    {
     "data": {
      "text/plain": [
       "PyObject <matplotlib.collections.PathCollection object at 0x7fbe800b5d90>"
      ]
     },
     "execution_count": 7,
     "metadata": {},
     "output_type": "execute_result"
    }
   ],
   "source": [
    "scatter(YE_tst./nat_tst,   e_hat./nat_tst)"
   ]
  },
  {
   "cell_type": "code",
   "execution_count": 8,
   "metadata": {},
   "outputs": [
    {
     "name": "stderr",
     "output_type": "stream",
     "text": [
      "┌ Info: assemble lsq system\n",
      "└ @ IPFitting.Lsq /home/claudio/.julia/packages/IPFitting/Ypo4v/src/lsq.jl:390\n",
      "┌ Info: Free Memory: ≈ 8.42 GB\n",
      "└ @ IPFitting.Lsq /home/claudio/.julia/packages/IPFitting/Ypo4v/src/lsq.jl:314\n"
     ]
    },
    {
     "ename": "LoadError",
     "evalue": "KeyError: key \"E\" not found",
     "output_type": "error",
     "traceback": [
      "KeyError: key \"E\" not found",
      "",
      "Stacktrace:",
      " [1] getindex at ./dict.jl:467 [inlined]",
      " [2] matrows at /home/claudio/.julia/packages/IPFitting/Ypo4v/src/lsq_db.jl:235 [inlined]",
      " [3] collect_observations(::LsqDB, ::Dict{Any,Any}, ::OneBody{Float64}) at /home/claudio/.julia/packages/IPFitting/Ypo4v/src/lsq.jl:95",
      " [4] get_lsq_system(::LsqDB; verbose::Bool, Ibasis::Function, Itrain::Function, E0::Nothing, Vref::OneBody{Float64}, weights::Dict{Any,Any}, regularisers::Array{Any,1}) at /home/claudio/.julia/packages/IPFitting/Ypo4v/src/lsq.jl:258",
      " [5] lsqfit(::LsqDB; solver::Tuple{Symbol,Float64}, verbose::Bool, Ibasis::Function, Itrain::Function, Itest::Nothing, E0::Float64, Vref::OneBody{Float64}, weights::Dict{String,Dict{String,Float64}}, regularisers::Array{Any,1}, deldb::Bool, asmerrs::Bool, lasso::Bool, saveqr::Nothing, kwargs::Base.Iterators.Pairs{Union{},Union{},Tuple{},NamedTuple{(),Tuple{}}}) at /home/claudio/.julia/packages/IPFitting/Ypo4v/src/lsq.jl:392",
      " [6] top-level scope at In[8]:7",
      " [7] include_string(::Function, ::Module, ::String, ::String) at ./loading.jl:1091"
     ]
    }
   ],
   "source": [
    "using IPFitting: LsqDB, lsqfit, rmse_table\n",
    "using ACE: OneBody\n",
    "\n",
    "dB = LsqDB(basis, all_traj, ones(1, 1), \"E\")\n",
    "weights = Dict(\"default\" => Dict(\"E\" => 15.0, \"F\" => 1.0 ))\n",
    "Vref = OneBody(Dict(\"Si\" => -158.54496821))\n",
    "IP, lsqinfo = lsqfit(dB; weights = weights, Vref = Vref, asmerrs = true, solver=(:lap, 1.2));"
   ]
  },
  {
   "cell_type": "code",
   "execution_count": 9,
   "metadata": {},
   "outputs": [],
   "source": [
    "for i in dB.configs\n",
    "    a = i.D[\"E\"]\n",
    "    b = i.D[\"F\"]\n",
    "end"
   ]
  },
  {
   "cell_type": "code",
   "execution_count": 10,
   "metadata": {},
   "outputs": [
    {
     "name": "stdout",
     "output_type": "stream",
     "text": [
      "IPFitting.Dat(JuLIP.Atoms{Float64}(StaticArrays.SArray{Tuple{3},Float64,1,3}[[10.0, 10.0, 10.0]], StaticArrays.SArray{Tuple{3},Float64,1,3}[[0.0, 0.0, 0.0]], [28.085], AtomicNumber[<14>], [20.0 0.0 0.0; 0.0 20.0 0.0; 0.0 0.0 20.0], Bool[1, 1, 1], nothing, JuLIP.DofManager{Float64}(false, [1, 2, 3], JuLIP.LinearConstraint{Float64}[], StaticArrays.SArray{Tuple{3},Float64,1,3}[], [0.0 0.0 0.0; 0.0 0.0 0.0; 0.0 0.0 0.0]), Dict{Any,JuLIP.JData{Float64}}(\"nlist:default\" => JuLIP.JData{Float64}(0.0, 0.0, NeighbourLists.PairList{Float64,Int64}(StaticArrays.SArray{Tuple{3},Float64,1,3}[[10.0, 10.0, 10.0]], [20.0 0.0 0.0; 0.0 20.0 0.0; 0.0 0.0 20.0], 5.0, Int64[], Int64[], StaticArrays.SArray{Tuple{3},Int64,1,3}[], [1, 1])))), \"isolated_atom\", Dict(\"E\" => [-158.54496821],\"F\" => [0.0, 0.0, 0.0]), Dict{String,Array{Int64,1}}(), Dict{String,Any}())\n",
      "E\n",
      "1\n",
      "\n",
      " \n",
      " \n",
      " \n"
     ]
    },
    {
     "ename": "LoadError",
     "evalue": "KeyError: key \"E\" not found",
     "output_type": "error",
     "traceback": [
      "KeyError: key \"E\" not found",
      "",
      "Stacktrace:",
      " [1] getindex at ./dict.jl:467 [inlined]",
      " [2] matrows at /home/claudio/.julia/packages/IPFitting/Ypo4v/src/lsq_db.jl:235 [inlined]",
      " [3] top-level scope at ./In[10]:8",
      " [4] include_string(::Function, ::Module, ::String, ::String) at ./loading.jl:1091"
     ]
    }
   ],
   "source": [
    "using IPFitting: observations\n",
    "using IPFitting.DB: matrows\n",
    "for (obskey, dat, icfg) in observations(dB)  # obskey ∈ {\"E\",\"F\",...}; d::Dat\n",
    "    print(dat, \"\\n\")\n",
    "    print(obskey, \"\\n\")\n",
    "    print(icfg, \"\\n\")\n",
    "    print(\"\\n \\n \\n \\n\")\n",
    "    irows = matrows(dat, obskey)\n",
    "end"
   ]
  },
  {
   "cell_type": "code",
   "execution_count": 100,
   "metadata": {},
   "outputs": [
    {
     "ename": "LoadError",
     "evalue": "MethodError: no method matching matrows()\nClosest candidates are:\n  matrows(!Matched::IPFitting.Dat, !Matched::String) at /home/claudio/.julia/packages/IPFitting/Ypo4v/src/lsq_db.jl:235",
     "output_type": "error",
     "traceback": [
      "MethodError: no method matching matrows()\nClosest candidates are:\n  matrows(!Matched::IPFitting.Dat, !Matched::String) at /home/claudio/.julia/packages/IPFitting/Ypo4v/src/lsq_db.jl:235",
      "",
      "Stacktrace:",
      " [1] top-level scope at In[100]:1",
      " [2] include_string(::Function, ::Module, ::String, ::String) at ./loading.jl:1091"
     ]
    }
   ],
   "source": [
    "matrows()"
   ]
  },
  {
   "cell_type": "code",
   "execution_count": 88,
   "metadata": {},
   "outputs": [
    {
     "ename": "LoadError",
     "evalue": "UndefVarError: lsqinfo not defined",
     "output_type": "error",
     "traceback": [
      "UndefVarError: lsqinfo not defined",
      "",
      "Stacktrace:",
      " [1] top-level scope at In[88]:1",
      " [2] include_string(::Function, ::Module, ::String, ::String) at ./loading.jl:1091"
     ]
    }
   ],
   "source": [
    "rmse_table(lsqinfo[\"errors\"])"
   ]
  },
  {
   "cell_type": "code",
   "execution_count": null,
   "metadata": {},
   "outputs": [],
   "source": [
    "using Optim: optimize\n",
    "\n",
    "function test_error(XE_tr, YE_tr, XF_tr, YF_tr, XE_tst, XF_tst, YE_tst, nat_tst, regs)\n",
    "    print(regs, \"\\n\")\n",
    "    rr = fit_potential(XE_tr, YE_tr, XF_tr.*regs[2], YF_tr.*regs[2], regs[1])\n",
    "    e_hat, f_hat = predict_potential(rr, XE_tst, XF_tst.*regs[2])\n",
    "    rmse_e = mean((YE_tst./nat_tst .-  e_hat./nat_tst).^2).^0.5\n",
    "    return rmse_e\n",
    "end\n",
    "\n",
    "res = optimize(regs -> test_error(XE_tr, YE_tr, XF_tr, YF_tr, XE_tst, XF_tst, YE_tst, nat_tst, regs), [1.2e-7, 1.5])"
   ]
  }
 ],
 "metadata": {
  "kernelspec": {
   "display_name": "Julia 1.5.3",
   "language": "julia",
   "name": "julia-1.5"
  },
  "language_info": {
   "file_extension": ".jl",
   "mimetype": "application/julia",
   "name": "julia",
   "version": "1.5.3"
  }
 },
 "nbformat": 4,
 "nbformat_minor": 4
}
