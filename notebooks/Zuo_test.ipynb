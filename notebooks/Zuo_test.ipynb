{
 "cells": [
  {
   "cell_type": "code",
   "execution_count": null,
   "id": "127ab595-f4c7-4c4f-b2a2-9d6d87344755",
   "metadata": {},
   "outputs": [],
   "source": [
    "from ase.io import read\n",
    "import numpy as np\n",
    "from matplotlib import pyplot as plt\n",
    "import joblib, pickle, sys\n",
    "sys.path.insert(0,\"../\")\n",
    "from castle import train_ensamble_linear_model, train_linear_model, ASEMLCalculator, AceGlobalRepresentation, AceLocalRepresentation\n",
    "from castle import get_forces_and_energies, get_virials, get_nat, dump, load, print_score, utils\n",
    "\n",
    "%load_ext autoreload\n",
    "%autoreload 2"
   ]
  },
  {
   "cell_type": "code",
   "execution_count": 84,
   "id": "ed4d3456-c205-46bb-b0b8-6d59381b497e",
   "metadata": {},
   "outputs": [
    {
     "name": "stdout",
     "output_type": "stream",
     "text": [
      "(13000, 77)\n"
     ]
    }
   ],
   "source": [
    "# folder = \"/home/claudio/postdoc/data/Au_13/\"\n",
    "\n",
    "\n",
    "# species = 'Au'\n",
    "# N = 5\n",
    "# maxdeg = 8\n",
    "# rcut = 5.0\n",
    "# temp = 400\n",
    "\n",
    "# tr_features = utils.extract_local_features(folder,  f\"planar_{temp}K.xyz\",\n",
    "#                                              N=N, maxdeg=maxdeg, rcut=rcut, force_name = 'force', energy_name = 'energy',\n",
    "#                                             species = species)\n",
    "# np.save(folder + f\"planar_{temp}K_local_features_N_{N}_d_{maxdeg}.npy\", np.concatenate(tr_features.X))\n",
    "# print(np.concatenate(tr_features.X).shape)"
   ]
  },
  {
   "cell_type": "code",
   "execution_count": 29,
   "id": "d420ff43-ddc1-4988-9c21-bdb62e6d159d",
   "metadata": {},
   "outputs": [],
   "source": [
    "root = \"/home/claudio/postdoc/data/Si_gabor/\"\n",
    "\n",
    "N = 4\n",
    "maxdeg = 8\n",
    "rcut = 4.5\n",
    "noise = 1e-8\n",
    "\n",
    "force_name = 'dft_force'\n",
    "energy_name = 'dft_energy'\n",
    "\n",
    "# tr_features = utils.extract_features(root , \"train.xyz\", \"test.xyz\",\n",
    "#                                              N=N, maxdeg=maxdeg, rcut=rcut, force_name = force_name, energy_name = energy_name,\n",
    "#                                             species = 14)\n",
    "\n",
    "e_t, f_t, e_val, f_val, nat_tr, nat_val, tr_features, val_features = utils.load_everything(\n",
    "    root, \"train.xyz\", \"test.xyz\",\n",
    "    f\"tr_features_N_{N}_d_{maxdeg}.xz\", f\"val_features_N_{N}_d_{maxdeg}.xz\", force_name = force_name, energy_name = energy_name)"
   ]
  },
  {
   "cell_type": "code",
   "execution_count": 30,
   "id": "942d8915-12f9-4664-a4e5-be5d7f68afe6",
   "metadata": {},
   "outputs": [],
   "source": [
    "model = train_linear_model(tr_features, noise, e_t, f_t)\n",
    "ep_l, fp_l = model.predict(val_features)\n",
    "en_errs_lin_si = ep_l/nat_val - e_val/nat_val\n",
    "force_errs_lin_si = fp_l.flatten() - f_val.flatten()\n",
    "\n",
    "model =  train_ensamble_linear_model(tr_features, noise, e_t, f_t,\n",
    "                    n_neighbours=1, \n",
    "                     n_clusters=40, clustering='e_gmm')\n",
    "ep_e1, fp_e1 = model.predict(val_features)\n",
    "\n",
    "en_errs_ens1_si = ep_e1/nat_val - e_val/nat_val\n",
    "force_errs_ens1_si = fp_e1.flatten() - f_val.flatten()\n",
    "\n",
    "model =  train_ensamble_linear_model(tr_features, noise, e_t, f_t,\n",
    "                    n_neighbours=4, \n",
    "                     n_clusters=40, clustering='e_gmm')\n",
    "ep_e10, fp_e10 = model.predict(val_features)\n",
    "\n",
    "en_errs_ens10_si = ep_e10/nat_val - e_val/nat_val\n",
    "force_errs_ens10_si = fp_e10.flatten() - f_val.flatten()"
   ]
  },
  {
   "cell_type": "code",
   "execution_count": 32,
   "id": "1e662469-a5e5-49e1-b4b3-aff399b60cbc",
   "metadata": {},
   "outputs": [],
   "source": [
    "import pandas as pd\n",
    "df_l = pd.DataFrame()\n",
    "df_l['diff'] = ep_l/nat_val - e_val/nat_val\n",
    "df_l['mae'] = abs(df_l['diff'])\n",
    "df_l['model'] = 'lin'\n",
    "\n",
    "df_e1 = pd.DataFrame()\n",
    "df_e1['diff'] = ep_e1/nat_val - e_val/nat_val\n",
    "df_e1['mae'] = abs(df_e1['diff'])\n",
    "df_e1['model'] = 'ens1'\n",
    "\n",
    "df_e10 = pd.DataFrame()\n",
    "df_e10['diff'] = ep_e10/nat_val - e_val/nat_val\n",
    "df_e10['mae'] = abs(df_e10['diff'])\n",
    "df_e10['model'] = 'ens10'\n",
    "\n",
    "df_en_si = pd.concat([df_l, df_e1, df_e10])\n",
    "\n",
    "\n",
    "df_l = pd.DataFrame()\n",
    "df_l['diff'] = fp_l.flatten() - f_val.flatten()\n",
    "df_l['mae'] = abs(df_l['diff'])\n",
    "df_l['model'] = 'lin'\n",
    "\n",
    "df_e1 = pd.DataFrame()\n",
    "df_e1['diff'] = fp_e1.flatten() - f_val.flatten()\n",
    "df_e1['mae'] = abs(df_e1['diff'])\n",
    "df_e1['model'] = 'ens1'\n",
    "\n",
    "df_e10 = pd.DataFrame()\n",
    "df_e10['diff'] = fp_e10.flatten() - f_val.flatten()\n",
    "df_e10['mae'] = abs(df_e10['diff'])\n",
    "df_e10['model'] = 'ens10'\n",
    "\n",
    "df_f_si = pd.concat([df_l, df_e1, df_e10])"
   ]
  },
  {
   "cell_type": "code",
   "execution_count": 37,
   "id": "6d5ab2e9-fd2d-445d-ac36-5de730cfed52",
   "metadata": {},
   "outputs": [
    {
     "data": {
      "text/html": [
       "<div>\n",
       "<style scoped>\n",
       "    .dataframe tbody tr th:only-of-type {\n",
       "        vertical-align: middle;\n",
       "    }\n",
       "\n",
       "    .dataframe tbody tr th {\n",
       "        vertical-align: top;\n",
       "    }\n",
       "\n",
       "    .dataframe thead th {\n",
       "        text-align: right;\n",
       "    }\n",
       "</style>\n",
       "<table border=\"1\" class=\"dataframe\">\n",
       "  <thead>\n",
       "    <tr style=\"text-align: right;\">\n",
       "      <th></th>\n",
       "      <th>diff</th>\n",
       "      <th>mae</th>\n",
       "    </tr>\n",
       "    <tr>\n",
       "      <th>model</th>\n",
       "      <th></th>\n",
       "      <th></th>\n",
       "    </tr>\n",
       "  </thead>\n",
       "  <tbody>\n",
       "    <tr>\n",
       "      <th>ens1</th>\n",
       "      <td>-1.750118e-08</td>\n",
       "      <td>0.235493</td>\n",
       "    </tr>\n",
       "    <tr>\n",
       "      <th>ens10</th>\n",
       "      <td>-1.750118e-08</td>\n",
       "      <td>0.239809</td>\n",
       "    </tr>\n",
       "    <tr>\n",
       "      <th>lin</th>\n",
       "      <td>-1.750117e-08</td>\n",
       "      <td>0.974803</td>\n",
       "    </tr>\n",
       "  </tbody>\n",
       "</table>\n",
       "</div>"
      ],
      "text/plain": [
       "               diff       mae\n",
       "model                        \n",
       "ens1  -1.750118e-08  0.235493\n",
       "ens10 -1.750118e-08  0.239809\n",
       "lin   -1.750117e-08  0.974803"
      ]
     },
     "execution_count": 37,
     "metadata": {},
     "output_type": "execute_result"
    }
   ],
   "source": [
    "df_f_si.groupby(by='model').mean()"
   ]
  },
  {
   "cell_type": "code",
   "execution_count": 39,
   "id": "52455955-2e44-41c6-827e-14c6f6731fc6",
   "metadata": {},
   "outputs": [
    {
     "data": {
      "text/html": [
       "<div>\n",
       "<style scoped>\n",
       "    .dataframe tbody tr th:only-of-type {\n",
       "        vertical-align: middle;\n",
       "    }\n",
       "\n",
       "    .dataframe tbody tr th {\n",
       "        vertical-align: top;\n",
       "    }\n",
       "\n",
       "    .dataframe thead th {\n",
       "        text-align: right;\n",
       "    }\n",
       "</style>\n",
       "<table border=\"1\" class=\"dataframe\">\n",
       "  <thead>\n",
       "    <tr style=\"text-align: right;\">\n",
       "      <th></th>\n",
       "      <th>diff</th>\n",
       "      <th>mae</th>\n",
       "    </tr>\n",
       "    <tr>\n",
       "      <th>model</th>\n",
       "      <th></th>\n",
       "      <th></th>\n",
       "    </tr>\n",
       "  </thead>\n",
       "  <tbody>\n",
       "    <tr>\n",
       "      <th>ens1</th>\n",
       "      <td>-0.002076</td>\n",
       "      <td>0.016628</td>\n",
       "    </tr>\n",
       "    <tr>\n",
       "      <th>ens10</th>\n",
       "      <td>-0.002081</td>\n",
       "      <td>0.017177</td>\n",
       "    </tr>\n",
       "    <tr>\n",
       "      <th>lin</th>\n",
       "      <td>0.371225</td>\n",
       "      <td>0.529356</td>\n",
       "    </tr>\n",
       "  </tbody>\n",
       "</table>\n",
       "</div>"
      ],
      "text/plain": [
       "           diff       mae\n",
       "model                    \n",
       "ens1  -0.002076  0.016628\n",
       "ens10 -0.002081  0.017177\n",
       "lin    0.371225  0.529356"
      ]
     },
     "execution_count": 39,
     "metadata": {},
     "output_type": "execute_result"
    }
   ],
   "source": [
    "df_en_si.groupby(by='model').mean()"
   ]
  },
  {
   "cell_type": "code",
   "execution_count": 199,
   "id": "7e38cf6c-01c5-4921-a067-3bef26f94dc9",
   "metadata": {},
   "outputs": [
    {
     "name": "stderr",
     "output_type": "stream",
     "text": [
      "No handles with labels found to put in legend.\n"
     ]
    },
    {
     "data": {
      "image/png": "[encoded data removed]",
      "text/plain": [
       "<Figure size 576x288 with 1 Axes>"
      ]
     },
     "metadata": {},
     "output_type": "display_data"
    }
   ],
   "source": [
    "plt.figure(figsize = (8, 4))\n",
    "sns.boxplot(data = df_f_si, y = 'mae', x = 'model')\n",
    "plt.yscale('log')\n",
    "plt.ylim(1e-2, 3)\n",
    "plt.legend(frameon=False, bbox_to_anchor = (1, 1), title = 'model')\n",
    "plt.title('Force MAEs [eV/Angstrom]')\n",
    "plt.tight_layout()\n",
    "plt.savefig(\"/home/claudio/postdoc/plots/si_ensamble_force_maes.pdf\")"
   ]
  },
  {
   "cell_type": "code",
   "execution_count": 200,
   "id": "d8fbecf6-858c-470e-9682-5c0b69d9fa50",
   "metadata": {},
   "outputs": [
    {
     "name": "stderr",
     "output_type": "stream",
     "text": [
      "No handles with labels found to put in legend.\n"
     ]
    },
    {
     "data": {
      "image/png": "[encoded data removed]",
      "text/plain": [
       "<Figure size 576x288 with 1 Axes>"
      ]
     },
     "metadata": {},
     "output_type": "display_data"
    }
   ],
   "source": [
    "plt.figure(figsize = (8, 4))\n",
    "sns.boxplot(data = df_en_si, y = 'mae', x = 'model')\n",
    "plt.yscale('log')\n",
    "plt.ylim(1e-4, 2)\n",
    "plt.legend(frameon=False, bbox_to_anchor = (1, 1), title = 'model')\n",
    "plt.title('Force MAEs [eV/Angstrom]')\n",
    "plt.tight_layout()\n",
    "plt.savefig(\"/home/claudio/postdoc/plots/si_ensamble_energy_maes.pdf\")"
   ]
  },
  {
   "cell_type": "code",
   "execution_count": 22,
   "id": "076892e8-66be-474e-91f5-2fafc608a33a",
   "metadata": {},
   "outputs": [],
   "source": [
    "rcuts = {'Cu': 3.9, 'Mo': 5.2, 'Si': 4.7, 'Ge':5.1, 'Ni':4.0, 'Li':5.1}\n",
    "root = \"/home/claudio/postdoc/data/Zuo/\"\n",
    "\n",
    "species = 'Mo'\n",
    "N = 4\n",
    "maxdeg = 8\n",
    "rcut = rcuts[species]\n",
    "force_name = 'dft_forces'\n",
    "energy_name = 'DFT_PE'\n",
    "\n",
    "# tr_features, val_features = utils.extract_features(root + f\"{species}/\", \"train_trajectory.xyz\", \"validation_trajectory.xyz\",\n",
    "#                                              N=N, maxdeg=maxdeg, rcut=rcut, force_name = force_name, energy_name = energy_name,\n",
    "#                                             species = species)\n",
    "\n",
    "e_t, f_t, e_val, f_val, nat_tr, nat_val, tr_features, val_features = utils.load_everything(\n",
    "    root + f\"{species}/\", \"train_trajectory.xyz\", \"validation_trajectory.xyz\",\n",
    "    f\"tr_features_N_{N}_d_{maxdeg}.xz\", f\"val_features_N_{N}_d_{maxdeg}.xz\", force_name = force_name)"
   ]
  },
  {
   "cell_type": "code",
   "execution_count": 70,
   "id": "6bd696ab-dcc6-4023-bdb5-27a7b128833f",
   "metadata": {},
   "outputs": [],
   "source": [
    "for species in rcuts.keys():\n",
    "    tr_features, val_features = utils.extract_features(root + f\"{species}/\", \"train_trajectory.xyz\", \"validation_trajectory.xyz\",\n",
    "                                             N=N, maxdeg=maxdeg, rcut=rcut, force_name = force_name, energy_name = energy_name,\n",
    "                                            species = species)\n",
    "    # e_t, f_t, e_val, f_val, nat_tr, nat_val, tr_features, val_features = utils.load_everything(\n",
    "    #     root + f\"{species}/\", \"train_trajectory.xyz\", \"validation_trajectory.xyz\",\n",
    "    #     f\"tr_features_N_{N}_d_{maxdeg}.xz\", f\"val_features_N_{N}_d_{maxdeg}.xz\", force_name = force_name)"
   ]
  },
  {
   "cell_type": "code",
   "execution_count": 71,
   "id": "2dbffddc-f82a-422e-80dc-08d70de196cb",
   "metadata": {},
   "outputs": [
    {
     "name": "stdout",
     "output_type": "stream",
     "text": [
      "Cu\n",
      "Mo\n",
      "Si\n",
      "Ge\n",
      "Ni\n",
      "Li\n"
     ]
    }
   ],
   "source": [
    "en_errs_lin = {}\n",
    "force_errs_lin = {}\n",
    "en_errs_ens1 = {}\n",
    "force_errs_ens1 = {}\n",
    "en_errs_ens10 = {}\n",
    "force_errs_ens10 = {}\n",
    "for species in rcuts.keys():\n",
    "    print(species)\n",
    "    e_t, f_t, e_val, f_val, nat_tr, nat_val, tr_features, val_features = utils.load_everything(\n",
    "        root + f\"{species}/\", \"train_trajectory.xyz\", \"validation_trajectory.xyz\",\n",
    "        f\"tr_features_N_{N}_d_{maxdeg}.xz\", f\"val_features_N_{N}_d_{maxdeg}.xz\", force_name = force_name)\n",
    "    \n",
    "    model = train_linear_model(tr_features, noise, e_t, f_t)\n",
    "    ep = model.predict_energy(val_features)\n",
    "    fp = model.predict_forces(val_features)\n",
    "    en_errs_lin[species] = ep/nat_val - e_val/nat_val\n",
    "    force_errs_lin[species] = fp.flatten() - f_val.flatten()\n",
    "    \n",
    "    model =  train_ensamble_linear_model(tr_features, noise, e_t, f_t,\n",
    "                        n_neighbours=1, \n",
    "                         n_clusters=8, clustering='e_gmm')\n",
    "    ep = model.predict_energy(val_features)\n",
    "    fp = model.predict_forces(val_features)\n",
    "    en_errs_ens1[species] = ep/nat_val - e_val/nat_val\n",
    "    force_errs_ens1[species] = fp.flatten() - f_val.flatten()\n",
    "    \n",
    "    model =  train_ensamble_linear_model(tr_features, noise, e_t, f_t,\n",
    "                        n_neighbours=10, \n",
    "                         n_clusters=8, clustering='e_gmm')\n",
    "    ep = model.predict_energy(val_features)\n",
    "    fp = model.predict_forces(val_features)\n",
    "    en_errs_ens10[species] = ep/nat_val - e_val/nat_val\n",
    "    force_errs_ens10[species] = fp.flatten() - f_val.flatten()"
   ]
  },
  {
   "cell_type": "code",
   "execution_count": 85,
   "id": "aba4f822-0009-49d8-a4b7-bc3a58e36105",
   "metadata": {},
   "outputs": [],
   "source": [
    "import pandas as pd\n",
    "df_f = pd.DataFrame()\n",
    "df_en = pd.DataFrame()\n",
    "\n",
    "for s in rcuts.keys():\n",
    "    df1 = pd.DataFrame.from_dict(en_errs_lin[s])\n",
    "    df1['model'] = 'lin'\n",
    "    df2 = pd.DataFrame.from_dict(en_errs_ens1[s])\n",
    "    df2['model'] = 'ens1'\n",
    "    df3 = pd.DataFrame.from_dict(en_errs_ens10[s])\n",
    "    df3['model'] = 'ens10'\n",
    "    df = pd.concat([df1, df2, df3])\n",
    "    df = df.rename(columns = {0:'diff'})\n",
    "    df['mae'] = abs(df['diff'])\n",
    "    df['species'] = s\n",
    "    df_en = df_en.append(df)\n",
    "\n",
    "    df1 = pd.DataFrame.from_dict(force_errs_lin[s])\n",
    "    df1['model'] = 'lin'\n",
    "    df2 = pd.DataFrame.from_dict(force_errs_ens1[s])\n",
    "    df2['model'] = 'ens1'\n",
    "    df3 = pd.DataFrame.from_dict(force_errs_ens10[s])\n",
    "    df3['model'] = 'ens10'\n",
    "    df = pd.concat([df1, df2, df3])\n",
    "    df = df.rename(columns = {0:'diff'})\n",
    "    df['mae'] = abs(df['diff'])\n",
    "    df['species'] = s\n",
    "    df_f = df_f.append(df)"
   ]
  },
  {
   "cell_type": "code",
   "execution_count": 123,
   "id": "c2a7c33a-d019-49a2-b5f0-88bddd04c1f1",
   "metadata": {},
   "outputs": [],
   "source": [
    "import seaborn as sns\n",
    "sns.set_theme('notebook')\n",
    "sns.set_style('white')\n"
   ]
  },
  {
   "cell_type": "code",
   "execution_count": 124,
   "id": "54604180-4a0a-45db-9258-cfa089f22443",
   "metadata": {},
   "outputs": [
    {
     "data": {
      "image/png": "[encoded data removed]",
      "text/plain": [
       "<Figure size 576x288 with 1 Axes>"
      ]
     },
     "metadata": {},
     "output_type": "display_data"
    }
   ],
   "source": [
    "plt.figure(figsize = (8, 4))\n",
    "sns.boxplot(data = df_f, x = 'species', y = 'mae', hue = 'model')\n",
    "# plt.yscale('log')\n",
    "plt.ylim(0, 1)\n",
    "plt.legend(frameon=False, bbox_to_anchor = (1, 1), title = 'model')\n",
    "plt.title('Force MAEs [eV/Angstrom]')\n",
    "plt.tight_layout()\n",
    "plt.savefig(\"/home/claudio/postdoc/plots/zuo_ensamble_force_maes.pdf\")"
   ]
  },
  {
   "cell_type": "code",
   "execution_count": 125,
   "id": "3d9119ca-d455-4812-bc81-b1415d122de3",
   "metadata": {},
   "outputs": [
    {
     "data": {
      "image/png": "[encoded data removed]",
      "text/plain": [
       "<Figure size 576x288 with 1 Axes>"
      ]
     },
     "metadata": {},
     "output_type": "display_data"
    }
   ],
   "source": [
    "plt.figure(figsize = (8, 4))\n",
    "sns.boxplot(data = df_en, x = 'species', y = 'mae', hue = 'model')\n",
    "# plt.yscale('log')\n",
    "plt.ylim(0, 0.03)\n",
    "plt.legend(frameon=False, bbox_to_anchor = (1, 1), title = 'model')\n",
    "plt.title('Energy MAEs [eV/atom]')\n",
    "plt.tight_layout()\n",
    "plt.savefig(\"/home/claudio/postdoc/plots/zuo_ensamble_energy_maes.pdf\")"
   ]
  },
  {
   "cell_type": "code",
   "execution_count": 15,
   "id": "a73a8a03-6c2a-46ab-8f33-646f8d9679e2",
   "metadata": {},
   "outputs": [
    {
     "name": "stdout",
     "output_type": "stream",
     "text": [
      "MAE=0.004 RMSE=0.008 SUP=0.009 R2=1.000\n",
      "MAE=0.158 RMSE=0.261 SUP=1.417 R2=0.973\n"
     ]
    },
    {
     "data": {
      "image/png": "[encoded data removed]",
      "text/plain": [
       "<Figure size 432x288 with 1 Axes>"
      ]
     },
     "metadata": {
      "needs_background": "light"
     },
     "output_type": "display_data"
    },
    {
     "data": {
      "image/png": "[encoded data removed]",
      "text/plain": [
       "<Figure size 432x288 with 1 Axes>"
      ]
     },
     "metadata": {
      "needs_background": "light"
     },
     "output_type": "display_data"
    }
   ],
   "source": [
    "noise = 1e-8\n",
    "n_clusters = 8\n",
    "n_neighbours = 1\n",
    "# train the model\n",
    "model =  train_ensamble_linear_model(tr_features, noise, e_t, f_t,\n",
    "                        n_neighbours=n_neighbours, \n",
    "                         n_clusters=n_clusters, clustering='e_gmm')\n",
    "\n",
    "# evaluate its performances\n",
    "ep = model.predict_energy(val_features)\n",
    "fp = model.predict_forces(val_features)\n",
    "\n",
    "print_score(ep/nat_val, e_val/nat_val)\n",
    "print_score(fp.flatten(), f_val.flatten())\n",
    "# print_score(vp.flatten(), s_val.flatten())\n",
    "\n",
    "plt.scatter(e_val/nat_val, ep/nat_val)\n",
    "plt.plot(e_val/nat_val, e_val/nat_val, 'k--')\n",
    "plt.xlabel(\"True Energy [eV/atom]\")\n",
    "plt.ylabel(\"Predicted Energy [eV/atom]\")\n",
    "plt.show()\n",
    "\n",
    "plt.scatter(f_val, fp)\n",
    "plt.plot(f_val, f_val, 'k--')\n",
    "plt.xlabel(\"True Force [eV/$\\AA$]\")\n",
    "plt.ylabel(\"Predicted Force [eV/$\\AA$]\")\n",
    "plt.show()"
   ]
  },
  {
   "cell_type": "code",
   "execution_count": 25,
   "id": "87086330-159e-4f40-b785-cb9c5477e5cb",
   "metadata": {},
   "outputs": [
    {
     "name": "stdout",
     "output_type": "stream",
     "text": [
      "Using 9 clusters\n",
      "Using 9 clusters\n"
     ]
    }
   ],
   "source": [
    "noise = 1e-8\n",
    "model_lin = train_linear_model(tr_features, noise, e_t)\n",
    "\n",
    "model_ens_1 =  train_ensamble_linear_model(tr_features, noise, e_t, f_t,\n",
    "                        n_neighbours=1, \n",
    "                         n_clusters='auto', clustering='e_gmm')\n",
    "\n",
    "model_ens_10 =  train_ensamble_linear_model(tr_features, noise, e_t, f_t,\n",
    "                        n_neighbours=10, \n",
    "                         n_clusters='auto', clustering='e_gmm')"
   ]
  },
  {
   "cell_type": "code",
   "execution_count": 26,
   "id": "9ecf3276-d76e-4bce-a19d-d618da3f277e",
   "metadata": {},
   "outputs": [],
   "source": [
    "from ase.md.velocitydistribution import MaxwellBoltzmannDistribution\n",
    "from ase.md.verlet import VelocityVerlet\n",
    "from ase import units\n",
    "from ase import Atoms"
   ]
  },
  {
   "cell_type": "code",
   "execution_count": 32,
   "id": "60805053-86b0-468c-85fb-73dfe980bf82",
   "metadata": {},
   "outputs": [
    {
     "name": "stdout",
     "output_type": "stream",
     "text": [
      "Energy per atom: Epot = -10.171eV  Ekin = 1.249eV (T=9661K)  Etot = -8.922eV\n",
      "Energy per atom: Epot = -9.536eV  Ekin = 0.793eV (T=6137K)  Etot = -8.743eV\n",
      "Energy per atom: Epot = -9.524eV  Ekin = 0.782eV (T=6051K)  Etot = -8.742eV\n",
      "Energy per atom: Epot = -9.538eV  Ekin = 0.818eV (T=6326K)  Etot = -8.720eV\n",
      "Energy per atom: Epot = -9.621eV  Ekin = 0.952eV (T=7364K)  Etot = -8.669eV\n",
      "Energy per atom: Epot = -9.559eV  Ekin = 0.902eV (T=6979K)  Etot = -8.657eV\n",
      "Energy per atom: Epot = -9.613eV  Ekin = 0.994eV (T=7692K)  Etot = -8.619eV\n",
      "Energy per atom: Epot = -9.548eV  Ekin = 0.932eV (T=7214K)  Etot = -8.616eV\n",
      "Energy per atom: Epot = -9.562eV  Ekin = 1.007eV (T=7789K)  Etot = -8.555eV\n",
      "Energy per atom: Epot = -9.365eV  Ekin = 0.820eV (T=6342K)  Etot = -8.545eV\n",
      "Energy per atom: Epot = -9.504eV  Ekin = 0.958eV (T=7411K)  Etot = -8.546eV\n",
      "Energy per atom: Epot = -9.590eV  Ekin = 1.060eV (T=8204K)  Etot = -8.530eV\n",
      "Energy per atom: Epot = -9.496eV  Ekin = 0.984eV (T=7615K)  Etot = -8.511eV\n",
      "Energy per atom: Epot = -9.466eV  Ekin = 0.959eV (T=7422K)  Etot = -8.507eV\n",
      "Energy per atom: Epot = -9.476eV  Ekin = 1.045eV (T=8087K)  Etot = -8.431eV\n",
      "Energy per atom: Epot = -9.627eV  Ekin = 1.235eV (T=9553K)  Etot = -8.392eV\n",
      "Energy per atom: Epot = -9.407eV  Ekin = 1.135eV (T=8784K)  Etot = -8.271eV\n",
      "Energy per atom: Epot = -9.249eV  Ekin = 0.978eV (T=7565K)  Etot = -8.271eV\n",
      "Energy per atom: Epot = -9.418eV  Ekin = 1.146eV (T=8863K)  Etot = -8.273eV\n",
      "Energy per atom: Epot = -9.311eV  Ekin = 1.041eV (T=8052K)  Etot = -8.270eV\n",
      "Energy per atom: Epot = -9.201eV  Ekin = 0.932eV (T=7213K)  Etot = -8.268eV\n",
      "Energy per atom: Epot = -9.289eV  Ekin = 1.018eV (T=7878K)  Etot = -8.270eV\n",
      "Energy per atom: Epot = -9.433eV  Ekin = 1.161eV (T=8982K)  Etot = -8.272eV\n",
      "Energy per atom: Epot = -9.412eV  Ekin = 1.138eV (T=8805K)  Etot = -8.274eV\n",
      "Energy per atom: Epot = -9.412eV  Ekin = 1.176eV (T=9099K)  Etot = -8.236eV\n",
      "Energy per atom: Epot = -9.399eV  Ekin = 1.160eV (T=8978K)  Etot = -8.239eV\n",
      "Energy per atom: Epot = -9.290eV  Ekin = 1.051eV (T=8129K)  Etot = -8.239eV\n",
      "Energy per atom: Epot = -9.379eV  Ekin = 1.140eV (T=8820K)  Etot = -8.239eV\n",
      "Energy per atom: Epot = -9.421eV  Ekin = 1.183eV (T=9152K)  Etot = -8.238eV\n",
      "Energy per atom: Epot = -9.350eV  Ekin = 1.113eV (T=8610K)  Etot = -8.237eV\n",
      "Energy per atom: Epot = -9.429eV  Ekin = 1.227eV (T=9492K)  Etot = -8.203eV\n"
     ]
    },
    {
     "name": "stderr",
     "output_type": "stream",
     "text": [
      "/home/claudio/postdoc/Castle/notebooks/../castle/lp_ensamble.py:119: RuntimeWarning: invalid value encountered in true_divide\n",
      "  weights = np.exp(-neigh_dist)/np.sum(np.exp(-neigh_dist))\n",
      "/home/claudio/postdoc/Castle/notebooks/../castle/lp_ensamble.py:169: RuntimeWarning: invalid value encountered in true_divide\n",
      "  model_weights = np.exp(-neigh_dist)/np.sum(np.exp(-neigh_dist))\n",
      "/home/claudio/postdoc/Castle/notebooks/../castle/lp_ensamble.py:181: RuntimeWarning: invalid value encountered in true_divide\n",
      "  d_weights_d_descr /= np.sum(np.exp(-neigh_dist))\n",
      "/home/claudio/.local/lib/python3.8/site-packages/ase/geometry/geometry.py:92: RuntimeWarning: invalid value encountered in remainder\n",
      "  fractional[:, i] %= 1.0\n"
     ]
    },
    {
     "ename": "ArithmeticError",
     "evalue": "<PyCall.jlwrap (in a Julia function called from Python)\nJULIA: InexactError: trunc(Int64, NaN)\nStacktrace:\n  [1] trunc\n    @ ./float.jl:716 [inlined]\n  [2] floor\n    @ ./float.jl:294 [inlined]\n  [3] #2\n    @ ./broadcast.jl:314 [inlined]\n  [4] macro expansion\n    @ ~/.julia/packages/StaticArrays/OWJK7/src/broadcast.jl:126 [inlined]\n  [5] _broadcast\n    @ ~/.julia/packages/StaticArrays/OWJK7/src/broadcast.jl:100 [inlined]\n  [6] copy\n    @ ~/.julia/packages/StaticArrays/OWJK7/src/broadcast.jl:27 [inlined]\n  [7] materialize\n    @ ./broadcast.jl:883 [inlined]\n  [8] position_to_cell_index\n    @ ~/.julia/packages/NeighbourLists/OehCB/src/cell_list.jl:48 [inlined]\n  [9] _celllist_(X::Vector{StaticArrays.SVector{3, Float64}}, cell::StaticArrays.SMatrix{3, 3, Float64, 9}, pbc::StaticArrays.SVector{3, Bool}, cutoff::Float64, TI::Type{Int64})\n    @ NeighbourLists ~/.julia/packages/NeighbourLists/OehCB/src/cell_list.jl:126\n [10] _pairlist_(X::Vector{StaticArrays.SVector{3, Float64}}, cell::StaticArrays.SMatrix{3, 3, Float64, 9}, pbc::StaticArrays.SVector{3, Bool}, cutoff::Float64, TI::Type, fixcell::Bool)\n    @ NeighbourLists ~/.julia/packages/NeighbourLists/OehCB/src/cell_list.jl:294\n [11] #PairList#1\n    @ ~/.julia/packages/NeighbourLists/OehCB/src/cell_list.jl:6 [inlined]\n [12] neighbourlist(at::Atoms{Float64}, rcut::Float64; recompute::Bool, key::String, storelist::Bool, int_type::Type, kwargs::Base.Iterators.Pairs{Union{}, Union{}, Tuple{}, NamedTuple{(), Tuple{}}})\n    @ JuLIP ~/.julia/packages/JuLIP/kvmr6/src/atoms.jl:198\n [13] neighbourlist\n    @ ~/.julia/packages/JuLIP/kvmr6/src/atoms.jl:188 [inlined]\n [14] sum_descriptor(shipB::ACE.RPI.RPIBasis{Float64, ACE.RPI.BasicPSH1pBasis{Float64, 1, ACE.OrthPolys.TransformedPolys{Float64, ACE.Transforms.PolyTransform{Int64, Float64}, ACE.OrthPolys.OrthPolyBasis{Float64}}}, 1, ACE.DAGEvaluator}, at::Atoms{Float64})\n    @ Main ~/postdoc/Castle/castle/julia_utils.jl:41\n [15] extract_info_frame(B::ACE.RPI.RPIBasis{Float64, ACE.RPI.BasicPSH1pBasis{Float64, 1, ACE.OrthPolys.TransformedPolys{Float64, ACE.Transforms.PolyTransform{Int64, Float64}, ACE.OrthPolys.OrthPolyBasis{Float64}}}, 1, ACE.DAGEvaluator}, frame::Atoms{Float64})\n    @ Main ~/postdoc/Castle/castle/julia_utils.jl:144\n [16] invokelatest(::Any, ::Any, ::Vararg{Any, N} where N; kwargs::Base.Iterators.Pairs{Union{}, Union{}, Tuple{}, NamedTuple{(), Tuple{}}})\n    @ Base ./essentials.jl:708\n [17] invokelatest(::Any, ::Any, ::Vararg{Any, N} where N)\n    @ Base ./essentials.jl:706\n [18] _pyjlwrap_call(f::Function, args_::Ptr{PyCall.PyObject_struct}, kw_::Ptr{PyCall.PyObject_struct})\n    @ PyCall ~/.julia/packages/PyCall/3fwVL/src/callback.jl:28\n [19] pyjlwrap_call(self_::Ptr{PyCall.PyObject_struct}, args_::Ptr{PyCall.PyObject_struct}, kw_::Ptr{PyCall.PyObject_struct})\n    @ PyCall ~/.julia/packages/PyCall/3fwVL/src/callback.jl:44>",
     "output_type": "error",
     "traceback": [
      "\u001b[0;31m---------------------------------------------------------------------------\u001b[0m",
      "\u001b[0;31mArithmeticError\u001b[0m                           Traceback (most recent call last)",
      "\u001b[0;32m/tmp/ipykernel_7471/904882271.py\u001b[0m in \u001b[0;36m<module>\u001b[0;34m\u001b[0m\n\u001b[1;32m     20\u001b[0m \u001b[0mprintenergy\u001b[0m\u001b[0;34m(\u001b[0m\u001b[0matoms\u001b[0m\u001b[0;34m)\u001b[0m\u001b[0;34m\u001b[0m\u001b[0;34m\u001b[0m\u001b[0m\n\u001b[1;32m     21\u001b[0m \u001b[0;32mfor\u001b[0m \u001b[0mi\u001b[0m \u001b[0;32min\u001b[0m \u001b[0mrange\u001b[0m\u001b[0;34m(\u001b[0m\u001b[0;36m2000\u001b[0m\u001b[0;34m)\u001b[0m\u001b[0;34m:\u001b[0m\u001b[0;34m\u001b[0m\u001b[0;34m\u001b[0m\u001b[0m\n\u001b[0;32m---> 22\u001b[0;31m     \u001b[0mdyn\u001b[0m\u001b[0;34m.\u001b[0m\u001b[0mrun\u001b[0m\u001b[0;34m(\u001b[0m\u001b[0;36m10\u001b[0m\u001b[0;34m)\u001b[0m\u001b[0;34m\u001b[0m\u001b[0;34m\u001b[0m\u001b[0m\n\u001b[0m\u001b[1;32m     23\u001b[0m     \u001b[0mprintenergy\u001b[0m\u001b[0;34m(\u001b[0m\u001b[0matoms\u001b[0m\u001b[0;34m)\u001b[0m\u001b[0;34m\u001b[0m\u001b[0;34m\u001b[0m\u001b[0m\n",
      "\u001b[0;32m~/.local/lib/python3.8/site-packages/ase/md/md.py\u001b[0m in \u001b[0;36mrun\u001b[0;34m(self, steps)\u001b[0m\n\u001b[1;32m    135\u001b[0m         \u001b[0;34m\"\"\" Call Dynamics.run and adjust max_steps \"\"\"\u001b[0m\u001b[0;34m\u001b[0m\u001b[0;34m\u001b[0m\u001b[0m\n\u001b[1;32m    136\u001b[0m         \u001b[0mself\u001b[0m\u001b[0;34m.\u001b[0m\u001b[0mmax_steps\u001b[0m \u001b[0;34m=\u001b[0m \u001b[0msteps\u001b[0m \u001b[0;34m+\u001b[0m \u001b[0mself\u001b[0m\u001b[0;34m.\u001b[0m\u001b[0mnsteps\u001b[0m\u001b[0;34m\u001b[0m\u001b[0;34m\u001b[0m\u001b[0m\n\u001b[0;32m--> 137\u001b[0;31m         \u001b[0;32mreturn\u001b[0m \u001b[0mDynamics\u001b[0m\u001b[0;34m.\u001b[0m\u001b[0mrun\u001b[0m\u001b[0;34m(\u001b[0m\u001b[0mself\u001b[0m\u001b[0;34m)\u001b[0m\u001b[0;34m\u001b[0m\u001b[0;34m\u001b[0m\u001b[0m\n\u001b[0m\u001b[1;32m    138\u001b[0m \u001b[0;34m\u001b[0m\u001b[0m\n\u001b[1;32m    139\u001b[0m     \u001b[0;32mdef\u001b[0m \u001b[0mget_time\u001b[0m\u001b[0;34m(\u001b[0m\u001b[0mself\u001b[0m\u001b[0;34m)\u001b[0m\u001b[0;34m:\u001b[0m\u001b[0;34m\u001b[0m\u001b[0;34m\u001b[0m\u001b[0m\n",
      "\u001b[0;32m~/.local/lib/python3.8/site-packages/ase/optimize/optimize.py\u001b[0m in \u001b[0;36mrun\u001b[0;34m(self)\u001b[0m\n\u001b[1;32m    154\u001b[0m         *steps*.\"\"\"\n\u001b[1;32m    155\u001b[0m \u001b[0;34m\u001b[0m\u001b[0m\n\u001b[0;32m--> 156\u001b[0;31m         \u001b[0;32mfor\u001b[0m \u001b[0mconverged\u001b[0m \u001b[0;32min\u001b[0m \u001b[0mDynamics\u001b[0m\u001b[0;34m.\u001b[0m\u001b[0mirun\u001b[0m\u001b[0;34m(\u001b[0m\u001b[0mself\u001b[0m\u001b[0;34m)\u001b[0m\u001b[0;34m:\u001b[0m\u001b[0;34m\u001b[0m\u001b[0;34m\u001b[0m\u001b[0m\n\u001b[0m\u001b[1;32m    157\u001b[0m             \u001b[0;32mpass\u001b[0m\u001b[0;34m\u001b[0m\u001b[0;34m\u001b[0m\u001b[0m\n\u001b[1;32m    158\u001b[0m         \u001b[0;32mreturn\u001b[0m \u001b[0mconverged\u001b[0m\u001b[0;34m\u001b[0m\u001b[0;34m\u001b[0m\u001b[0m\n",
      "\u001b[0;32m~/.local/lib/python3.8/site-packages/ase/optimize/optimize.py\u001b[0m in \u001b[0;36mirun\u001b[0;34m(self)\u001b[0m\n\u001b[1;32m    133\u001b[0m \u001b[0;34m\u001b[0m\u001b[0m\n\u001b[1;32m    134\u001b[0m             \u001b[0;31m# compute the next step\u001b[0m\u001b[0;34m\u001b[0m\u001b[0;34m\u001b[0m\u001b[0;34m\u001b[0m\u001b[0m\n\u001b[0;32m--> 135\u001b[0;31m             \u001b[0mself\u001b[0m\u001b[0;34m.\u001b[0m\u001b[0mstep\u001b[0m\u001b[0;34m(\u001b[0m\u001b[0;34m)\u001b[0m\u001b[0;34m\u001b[0m\u001b[0;34m\u001b[0m\u001b[0m\n\u001b[0m\u001b[1;32m    136\u001b[0m             \u001b[0mself\u001b[0m\u001b[0;34m.\u001b[0m\u001b[0mnsteps\u001b[0m \u001b[0;34m+=\u001b[0m \u001b[0;36m1\u001b[0m\u001b[0;34m\u001b[0m\u001b[0;34m\u001b[0m\u001b[0m\n\u001b[1;32m    137\u001b[0m \u001b[0;34m\u001b[0m\u001b[0m\n",
      "\u001b[0;32m~/.local/lib/python3.8/site-packages/ase/md/verlet.py\u001b[0m in \u001b[0;36mstep\u001b[0;34m(self, forces)\u001b[0m\n\u001b[1;32m     73\u001b[0m         \u001b[0matoms\u001b[0m\u001b[0;34m.\u001b[0m\u001b[0mset_momenta\u001b[0m\u001b[0;34m(\u001b[0m\u001b[0mp\u001b[0m\u001b[0;34m,\u001b[0m \u001b[0mapply_constraint\u001b[0m\u001b[0;34m=\u001b[0m\u001b[0;32mFalse\u001b[0m\u001b[0;34m)\u001b[0m\u001b[0;34m\u001b[0m\u001b[0;34m\u001b[0m\u001b[0m\n\u001b[1;32m     74\u001b[0m \u001b[0;34m\u001b[0m\u001b[0m\n\u001b[0;32m---> 75\u001b[0;31m         \u001b[0mforces\u001b[0m \u001b[0;34m=\u001b[0m \u001b[0matoms\u001b[0m\u001b[0;34m.\u001b[0m\u001b[0mget_forces\u001b[0m\u001b[0;34m(\u001b[0m\u001b[0mmd\u001b[0m\u001b[0;34m=\u001b[0m\u001b[0;32mTrue\u001b[0m\u001b[0;34m)\u001b[0m\u001b[0;34m\u001b[0m\u001b[0;34m\u001b[0m\u001b[0m\n\u001b[0m\u001b[1;32m     76\u001b[0m \u001b[0;34m\u001b[0m\u001b[0m\n\u001b[1;32m     77\u001b[0m         \u001b[0;31m# Second part of RATTLE will be done here:\u001b[0m\u001b[0;34m\u001b[0m\u001b[0;34m\u001b[0m\u001b[0;34m\u001b[0m\u001b[0m\n",
      "\u001b[0;32m~/.local/lib/python3.8/site-packages/ase/atoms.py\u001b[0m in \u001b[0;36mget_forces\u001b[0;34m(self, apply_constraint, md)\u001b[0m\n\u001b[1;32m    786\u001b[0m         \u001b[0;32mif\u001b[0m \u001b[0mself\u001b[0m\u001b[0;34m.\u001b[0m\u001b[0m_calc\u001b[0m \u001b[0;32mis\u001b[0m \u001b[0;32mNone\u001b[0m\u001b[0;34m:\u001b[0m\u001b[0;34m\u001b[0m\u001b[0;34m\u001b[0m\u001b[0m\n\u001b[1;32m    787\u001b[0m             \u001b[0;32mraise\u001b[0m \u001b[0mRuntimeError\u001b[0m\u001b[0;34m(\u001b[0m\u001b[0;34m'Atoms object has no calculator.'\u001b[0m\u001b[0;34m)\u001b[0m\u001b[0;34m\u001b[0m\u001b[0;34m\u001b[0m\u001b[0m\n\u001b[0;32m--> 788\u001b[0;31m         \u001b[0mforces\u001b[0m \u001b[0;34m=\u001b[0m \u001b[0mself\u001b[0m\u001b[0;34m.\u001b[0m\u001b[0m_calc\u001b[0m\u001b[0;34m.\u001b[0m\u001b[0mget_forces\u001b[0m\u001b[0;34m(\u001b[0m\u001b[0mself\u001b[0m\u001b[0;34m)\u001b[0m\u001b[0;34m\u001b[0m\u001b[0;34m\u001b[0m\u001b[0m\n\u001b[0m\u001b[1;32m    789\u001b[0m \u001b[0;34m\u001b[0m\u001b[0m\n\u001b[1;32m    790\u001b[0m         \u001b[0;32mif\u001b[0m \u001b[0mapply_constraint\u001b[0m\u001b[0;34m:\u001b[0m\u001b[0;34m\u001b[0m\u001b[0;34m\u001b[0m\u001b[0m\n",
      "\u001b[0;32m~/.local/lib/python3.8/site-packages/ase/calculators/abc.py\u001b[0m in \u001b[0;36mget_forces\u001b[0;34m(self, atoms)\u001b[0m\n\u001b[1;32m     21\u001b[0m \u001b[0;34m\u001b[0m\u001b[0m\n\u001b[1;32m     22\u001b[0m     \u001b[0;32mdef\u001b[0m \u001b[0mget_forces\u001b[0m\u001b[0;34m(\u001b[0m\u001b[0mself\u001b[0m\u001b[0;34m,\u001b[0m \u001b[0matoms\u001b[0m\u001b[0;34m=\u001b[0m\u001b[0;32mNone\u001b[0m\u001b[0;34m)\u001b[0m\u001b[0;34m:\u001b[0m\u001b[0;34m\u001b[0m\u001b[0;34m\u001b[0m\u001b[0m\n\u001b[0;32m---> 23\u001b[0;31m         \u001b[0;32mreturn\u001b[0m \u001b[0mself\u001b[0m\u001b[0;34m.\u001b[0m\u001b[0mget_property\u001b[0m\u001b[0;34m(\u001b[0m\u001b[0;34m'forces'\u001b[0m\u001b[0;34m,\u001b[0m \u001b[0matoms\u001b[0m\u001b[0;34m)\u001b[0m\u001b[0;34m\u001b[0m\u001b[0;34m\u001b[0m\u001b[0m\n\u001b[0m\u001b[1;32m     24\u001b[0m \u001b[0;34m\u001b[0m\u001b[0m\n\u001b[1;32m     25\u001b[0m     \u001b[0;32mdef\u001b[0m \u001b[0mget_stress\u001b[0m\u001b[0;34m(\u001b[0m\u001b[0mself\u001b[0m\u001b[0;34m,\u001b[0m \u001b[0matoms\u001b[0m\u001b[0;34m=\u001b[0m\u001b[0;32mNone\u001b[0m\u001b[0;34m)\u001b[0m\u001b[0;34m:\u001b[0m\u001b[0;34m\u001b[0m\u001b[0;34m\u001b[0m\u001b[0m\n",
      "\u001b[0;32m~/.local/lib/python3.8/site-packages/ase/calculators/calculator.py\u001b[0m in \u001b[0;36mget_property\u001b[0;34m(self, name, atoms, allow_calculation)\u001b[0m\n\u001b[1;32m    735\u001b[0m             \u001b[0;32mif\u001b[0m \u001b[0;32mnot\u001b[0m \u001b[0mallow_calculation\u001b[0m\u001b[0;34m:\u001b[0m\u001b[0;34m\u001b[0m\u001b[0;34m\u001b[0m\u001b[0m\n\u001b[1;32m    736\u001b[0m                 \u001b[0;32mreturn\u001b[0m \u001b[0;32mNone\u001b[0m\u001b[0;34m\u001b[0m\u001b[0;34m\u001b[0m\u001b[0m\n\u001b[0;32m--> 737\u001b[0;31m             \u001b[0mself\u001b[0m\u001b[0;34m.\u001b[0m\u001b[0mcalculate\u001b[0m\u001b[0;34m(\u001b[0m\u001b[0matoms\u001b[0m\u001b[0;34m,\u001b[0m \u001b[0;34m[\u001b[0m\u001b[0mname\u001b[0m\u001b[0;34m]\u001b[0m\u001b[0;34m,\u001b[0m \u001b[0msystem_changes\u001b[0m\u001b[0;34m)\u001b[0m\u001b[0;34m\u001b[0m\u001b[0;34m\u001b[0m\u001b[0m\n\u001b[0m\u001b[1;32m    738\u001b[0m \u001b[0;34m\u001b[0m\u001b[0m\n\u001b[1;32m    739\u001b[0m         \u001b[0;32mif\u001b[0m \u001b[0mname\u001b[0m \u001b[0;32mnot\u001b[0m \u001b[0;32min\u001b[0m \u001b[0mself\u001b[0m\u001b[0;34m.\u001b[0m\u001b[0mresults\u001b[0m\u001b[0;34m:\u001b[0m\u001b[0;34m\u001b[0m\u001b[0;34m\u001b[0m\u001b[0m\n",
      "\u001b[0;32m~/postdoc/Castle/notebooks/../castle/calc_ase_interface.py\u001b[0m in \u001b[0;36mcalculate\u001b[0;34m(self, atoms, properties, system_changes)\u001b[0m\n\u001b[1;32m     40\u001b[0m         \u001b[0mat\u001b[0m\u001b[0;34m.\u001b[0m\u001b[0mwrap\u001b[0m\u001b[0;34m(\u001b[0m\u001b[0meps\u001b[0m\u001b[0;34m=\u001b[0m\u001b[0;36m1e-11\u001b[0m\u001b[0;34m)\u001b[0m\u001b[0;34m\u001b[0m\u001b[0;34m\u001b[0m\u001b[0m\n\u001b[1;32m     41\u001b[0m         \u001b[0mself\u001b[0m\u001b[0;34m.\u001b[0m\u001b[0mmanager\u001b[0m \u001b[0;34m=\u001b[0m \u001b[0;34m[\u001b[0m\u001b[0mat\u001b[0m\u001b[0;34m]\u001b[0m\u001b[0;34m\u001b[0m\u001b[0;34m\u001b[0m\u001b[0m\n\u001b[0;32m---> 42\u001b[0;31m         \u001b[0mfeatures\u001b[0m \u001b[0;34m=\u001b[0m \u001b[0mself\u001b[0m\u001b[0;34m.\u001b[0m\u001b[0mrepresentation\u001b[0m\u001b[0;34m.\u001b[0m\u001b[0mtransform\u001b[0m\u001b[0;34m(\u001b[0m\u001b[0mself\u001b[0m\u001b[0;34m.\u001b[0m\u001b[0mmanager\u001b[0m\u001b[0;34m)\u001b[0m\u001b[0;34m\u001b[0m\u001b[0;34m\u001b[0m\u001b[0m\n\u001b[0m\u001b[1;32m     43\u001b[0m         \u001b[0menergy\u001b[0m \u001b[0;34m=\u001b[0m \u001b[0mself\u001b[0m\u001b[0;34m.\u001b[0m\u001b[0mmodel\u001b[0m\u001b[0;34m.\u001b[0m\u001b[0mpredict_energy\u001b[0m\u001b[0;34m(\u001b[0m\u001b[0mfeatures\u001b[0m\u001b[0;34m)\u001b[0m\u001b[0;34m\u001b[0m\u001b[0;34m\u001b[0m\u001b[0m\n\u001b[1;32m     44\u001b[0m         \u001b[0mself\u001b[0m\u001b[0;34m.\u001b[0m\u001b[0mresults\u001b[0m\u001b[0;34m[\u001b[0m\u001b[0;34m\"energy\"\u001b[0m\u001b[0;34m]\u001b[0m \u001b[0;34m=\u001b[0m \u001b[0menergy\u001b[0m\u001b[0;34m\u001b[0m\u001b[0;34m\u001b[0m\u001b[0m\n",
      "\u001b[0;32m~/postdoc/Castle/notebooks/../castle/representation.py\u001b[0m in \u001b[0;36mtransform\u001b[0;34m(self, frames, compute_derivative)\u001b[0m\n\u001b[1;32m     59\u001b[0m                     \u001b[0mdX_dr\u001b[0m\u001b[0;34m[\u001b[0m\u001b[0mst\u001b[0m\u001b[0;34m:\u001b[0m\u001b[0mnd\u001b[0m\u001b[0;34m]\u001b[0m\u001b[0;34m,\u001b[0m\u001b[0;34m\u001b[0m\u001b[0;34m\u001b[0m\u001b[0m\n\u001b[1;32m     60\u001b[0m                     \u001b[0mdX_ds\u001b[0m\u001b[0;34m[\u001b[0m\u001b[0mi_frame\u001b[0m\u001b[0;34m]\u001b[0m\u001b[0;34m,\u001b[0m\u001b[0;34m\u001b[0m\u001b[0;34m\u001b[0m\u001b[0m\n\u001b[0;32m---> 61\u001b[0;31m                 ) = self._get_global_representation_single_species(basis, frame)\n\u001b[0m\u001b[1;32m     62\u001b[0m                 \u001b[0mdX_ds\u001b[0m\u001b[0;34m[\u001b[0m\u001b[0mi_frame\u001b[0m\u001b[0;34m]\u001b[0m \u001b[0;34m/=\u001b[0m \u001b[0mframe\u001b[0m\u001b[0;34m.\u001b[0m\u001b[0mget_volume\u001b[0m\u001b[0;34m(\u001b[0m\u001b[0;34m)\u001b[0m\u001b[0;34m\u001b[0m\u001b[0;34m\u001b[0m\u001b[0m\n\u001b[1;32m     63\u001b[0m             \u001b[0;32melse\u001b[0m\u001b[0;34m:\u001b[0m\u001b[0;34m\u001b[0m\u001b[0;34m\u001b[0m\u001b[0m\n",
      "\u001b[0;32m~/postdoc/Castle/notebooks/../castle/representation.py\u001b[0m in \u001b[0;36m_get_global_representation_single_species\u001b[0;34m(self, basis, frame)\u001b[0m\n\u001b[1;32m     71\u001b[0m \u001b[0;34m\u001b[0m\u001b[0m\n\u001b[1;32m     72\u001b[0m     \u001b[0;32mdef\u001b[0m \u001b[0m_get_global_representation_single_species\u001b[0m\u001b[0;34m(\u001b[0m\u001b[0mself\u001b[0m\u001b[0;34m,\u001b[0m \u001b[0mbasis\u001b[0m\u001b[0;34m,\u001b[0m \u001b[0mframe\u001b[0m\u001b[0;34m)\u001b[0m\u001b[0;34m:\u001b[0m\u001b[0;34m\u001b[0m\u001b[0;34m\u001b[0m\u001b[0m\n\u001b[0;32m---> 73\u001b[0;31m         X, dX_dr_global, dX_ds_global = descriptors_from_frame(basis, frame,\n\u001b[0m\u001b[1;32m     74\u001b[0m                                                                \u001b[0mself\u001b[0m\u001b[0;34m.\u001b[0m\u001b[0menergy_name\u001b[0m\u001b[0;34m,\u001b[0m\u001b[0;34m\u001b[0m\u001b[0;34m\u001b[0m\u001b[0m\n\u001b[1;32m     75\u001b[0m                                                                \u001b[0mself\u001b[0m\u001b[0;34m.\u001b[0m\u001b[0mforce_name\u001b[0m\u001b[0;34m,\u001b[0m\u001b[0;34m\u001b[0m\u001b[0;34m\u001b[0m\u001b[0m\n",
      "\u001b[0;32m~/postdoc/Castle/notebooks/../castle/ace_interface.py\u001b[0m in \u001b[0;36mdescriptors_from_frame\u001b[0;34m(basis, frame, energy_name, force_name, virial_name)\u001b[0m\n\u001b[1;32m     58\u001b[0m     at = frame_to_julia_at(frame, energy_name,\n\u001b[1;32m     59\u001b[0m                            force_name, virial_name)\n\u001b[0;32m---> 60\u001b[0;31m     \u001b[0mX\u001b[0m\u001b[0;34m,\u001b[0m \u001b[0mdX_dr\u001b[0m\u001b[0;34m,\u001b[0m \u001b[0mdX_ds\u001b[0m \u001b[0;34m=\u001b[0m \u001b[0mdescriptors_from_at\u001b[0m\u001b[0;34m(\u001b[0m\u001b[0mbasis\u001b[0m\u001b[0;34m,\u001b[0m \u001b[0mat\u001b[0m\u001b[0;34m)\u001b[0m\u001b[0;34m\u001b[0m\u001b[0;34m\u001b[0m\u001b[0m\n\u001b[0m\u001b[1;32m     61\u001b[0m     \u001b[0mdX_ds\u001b[0m \u001b[0;34m=\u001b[0m \u001b[0mdX_ds\u001b[0m\u001b[0;34m[\u001b[0m\u001b[0mmatrix_indices_in_voigt_notation\u001b[0m\u001b[0;34m,\u001b[0m \u001b[0;34m:\u001b[0m\u001b[0;34m]\u001b[0m\u001b[0;34m[\u001b[0m\u001b[0;34m:\u001b[0m\u001b[0;34m,\u001b[0m \u001b[0;36m0\u001b[0m\u001b[0;34m,\u001b[0m \u001b[0;36m0\u001b[0m\u001b[0;34m,\u001b[0m \u001b[0;34m:\u001b[0m\u001b[0;34m]\u001b[0m\u001b[0;34m\u001b[0m\u001b[0;34m\u001b[0m\u001b[0m\n\u001b[1;32m     62\u001b[0m     \u001b[0;32mreturn\u001b[0m \u001b[0mX\u001b[0m\u001b[0;34m,\u001b[0m \u001b[0mdX_dr\u001b[0m\u001b[0;34m,\u001b[0m \u001b[0mdX_ds\u001b[0m\u001b[0;34m\u001b[0m\u001b[0;34m\u001b[0m\u001b[0m\n",
      "\u001b[0;32m~/postdoc/Castle/notebooks/../castle/ace_interface.py\u001b[0m in \u001b[0;36mdescriptors_from_at\u001b[0;34m(basis, at)\u001b[0m\n\u001b[1;32m     38\u001b[0m \u001b[0;34m\u001b[0m\u001b[0m\n\u001b[1;32m     39\u001b[0m \u001b[0;32mdef\u001b[0m \u001b[0mdescriptors_from_at\u001b[0m\u001b[0;34m(\u001b[0m\u001b[0mbasis\u001b[0m\u001b[0;34m,\u001b[0m \u001b[0mat\u001b[0m\u001b[0;34m)\u001b[0m\u001b[0;34m:\u001b[0m\u001b[0;34m\u001b[0m\u001b[0;34m\u001b[0m\u001b[0m\n\u001b[0;32m---> 40\u001b[0;31m     \u001b[0mX\u001b[0m\u001b[0;34m,\u001b[0m \u001b[0mdX_dr\u001b[0m\u001b[0;34m,\u001b[0m \u001b[0mdX_ds\u001b[0m \u001b[0;34m=\u001b[0m \u001b[0mMain\u001b[0m\u001b[0;34m.\u001b[0m\u001b[0mextract_info_frame\u001b[0m\u001b[0;34m(\u001b[0m\u001b[0mbasis\u001b[0m\u001b[0;34m,\u001b[0m \u001b[0mat\u001b[0m\u001b[0;34m.\u001b[0m\u001b[0mat\u001b[0m\u001b[0;34m)\u001b[0m\u001b[0;34m\u001b[0m\u001b[0;34m\u001b[0m\u001b[0m\n\u001b[0m\u001b[1;32m     41\u001b[0m     return (X.T, np.transpose(np.array(dX_dr), (1, 2, 0)),\n\u001b[1;32m     42\u001b[0m             np.transpose(np.array(dX_ds), (1, 2, 0)))\n",
      "\u001b[0;31mArithmeticError\u001b[0m: <PyCall.jlwrap (in a Julia function called from Python)\nJULIA: InexactError: trunc(Int64, NaN)\nStacktrace:\n  [1] trunc\n    @ ./float.jl:716 [inlined]\n  [2] floor\n    @ ./float.jl:294 [inlined]\n  [3] #2\n    @ ./broadcast.jl:314 [inlined]\n  [4] macro expansion\n    @ ~/.julia/packages/StaticArrays/OWJK7/src/broadcast.jl:126 [inlined]\n  [5] _broadcast\n    @ ~/.julia/packages/StaticArrays/OWJK7/src/broadcast.jl:100 [inlined]\n  [6] copy\n    @ ~/.julia/packages/StaticArrays/OWJK7/src/broadcast.jl:27 [inlined]\n  [7] materialize\n    @ ./broadcast.jl:883 [inlined]\n  [8] position_to_cell_index\n    @ ~/.julia/packages/NeighbourLists/OehCB/src/cell_list.jl:48 [inlined]\n  [9] _celllist_(X::Vector{StaticArrays.SVector{3, Float64}}, cell::StaticArrays.SMatrix{3, 3, Float64, 9}, pbc::StaticArrays.SVector{3, Bool}, cutoff::Float64, TI::Type{Int64})\n    @ NeighbourLists ~/.julia/packages/NeighbourLists/OehCB/src/cell_list.jl:126\n [10] _pairlist_(X::Vector{StaticArrays.SVector{3, Float64}}, cell::StaticArrays.SMatrix{3, 3, Float64, 9}, pbc::StaticArrays.SVector{3, Bool}, cutoff::Float64, TI::Type, fixcell::Bool)\n    @ NeighbourLists ~/.julia/packages/NeighbourLists/OehCB/src/cell_list.jl:294\n [11] #PairList#1\n    @ ~/.julia/packages/NeighbourLists/OehCB/src/cell_list.jl:6 [inlined]\n [12] neighbourlist(at::Atoms{Float64}, rcut::Float64; recompute::Bool, key::String, storelist::Bool, int_type::Type, kwargs::Base.Iterators.Pairs{Union{}, Union{}, Tuple{}, NamedTuple{(), Tuple{}}})\n    @ JuLIP ~/.julia/packages/JuLIP/kvmr6/src/atoms.jl:198\n [13] neighbourlist\n    @ ~/.julia/packages/JuLIP/kvmr6/src/atoms.jl:188 [inlined]\n [14] sum_descriptor(shipB::ACE.RPI.RPIBasis{Float64, ACE.RPI.BasicPSH1pBasis{Float64, 1, ACE.OrthPolys.TransformedPolys{Float64, ACE.Transforms.PolyTransform{Int64, Float64}, ACE.OrthPolys.OrthPolyBasis{Float64}}}, 1, ACE.DAGEvaluator}, at::Atoms{Float64})\n    @ Main ~/postdoc/Castle/castle/julia_utils.jl:41\n [15] extract_info_frame(B::ACE.RPI.RPIBasis{Float64, ACE.RPI.BasicPSH1pBasis{Float64, 1, ACE.OrthPolys.TransformedPolys{Float64, ACE.Transforms.PolyTransform{Int64, Float64}, ACE.OrthPolys.OrthPolyBasis{Float64}}}, 1, ACE.DAGEvaluator}, frame::Atoms{Float64})\n    @ Main ~/postdoc/Castle/castle/julia_utils.jl:144\n [16] invokelatest(::Any, ::Any, ::Vararg{Any, N} where N; kwargs::Base.Iterators.Pairs{Union{}, Union{}, Tuple{}, NamedTuple{(), Tuple{}}})\n    @ Base ./essentials.jl:708\n [17] invokelatest(::Any, ::Any, ::Vararg{Any, N} where N)\n    @ Base ./essentials.jl:706\n [18] _pyjlwrap_call(f::Function, args_::Ptr{PyCall.PyObject_struct}, kw_::Ptr{PyCall.PyObject_struct})\n    @ PyCall ~/.julia/packages/PyCall/3fwVL/src/callback.jl:28\n [19] pyjlwrap_call(self_::Ptr{PyCall.PyObject_struct}, args_::Ptr{PyCall.PyObject_struct}, kw_::Ptr{PyCall.PyObject_struct})\n    @ PyCall ~/.julia/packages/PyCall/3fwVL/src/callback.jl:44>"
     ]
    }
   ],
   "source": [
    "atoms = Atoms(read(root + f\"{species}/\" + \"validation_trajectory.xyz\", index = 0))\n",
    "calc = ASEMLCalculator(model_ens_10, model_ens_10.representation)\n",
    "atoms.set_calculator(calc)\n",
    "\n",
    "# Set the momenta corresponding to T=300K\n",
    "MaxwellBoltzmannDistribution(atoms, temperature_K=10000)\n",
    "\n",
    "# We want to run MD with constant energy using the VelocityVerlet algorithm.\n",
    "dyn = VelocityVerlet(atoms, 3 * units.fs)  # 5 fs time step.\n",
    "\n",
    "def printenergy(a):\n",
    "    \"\"\"Function to print the potential, kinetic and total energy\"\"\"\n",
    "    epot = a.get_potential_energy() / len(a)\n",
    "    ekin = a.get_kinetic_energy() / len(a)\n",
    "    print('Energy per atom: Epot = %.3feV  Ekin = %.3feV (T=%3.0fK)  '\n",
    "          'Etot = %.3feV' % (epot, ekin, ekin / (1.5 * units.kB), epot + ekin))\n",
    "\n",
    "\n",
    "# Now run the dynamics\n",
    "printenergy(atoms)\n",
    "for i in range(2000):\n",
    "    dyn.run(10)\n",
    "    printenergy(atoms)"
   ]
  },
  {
   "cell_type": "code",
   "execution_count": null,
   "id": "26480c19-f7bd-47b0-8d7f-6a76f6cdc914",
   "metadata": {},
   "outputs": [],
   "source": []
  }
 ],
 "metadata": {
  "kernelspec": {
   "display_name": "Python 3 (ipykernel)",
   "language": "python",
   "name": "python3"
  },
  "language_info": {
   "codemirror_mode": {
    "name": "ipython",
    "version": 3
   },
   "file_extension": ".py",
   "mimetype": "text/x-python",
   "name": "python",
   "nbconvert_exporter": "python",
   "pygments_lexer": "ipython3",
   "version": "3.8.10"
  }
 },
 "nbformat": 4,
 "nbformat_minor": 5
}
