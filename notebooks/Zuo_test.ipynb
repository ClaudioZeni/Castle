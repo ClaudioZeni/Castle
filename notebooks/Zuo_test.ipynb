{
 "cells": [
  {
   "cell_type": "code",
   "execution_count": 1,
   "id": "127ab595-f4c7-4c4f-b2a2-9d6d87344755",
   "metadata": {},
   "outputs": [],
   "source": [
    "from ase.io import read\n",
    "import numpy as np\n",
    "from matplotlib import pyplot as plt\n",
    "import joblib, pickle, sys\n",
    "from ase.lattice.cubic import FaceCenteredCubic, Diamond\n",
    "from scipy.optimize import leastsq, minimize\n",
    "from ase.build import bulk\n",
    "from ase.optimize import LBFGS, FIRE, MDMin\n",
    "from ase.md.langevin import Langevin\n",
    "from ase import constraints\n",
    "from ase.constraints import StrainFilter\n",
    "from ase.md.velocitydistribution import MaxwellBoltzmannDistribution\n",
    "from ase.md.verlet import VelocityVerlet\n",
    "from ase import units, Atoms\n",
    "from ase.calculators.lj import LennardJones\n",
    "from sklearn.metrics import mean_squared_error\n",
    "import pandas as pd\n",
    "import seaborn as sns\n",
    "\n",
    "sns.set_style(\"white\")\n",
    "sns.set_context(\"notebook\")\n",
    "\n",
    "from castle import ASEMLCalculator, AceRepresentation, LPEnsemble, LinearPotential, ExpandedPotential\n",
    "from castle import get_forces_and_energies, get_virials, get_nat, dump, load, print_score, utils\n",
    "rcuts = {'Cu': 3.9, 'Mo': 5.2, 'Si': 4.7, 'Ge':5.1, 'Ni':4.0, 'Li':5.1}\n",
    "\n",
    "%load_ext autoreload\n",
    "%autoreload 2"
   ]
  },
  {
   "cell_type": "code",
   "execution_count": null,
   "id": "a74ef854-82d7-4dc5-b40c-06ad55edd7d3",
   "metadata": {},
   "outputs": [],
   "source": [
    "N = 4\n",
    "maxdeg = 12\n",
    "e_noise = 1e-8\n",
    "f_noise = 1e-6\n",
    "# e_lin, f_lin, e_ens, f_ens, e_exp, f_exp = {}, {}, {}, {}, {}, {}\n",
    "n_clusters = {'Cu':5, 'Li':2, 'Ni':6, 'Mo':7, 'Si':2, 'Ge':3 }"
   ]
  },
  {
   "cell_type": "code",
   "execution_count": 19,
   "id": "d420ff43-ddc1-4988-9c21-bdb62e6d159d",
   "metadata": {},
   "outputs": [
    {
     "name": "stdout",
     "output_type": "stream",
     "text": [
      "Cu\n",
      "Clustering data\n",
      "Using 5 clusters\n",
      "Mo\n",
      "Clustering data\n",
      "Using 7 clusters\n",
      "Si\n",
      "Clustering data\n",
      "Using 2 clusters\n",
      "Ge\n",
      "Clustering data\n",
      "Using 3 clusters\n",
      "Ni\n",
      "Clustering data\n",
      "Using 6 clusters\n",
      "Li\n",
      "Clustering data\n",
      "Using 2 clusters\n"
     ]
    }
   ],
   "source": [
    "for species in list(rcuts.keys()):\n",
    "    root = f\"/home/claudio/postdoc/data/Zuo/{species}/\"\n",
    "\n",
    "    print(species)\n",
    "    rcut = rcuts[species]\n",
    "    force_name = 'dft_forces'\n",
    "    energy_name = 'DFT_PE'\n",
    "\n",
    "    \n",
    "    try:\n",
    "        e_t, f_t, e_val, f_val, nat_tr, nat_val, tr_features, val_features = utils.load_everything(\n",
    "            root, \"train_trajectory.xyz\", \"validation_trajectory.xyz\",\n",
    "            f\"tr_features_N_{N}_d_{maxdeg}_cut_{rcut}.xz\", f\"val_features_N_{N}_d_{maxdeg}_cut_{rcut}.xz\",\n",
    "            force_name = force_name, energy_name =energy_name)\n",
    "    except FileNotFoundError:\n",
    "        tr_features, val_features = utils.extract_features(root , \"train_trajectory.xyz\", \"validation_trajectory.xyz\",\n",
    "                                                     N=N, maxdeg=maxdeg, rcut=rcut, force_name = force_name, energy_name = energy_name,\n",
    "                                                    species = species)\n",
    "        e_t, f_t, e_val, f_val, nat_tr, nat_val, tr_features, val_features = utils.load_everything(\n",
    "            root, \"train_trajectory.xyz\", \"validation_trajectory.xyz\",\n",
    "            f\"tr_features_N_{N}_d_{maxdeg}_cut_{rcut}.xz\", f\"val_features_N_{N}_d_{maxdeg}_cut_{rcut}.xz\",\n",
    "            force_name = force_name, energy_name =energy_name)\n",
    "\n",
    "        representation = tr_features.representation\n",
    "    \n",
    "    model_lin = LinearPotential(representation)\n",
    "    model_lin.fit_from_features(tr_features, e_t, f_t, noise_optimization=False)\n",
    "    predictions = model_lin.predict_from_features(val_features, forces=True)\n",
    "    ep = predictions['energy']\n",
    "    fp = predictions['forces']\n",
    "    e_lin[species] = np.abs(ep/nat_val -  e_val/nat_val)\n",
    "    f_lin[species] = np.sum((fp - f_val)**2, axis = -1)**0.5\n",
    "    \n",
    "#     rmse_e_ = np.inf\n",
    "#     rmse_f_ = np.inf\n",
    "#     for n_clusters in np.arange(2, 10):\n",
    "#         model_ens =  LPEnsamble(representation, n_clusters=n_clusters, clustering_type='kmeans', baseline_percentile=0)\n",
    "#         model_ens.fit_from_features(tr_features, e_t, f_t, noise)\n",
    "#         predictions = model_ens.predict_from_features(val_features, forces=True)\n",
    "#         ep = predictions['energy']\n",
    "#         fp = predictions['forces']\n",
    "#         rmse_e = mean_squared_error(ep/nat_val, e_val/nat_val, squared=False)\n",
    "#         rmse_f = mean_squared_error(fp.flatten(), f_val.flatten(), squared=False)\n",
    "        \n",
    "#         if (rmse_e*3 + rmse_f) < 0.95*(rmse_e_*3 + rmse_f_):\n",
    "#             rmse_f_ = rmse_f\n",
    "#             rmse_e_ = rmse_e\n",
    "#             nclusters[species] = n_clusters\n",
    "#             print(n_clusters, rmse_e, rmse_f)\n",
    "            \n",
    "    model_ens =  LPEnsemble(representation, n_clusters=n_clusters[species], clustering_type='kmeans', baseline_percentile=0)\n",
    "    model_ens.fit_from_features(tr_features, e_t, f_t, noise_optimization=False)\n",
    "    predictions = model_ens.predict_from_features(val_features, forces=True)\n",
    "    ep = predictions['energy']\n",
    "    fp = predictions['forces']\n",
    "    e_ens[species] = np.abs(ep/nat_val -  e_val/nat_val)\n",
    "    f_ens[species] = np.sum((fp - f_val)**2, axis = -1)**0.5\n",
    "    \n",
    "    \n",
    "    model_exp = ExpandedPotential(representation, D=1000)\n",
    "    model_exp.fit_from_features(tr_features, e_t, f_t, e_noise, f_noise, noise_optimization=False, iterations=1)\n",
    "    predictions = model_exp.predict_from_features(val_features, forces=True)\n",
    "    ep = predictions['energy']\n",
    "    fp = predictions['forces']\n",
    "    e_exp[species] = np.abs(ep/nat_val -  e_val/nat_val)\n",
    "    f_exp[species] = np.sum((fp - f_val)**2, axis = -1)**0.5"
   ]
  },
  {
   "cell_type": "code",
   "execution_count": 10,
   "id": "fc92976a-677a-48b0-afce-5d60d0a3d849",
   "metadata": {},
   "outputs": [],
   "source": [
    "df_e = pd.DataFrame()\n",
    "df_f = pd.DataFrame()\n",
    "\n",
    "for s in rcuts.keys():\n",
    "    df_ = pd.DataFrame()\n",
    "    df_['Energy Error [meV/atom]'] = np.array(1000*e_lin[s])\n",
    "    df_['Model'] = 'linear'\n",
    "    df_['Species'] = s\n",
    "    df_e = df_e.append(df_)\n",
    "\n",
    "    df_ = pd.DataFrame()\n",
    "    df_['Energy Error [meV/atom]'] = np.array(1000*e_ens[s])\n",
    "    df_['Model'] = 'ensemble'\n",
    "    df_['Species'] = s\n",
    "    df_e = df_e.append(df_)\n",
    "    \n",
    "    df_ = pd.DataFrame()\n",
    "    df_['Energy Error [meV/atom]'] = np.array(1000*e_exp[s])\n",
    "    df_['Model'] = 'expanded'\n",
    "    df_['Species'] = s\n",
    "    df_e = df_e.append(df_)\n",
    "\n",
    "    df_ = pd.DataFrame()\n",
    "    df_['Force Error [eV/$\\AA$]'] = np.array(f_lin[s])/np.sqrt(3)\n",
    "    df_['Model'] = 'linear'\n",
    "    df_['Species'] = s\n",
    "    df_f = df_f.append(df_)\n",
    "\n",
    "    df_ = pd.DataFrame()\n",
    "    df_['Force Error [eV/$\\AA$]'] = np.array(f_ens[s])/np.sqrt(3)\n",
    "    df_['Model'] = 'ensemble'\n",
    "    df_['Species'] = s\n",
    "    df_f = df_f.append(df_)\n",
    "\n",
    "    df_ = pd.DataFrame()\n",
    "    df_['Force Error [eV/$\\AA$]'] = np.array(f_exp[s])/np.sqrt(3)\n",
    "    df_['Model'] = 'expanded'\n",
    "    df_['Species'] = s\n",
    "    df_f = df_f.append(df_)\n",
    "    \n",
    "df_f['Force Squared Error'] = df_f['Force Error [eV/$\\AA$]']**2\n",
    "df_e['Energy Squared Error'] = df_e['Energy Error [meV/atom]']**2"
   ]
  },
  {
   "cell_type": "code",
   "execution_count": 11,
   "id": "c0497d8f-8cf2-4c1b-a0ca-32f3b165f603",
   "metadata": {},
   "outputs": [
    {
     "data": {
      "image/png": "[encoded data removed]",
      "text/plain": [
       "<Figure size 432x288 with 1 Axes>"
      ]
     },
     "metadata": {},
     "output_type": "display_data"
    }
   ],
   "source": [
    "sns.boxplot(data = df_f, x = 'Species', y = 'Force Error [eV/$\\AA$]', hue = 'Model')\n",
    "plt.ylim(0, 1)\n",
    "plt.legend(frameon=False)\n",
    "plt.savefig(\"/home/claudio/postdoc/plots/linear_vs_ensemble_zuo_forces_noiseopt.pdf\")"
   ]
  },
  {
   "cell_type": "code",
   "execution_count": 12,
   "id": "1f7016a5-a5f4-4873-91c9-4e16d73e87f5",
   "metadata": {},
   "outputs": [
    {
     "data": {
      "image/png": "[encoded data removed]",
      "text/plain": [
       "<Figure size 432x288 with 1 Axes>"
      ]
     },
     "metadata": {},
     "output_type": "display_data"
    }
   ],
   "source": [
    "sns.boxplot(data = df_e, x = 'Species', y = 'Energy Error [meV/atom]', hue = 'Model')\n",
    "plt.ylim(0, 35)\n",
    "plt.legend(frameon=False)\n",
    "plt.savefig(\"/home/claudio/postdoc/plots/linear_vs_ensemble_zuo_energy_noiseopt.pdf\")"
   ]
  },
  {
   "cell_type": "code",
   "execution_count": 13,
   "id": "9ddb1449-dfae-4e68-ade0-76dc9d684581",
   "metadata": {},
   "outputs": [
    {
     "data": {
      "text/plain": [
       "Species  Model   \n",
       "Cu       ensemble     0.610895\n",
       "         expanded     2.609386\n",
       "         linear       0.722555\n",
       "Ge       ensemble    16.016811\n",
       "         expanded    18.815270\n",
       "         linear      13.129430\n",
       "Li       ensemble     1.154098\n",
       "         expanded     6.656305\n",
       "         linear       1.204005\n",
       "Mo       ensemble    10.705134\n",
       "         expanded    55.770508\n",
       "         linear      16.463140\n",
       "Ni       ensemble     0.832605\n",
       "         expanded    11.507146\n",
       "         linear       1.343057\n",
       "Si       ensemble     6.713806\n",
       "         expanded    29.786662\n",
       "         linear       5.363037\n",
       "Name: mean, dtype: float64"
      ]
     },
     "execution_count": 13,
     "metadata": {},
     "output_type": "execute_result"
    }
   ],
   "source": [
    "df_e.groupby(['Species', 'Model'])['Energy Squared Error'].describe()['mean']**0.5"
   ]
  },
  {
   "cell_type": "code",
   "execution_count": 16,
   "id": "6c6937f4-0022-48f1-b70c-449dd4583fd4",
   "metadata": {},
   "outputs": [
    {
     "data": {
      "text/plain": [
       "Species  Model   \n",
       "Cu       ensemble    0.016551\n",
       "         expanded    0.018066\n",
       "         linear      0.019339\n",
       "Ge       ensemble    0.082706\n",
       "         expanded    0.088814\n",
       "         linear      0.102747\n",
       "Li       ensemble    0.018719\n",
       "         expanded    0.017493\n",
       "         linear      0.019299\n",
       "Mo       ensemble    0.237142\n",
       "         expanded    0.282048\n",
       "         linear      0.264902\n",
       "Ni       ensemble    0.034066\n",
       "         expanded    0.044316\n",
       "         linear      0.038689\n",
       "Si       ensemble    0.114369\n",
       "         expanded    0.116495\n",
       "         linear      0.134063\n",
       "Name: mean, dtype: float64"
      ]
     },
     "execution_count": 16,
     "metadata": {},
     "output_type": "execute_result"
    }
   ],
   "source": [
    "df_f.groupby(['Species', 'Model'])['Force Squared Error'].describe()['mean']**0.5"
   ]
  },
  {
   "cell_type": "code",
   "execution_count": 17,
   "id": "f30f802d-30b4-467b-a116-c3f6f3667210",
   "metadata": {},
   "outputs": [],
   "source": [
    "df_f.to_csv(\"Zuo_forces_test.csv\")"
   ]
  },
  {
   "cell_type": "code",
   "execution_count": 18,
   "id": "a96b44a5-ba2c-4255-b905-a74ab4dcb6d9",
   "metadata": {},
   "outputs": [],
   "source": [
    "df_e.to_csv(\"Zuo_energies_test.csv\")"
   ]
  },
  {
   "cell_type": "code",
   "execution_count": null,
   "id": "ddd330c8-13e9-484a-b1c3-c4680071566b",
   "metadata": {},
   "outputs": [],
   "source": []
  }
 ],
 "metadata": {
  "kernelspec": {
   "display_name": "Python 3 (ipykernel)",
   "language": "python",
   "name": "python3"
  },
  "language_info": {
   "codemirror_mode": {
    "name": "ipython",
    "version": 3
   },
   "file_extension": ".py",
   "mimetype": "text/x-python",
   "name": "python",
   "nbconvert_exporter": "python",
   "pygments_lexer": "ipython3",
   "version": "3.8.10"
  }
 },
 "nbformat": 4,
 "nbformat_minor": 5
}
