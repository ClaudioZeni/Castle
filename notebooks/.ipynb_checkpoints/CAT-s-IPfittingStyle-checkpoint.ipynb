{
 "cells": [
  {
   "cell_type": "code",
   "execution_count": null,
   "metadata": {},
   "outputs": [
    {
     "name": "stderr",
     "output_type": "stream",
     "text": [
      "┌ Info: Precompiling IPFitting [3002bd4c-79e4-52ce-b924-91256dde4e52]\n",
      "└ @ Base loading.jl:1317\n"
     ]
    }
   ],
   "source": [
    "using LinearAlgebra, Statistics, Random, ProgressMeter, ScikitLearn\n",
    "using ACE: alloc_B, alloc_temp, evaluate!,alloc_dB, alloc_temp_d, evaluate_d!, rpi_basis, rnn\n",
    "using NeighbourLists: maxneigs\n",
    "using JuLIP: sites, neighbourlist, cutoff, JVec, AbstractAtoms, fltype, AtomicNumber\n",
    "using JuLIP.Potentials: neigsz!\n",
    "using IPFitting.Data: read_xyz, getindex\n",
    "using ScikitLearn.CrossValidation: train_test_split\n",
    "using MultivariateStats\n",
    "using Plots"
   ]
  },
  {
   "cell_type": "code",
   "execution_count": null,
   "metadata": {},
   "outputs": [],
   "source": [
    "function vecvec_to_matrix(vecvec)\n",
    "    dim1 = length(vecvec)\n",
    "    dim2 = length(vecvec[1])\n",
    "    my_array = zeros(Int64, dim1, dim2)\n",
    "    for i in 1:dim1\n",
    "        for j in 1:dim2\n",
    "            my_array[i,j] = vecvec[i][j]\n",
    "        end\n",
    "    end\n",
    "    return my_array\n",
    "end\n",
    "\n",
    "\n",
    "function get_spec_counter(traj)\n",
    "    zspecies = unique(traj[1].at.Z)\n",
    "    spec_counter = Vector{Int64}[]\n",
    "    for aa in traj\n",
    "        tmp =  Vector{Float64}(undef,length(zspecies)) \n",
    "        for i_s in 1:length(zspecies)\n",
    "            tmp[i_s] = length(findall(x-> x==zspecies[i_s],aa.at.Z))\n",
    "        end\n",
    "        push!(spec_counter,tmp)\n",
    "    end\n",
    "    return vecvec_to_matrix(spec_counter)\n",
    "end\n",
    "\n",
    "\n",
    "function sum_descriptor(shipB, at::AbstractAtoms{T}) where {T}\n",
    "   E = zeros(fltype(shipB), length(shipB))\n",
    "   B = alloc_B(shipB)\n",
    "   nlist = neighbourlist(at, cutoff(shipB))\n",
    "   maxnR = maxneigs(nlist)\n",
    "   tmp = alloc_temp(shipB, maxnR)\n",
    "   tmpRZ = (R = zeros(JVec{T}, maxnR), Z = zeros(AtomicNumber, maxnR))\n",
    "   for i = 1:length(at)\n",
    "      j, R, Z = neigsz!(tmpRZ, nlist, at, i)\n",
    "      fill!(B, 0)\n",
    "      evaluate!(B, tmp, shipB, R, Z, at.Z[i])\n",
    "      E[:] .+= B[:]\n",
    "   end\n",
    "   return E\n",
    "end\n",
    "\n",
    "function sum_descriptor_traj(basis, traj)\n",
    "    A_all = Array{Float64, 2}(undef, length(traj), length(basis)) \n",
    "    @showprogress \"Computing descriptor for structure \" for i in 1:length(traj)\n",
    "        atoms = traj[i].at\n",
    "        A_all[i, :] = sum_descriptor(basis, atoms)\n",
    "    end\n",
    "    return A_all\n",
    "end;\n",
    "\n",
    "\n",
    "function sum_d_descriptor(shipB, at::AbstractAtoms{T}) where {T}\n",
    "   # precompute the neighbourlist to count the number of neighbours\n",
    "   nlist = neighbourlist(at, cutoff(shipB); storelist=false)\n",
    "   maxR = maxneigs(nlist)\n",
    "   # allocate space accordingly\n",
    "   F = zeros(JVec{T}, length(at), length(shipB))\n",
    "   B = alloc_B(shipB, maxR)\n",
    "   dB = alloc_dB(shipB, maxR)\n",
    "   tmp = alloc_temp_d(shipB, maxR)\n",
    "   tmpRZ = (R = zeros(JVec{T}, maxR), Z = zeros(AtomicNumber, maxR))\n",
    "   return sum_d_descriptor_inner!(shipB, at, nlist, F, B, dB, tmp, tmpRZ)\n",
    "end\n",
    "\n",
    "# this is a little hack to remove a type instability. It probably makes no\n",
    "# difference in practise...\n",
    "function sum_d_descriptor_inner!(shipB, at::AbstractAtoms{T},\n",
    "                       nlist, F, B, dB, tmp, tmpRZ) where {T}\n",
    "   # assemble site gradients and write into F\n",
    "   for i = 1:length(at)\n",
    "      j, R, Z = neigsz!(tmpRZ, nlist, at, i)\n",
    "      fill!(dB, zero(JVec{T}))\n",
    "      fill!(B, 0)\n",
    "      evaluate_d!(B, dB, tmp, shipB, R, Z, at.Z[i])\n",
    "      for a = 1:length(R)\n",
    "         F[j[a], :] .-= dB[:, a]\n",
    "         F[i, :] .+= dB[:, a]\n",
    "      end\n",
    "   end\n",
    "   return [ F[:, iB] for iB = 1:length(shipB) ]\n",
    "end\n",
    "\n",
    "function sum_d_descriptor_traj(basis, traj)\n",
    "    dA_all = []\n",
    "    @showprogress \"Computing desc. der. for structure \" for i in 1:length(traj)\n",
    "        atoms = traj[i].at\n",
    "        XF = sum_d_descriptor(basis, atoms);\n",
    "        XF = hcat([collect(Iterators.flatten(a)) for a in XF]...)\n",
    "        push!(dA_all, XF)\n",
    "    end\n",
    "    return dA_all\n",
    "end;\n",
    "\n",
    "function fit_potential(XE_tr, YE_tr, XF_tr, YF_tr, alpha=1.0)\n",
    "    YF_tr = hcat(YF_tr'...)'\n",
    "    XF_tr = hcat(XF_tr'...)'\n",
    "    X_tr = vcat(XE_tr, XF_tr)\n",
    "    Y_tr = vcat(YE_tr, YF_tr);\n",
    "    ridge_pred = fit!(Ridge(alpha), X_tr, Y_tr)\n",
    "    return ridge_pred\n",
    "end\n",
    "\n",
    "function fit_potential_with_contributions(XE_tr, YE_tr, XF_tr, YF_tr, atomic_energies,nats_tr,alpha=1.0)\n",
    "    nYE_tr = YE_tr .- transpose(nats_tr)'atomic_energies\n",
    "    YF_tr = hcat(YF_tr'...)'\n",
    "    XF_tr = hcat(XF_tr'...)'\n",
    "    X_tr = vcat(XE_tr, XF_tr)\n",
    "    Y_tr = vcat(nYE_tr, YF_tr);\n",
    "    # Weights and offset of our problem\n",
    "    solution = ridge(X_tr, Y_tr,alpha)\n",
    "    return solution\n",
    "end\n",
    "\n",
    "\n",
    "function predict_potential(ridge_pred, XE_tst, XF_tst)\n",
    "    n_struc = length(XE_tst[:, 1])\n",
    "    XF_tst = hcat(XF_tst'...)'\n",
    "    X_tst = vcat(XE_tst, XF_tst)\n",
    "    solution = predict(ridge_pred, X_tst)\n",
    "    return result[1:n_struc], result[n_struc+1:end]\n",
    "end\n",
    "\n",
    "\n",
    "function predict_potential_with_contributions(solution, XE_tst, XF_tst,atomic_energies,nats_ts)\n",
    "    w,offset = solution[1:end-1], solution[end]\n",
    "    n_struc = length(XE_tst[:, 1])\n",
    "    XF_tst = hcat(XF_tst'...)'\n",
    "    X_tst = vcat(XE_tst, XF_tst)\n",
    "    result = X_tst*w .+ offset\n",
    "    return result[1:n_struc] .+ transpose(nats_ts)'atomic_energies, result[n_struc+1:end]\n",
    "end\n",
    "\n",
    "function extract_info_forces(B, traj)\n",
    "    XE = sum_descriptor_traj(B, traj);\n",
    "    XF = sum_d_descriptor_traj(B, traj);\n",
    "\n",
    "    YE = Vector{Float64}(undef, length(traj)) \n",
    "    for i in 1:length(traj)\n",
    "        YE[i] = traj[i].D[\"E\"][1]\n",
    "    end\n",
    "\n",
    "    YF = Vector{Float64}[]\n",
    "    for i in 1:length(traj)\n",
    "        push!(YF, traj[i].D[\"F\"])\n",
    "    end\n",
    "\n",
    "    nat = Vector{Float64}(undef, length(traj)) \n",
    "    for i in 1:length(traj)\n",
    "        nat[i] = length(traj[i])\n",
    "    end\n",
    "    \n",
    "    \n",
    "    return XE, YE, XF, YF, nat\n",
    "    end;\n",
    "\n",
    "function extract_info_energy(B, traj)\n",
    "    XE = sum_descriptor_traj(B, traj);\n",
    "\n",
    "    YE = Vector{Float64}(undef, length(traj)) \n",
    "    for i in 1:length(traj)\n",
    "        YE[i] = traj[i].D[\"E\"][1]\n",
    "    end\n",
    "    \n",
    "    nat = Vector{Float64}(undef, length(traj)) \n",
    "    for i in 1:length(traj)\n",
    "        nat[i] = length(traj[i])\n",
    "    end\n",
    "    \n",
    "    return XE, YE, nat\n",
    "    end;\n",
    "\n",
    "function rmse(Yref,Ypred)\n",
    "    return mean((Yref .-  Ypred).^2).^0.5 \n",
    "end\n",
    "\n",
    "function random_split(size,frac)\n",
    "    train = 0\n",
    "    test = 0\n",
    "    for r in Kfold(size,frac)\n",
    "        invr = collect(1:1:size)\n",
    "        rinvr = invr[randperm(length(invr))]\n",
    "        train = rinvr[r]\n",
    "        test  = deleteat!(rinvr, r)\n",
    "    end\n",
    "    return train,test\n",
    "end;"
   ]
  },
  {
   "cell_type": "code",
   "execution_count": 3,
   "metadata": {
    "scrolled": true
   },
   "outputs": [
    {
     "name": "stderr",
     "output_type": "stream",
     "text": [
      "┌ Info: Keys used: E => \"energy\", F => \"forces\", V => \"dft_virial\"\n",
      "└ @ IPFitting.Data /home/users/anellia/.julia/packages/IPFitting/Ypo4v/src/data.jl:153\n",
      "\u001b[32mProgress: 100%|█████████████████████████████████████████| Time: 0:04:33\u001b[39m\n"
     ]
    },
    {
     "name": "stdout",
     "output_type": "stream",
     "text": [
      "┌─────────────┬───────┬────────┬───────┬────────┬───────┐\n",
      "│\u001b[1m config_type \u001b[0m│\u001b[1m #cfgs \u001b[0m│\u001b[1m  #envs \u001b[0m│\u001b[1m    #E \u001b[0m│\u001b[1m     #F \u001b[0m│\u001b[1m    #V \u001b[0m│\n",
      "│\u001b[90m      String \u001b[0m│\u001b[90m Int64 \u001b[0m│\u001b[90m  Int64 \u001b[0m│\u001b[90m Int64 \u001b[0m│\u001b[90m  Int64 \u001b[0m│\u001b[90m Int64 \u001b[0m│\n",
      "├─────────────┼───────┼────────┼───────┼────────┼───────┤\n",
      "│     nothing │  1405 │ 302016 │  1405 │ 906048 │     0 │\n",
      "├─────────────┼───────┼────────┼───────┼────────┼───────┤\n",
      "│       total │  1405 │ 302016 │  1405 │ 906048 │     0 │\n",
      "│     missing │     0 │      0 │     0 │      0 │ 12645 │\n",
      "└─────────────┴───────┴────────┴───────┴────────┴───────┘\n"
     ]
    }
   ],
   "source": [
    "# Data loading\n",
    "all_traj = read_xyz(\"/home/users/anellia/Desktop/datasets/Cat-s_minima.xyz\",\n",
    "    energy_key=\"energy\", force_key=\"forces\", verbose=false);\n",
    "\n",
    "siliconset = false\n",
    "# Data parsing\n",
    "if siliconset == true\n",
    "    types = [\"bcc\",\"fcc\",\"dia\",\"liq\",\"amorph\",\"bt\",\"st12\"]\n",
    "    traj = Any[]\n",
    "    for tt in all_traj\n",
    "       if tt.configtype in types\n",
    "            push!(traj, tt)\n",
    "        end\n",
    "    end\n",
    "end"
   ]
  },
  {
   "cell_type": "code",
   "execution_count": 16,
   "metadata": {},
   "outputs": [
    {
     "name": "stdout",
     "output_type": "stream",
     "text": [
      "Feature size :2676\n"
     ]
    }
   ],
   "source": [
    "# Descriptor parameters\n",
    "\n",
    "N = 4   # Body order\n",
    "maxdeg = 4 # Number of basis (?)\n",
    "rcut = 6.0         # Radial Cutoff\n",
    "species = [:H,:C,:N,:O,:F,:S];      # Well... Species\n",
    "r0 = 0.2           # Lowest radius for basis\n",
    "\n",
    "B = rpi_basis(; species=species, N = N, r0 = r0,\n",
    "   maxdeg = maxdeg, rcut = rcut,\n",
    "   rin = 1.0* 0.5,\n",
    "   constants = false);\n",
    "println(\"Feature size :\",length(B))"
   ]
  },
  {
   "cell_type": "code",
   "execution_count": 17,
   "metadata": {},
   "outputs": [
    {
     "name": "stderr",
     "output_type": "stream",
     "text": [
      "\u001b[32mComputing descriptor for structure 100%|████████████████| Time: 0:00:02\u001b[39m\n",
      "\u001b[32mComputing desc. der. for structure 100%|████████████████| Time: 0:20:03\u001b[39m\n"
     ]
    }
   ],
   "source": [
    "# Generate descriptors and extract data\n",
    "forces = true;\n",
    "if forces\n",
    "    XE, YE, XF, YF, nat = extract_info_forces(B, all_traj[1:500])\n",
    "else\n",
    "    XE, YE, nat = extract_info_energy(B, all_traj)\n",
    "end;"
   ]
  },
  {
   "cell_type": "code",
   "execution_count": null,
   "metadata": {},
   "outputs": [],
   "source": []
  },
  {
   "cell_type": "code",
   "execution_count": 14,
   "metadata": {},
   "outputs": [],
   "source": [
    "# split\n",
    "counter = get_spec_counter(all_traj[1:size(XE,1)]);\n",
    "atomic_energies = [-6.492647589968434,-38.054950840332474,-57.20333868556527,\n",
    "                   -83.97955098636527,-115.24617911489803,-62.3718590148703];\n",
    "forces=true\n",
    "if forces\n",
    "    XE_tr, XE_tst, YE_tr, YE_tst, XF_tr, XF_tst, YF_tr, YF_tst, nat_tr, nat_tst,nats_tr,nats_tst = train_test_split(\n",
    "        XE, YE, XF,YF, nat, counter, test_size=0.2, random_state=10)\n",
    "else\n",
    "    XE_tr, XE_tst, YE_tr, YE_tst, nat_tr, nat_tst,nats_tr,nats_tst = train_test_split(\n",
    "        XE, YE, nat, counter, test_size=0.1, random_state=10)\n",
    "end;"
   ]
  },
  {
   "cell_type": "code",
   "execution_count": 3,
   "metadata": {},
   "outputs": [
    {
     "ename": "LoadError",
     "evalue": "UndefVarError: XE_tr not defined",
     "output_type": "error",
     "traceback": [
      "UndefVarError: XE_tr not defined",
      "",
      "Stacktrace:",
      " [1] top-level scope",
      "   @ In[3]:4",
      " [2] eval",
      "   @ ./boot.jl:360 [inlined]",
      " [3] include_string(mapexpr::typeof(REPL.softscope), mod::Module, code::String, filename::String)",
      "   @ Base ./loading.jl:1094"
     ]
    }
   ],
   "source": [
    "# Fit and Predict\n",
    "reg = 1e-8;         # Ridge regularizer\n",
    "\n",
    "rr = fit_potential_with_contributions(XE_tr, YE_tr, XF_tr, YF_tr, atomic_energies, nats_tr, reg)\n",
    "println(\"Arrivati qui?\")\n",
    "e_hat, f_hat = predict_potential_with_contributions(rr, XE_tst, XF_tst, atomic_energies,nats_tst)\n",
    "\n",
    "rmse_e = mean((YE_tst./nat_tst .-  e_hat./nat_tst).^2).^0.5\n",
    "print(\"RMSE Energy [meV/atom]: \", 1000*rmse_e,\" with % error \", rmse_e/std(YE_tr./nat_tr))\n",
    "rmse_f = mean((hcat(YF_tst'...)' .-  f_hat).^2).^0.5\n",
    "print(\"\\nRMSE Forces [eV/A]:     \", rmse_f)\n",
    "\n",
    "plottingall = true\n",
    "if plottingall\n",
    "    pe = scatter( YE_tst./nat_tst, e_hat./nat_tst,title=\"Energies correlation\")\n",
    "    pf = scatter(hcat(YF_tst'...)' ,  f_hat,title=\"Forces correlation\")\n",
    "    plot(pe, pf, layout=(1,2), legend = false,size = (700, 350))\n",
    "end"
   ]
  },
  {
   "cell_type": "code",
   "execution_count": 4,
   "metadata": {},
   "outputs": [
    {
     "ename": "LoadError",
     "evalue": "UndefVarError: all_traj not defined",
     "output_type": "error",
     "traceback": [
      "UndefVarError: all_traj not defined",
      "",
      "Stacktrace:",
      " [1] top-level scope",
      "   @ In[4]:2",
      " [2] eval",
      "   @ ./boot.jl:360 [inlined]",
      " [3] include_string(mapexpr::typeof(REPL.softscope), mod::Module, code::String, filename::String)",
      "   @ Base ./loading.jl:1094"
     ]
    }
   ],
   "source": [
    "# Predict on the whole set to get some statistics:\n",
    "XE_new, YE_new, XF_new, YF_new, nat_new = extract_info_forces(B, all_traj[400:500]);"
   ]
  },
  {
   "cell_type": "code",
   "execution_count": 5,
   "metadata": {},
   "outputs": [
    {
     "ename": "LoadError",
     "evalue": "UndefVarError: all_traj not defined",
     "output_type": "error",
     "traceback": [
      "UndefVarError: all_traj not defined",
      "",
      "Stacktrace:",
      " [1] top-level scope",
      "   @ In[5]:1",
      " [2] eval",
      "   @ ./boot.jl:360 [inlined]",
      " [3] include_string(mapexpr::typeof(REPL.softscope), mod::Module, code::String, filename::String)",
      "   @ Base ./loading.jl:1094"
     ]
    }
   ],
   "source": [
    "counter2 = get_spec_counter(all_traj[400:500]);\n",
    "e_hat, f_hat = predict_potential_with_contributions(rr, XE_new, XF_new, atomic_energies,counter2)\n",
    "\n",
    "rmse_e = mean((YE_new./nat_new .-  e_hat./nat_new).^2).^0.5\n",
    "print(\"RMSE Energy [meV/atom]: \", 1000*rmse_e,\" with % error \", rmse_e/std(YE_tr./nat_tr))\n",
    "rmse_f = mean((hcat(YF_new'...)' .-  f_hat).^2).^0.5\n",
    "print(\"\\nRMSE Forces [eV/A]:     \", rmse_f)\n",
    "\n",
    "plottingall = true\n",
    "if plottingall\n",
    "    pe = scatter( YE_new./nat_new, e_hat./nat_new,title=\"Energies correlation\")\n",
    "    pf = scatter(hcat(YF_new'...)' ,  f_hat,title=\"Forces correlation\")\n",
    "    plot(pe, pf, layout=(1,2), legend = false,size = (700, 350))\n",
    "end"
   ]
  },
  {
   "cell_type": "code",
   "execution_count": 69,
   "metadata": {},
   "outputs": [],
   "source": [
    "tridx,tsidx = random_split(size(A[\"XE\"])[1],2)\n",
    "\n",
    "XF_tr = A[\"XF\"][tridx,:]\n",
    "XE_tr = A[\"XE\"][tridx,:]\n",
    "YE_tr = A[\"YE\"][tridx,:]\n",
    "YF_tr = A[\"YF\"][tridx,:]\n",
    "nat_tr = A[\"nat\"][tridx,:]\n",
    "nats_tr = counter[tridx,:]\n",
    "XF_tst = A[\"XF\"][tsidx,:]\n",
    "XE_tst = A[\"XE\"][tsidx,:]\n",
    "YE_tst = A[\"YE\"][tsidx,:]\n",
    "YF_tst = A[\"YF\"][tsidx,:]\n",
    "nat_tst = A[\"nat\"][tsidx,:]\n",
    "nats_tst = counter[tsidx,:]\n",
    "\n",
    "# split\n",
    "atomic_energies = [-6.492647589968434,-38.054950840332474,-57.20333868556527,\n",
    "                   -83.97955098636527,-115.24617911489803,-62.3718590148703];"
   ]
  },
  {
   "cell_type": "code",
   "execution_count": 5,
   "metadata": {},
   "outputs": [
    {
     "data": {
      "text/plain": [
       "subselector (generic function with 1 method)"
      ]
     },
     "execution_count": 5,
     "metadata": {},
     "output_type": "execute_result"
    }
   ],
   "source": [
    "function subselector(size,percentage)\n",
    "    indices = collect(1:1:size)\n",
    "    randomised_indices = indices[randperm(length(indices))]\n",
    "    number_of_samples = Int64(size*percentage)\n",
    "    subselection = randomised_indices[1:number_of_samples]\n",
    "    return subselection\n",
    "end"
   ]
  },
  {
   "cell_type": "code",
   "execution_count": 17,
   "metadata": {},
   "outputs": [
    {
     "data": {
      "text/plain": [
       "6798"
      ]
     },
     "execution_count": 17,
     "metadata": {},
     "output_type": "execute_result"
    }
   ],
   "source": [
    "#XF_tr = hcat(A[\"XF\"][1:2]'...)'\n",
    "length(A[\"XE\"][1,:])"
   ]
  },
  {
   "cell_type": "code",
   "execution_count": 25,
   "metadata": {},
   "outputs": [
    {
     "ename": "LoadError",
     "evalue": "DimensionMismatch(\"parent has 500 elements, which is incompatible with size (319488, 6798)\")",
     "output_type": "error",
     "traceback": [
      "DimensionMismatch(\"parent has 500 elements, which is incompatible with size (319488, 6798)\")",
      "",
      "Stacktrace:",
      " [1] _throw_dmrs(n::Int64, str::String, dims::Tuple{Int64, Int64})",
      "   @ Base ./reshapedarray.jl:181",
      " [2] _reshape",
      "   @ ./reshapedarray.jl:176 [inlined]",
      " [3] reshape",
      "   @ ./reshapedarray.jl:112 [inlined]",
      " [4] reshape(::SubArray{Any, 1, Vector{Any}, Tuple{Base.Slice{Base.OneTo{Int64}}}, true}, ::Int64, ::Int64)",
      "   @ Base ./reshapedarray.jl:116",
      " [5] top-level scope",
      "   @ In[25]:3",
      " [6] eval",
      "   @ ./boot.jl:360 [inlined]",
      " [7] include_string(mapexpr::typeof(REPL.softscope), mod::Module, code::String, filename::String)",
      "   @ Base ./loading.jl:1094"
     ]
    }
   ],
   "source": [
    "reshape2(a, dims) = invoke(Base._reshape, Tuple{AbstractArray,typeof(dims)}, a, dims)\n",
    "\n",
    "reshape(view(A[\"XF\"], :),  Int64(sum((A[\"nat\"]*3))), length(A[\"XE\"][1,:]) )"
   ]
  },
  {
   "cell_type": "code",
   "execution_count": 29,
   "metadata": {},
   "outputs": [
    {
     "data": {
      "text/plain": [
       "hcat! (generic function with 1 method)"
      ]
     },
     "execution_count": 29,
     "metadata": {},
     "output_type": "execute_result"
    }
   ],
   "source": [
    "function hcat!(out::AbstractMatrix, arrays::AbstractVecOrMat...)\n",
    "    for array in arrays\n",
    "        @boundscheck size(array, 1) == size(out, 1) || error(\"not all arguments have the same number of rows\")\n",
    "    end\n",
    "    @boundscheck sum(x -> size(x, 2), arrays) == size(out, 2) || error(\"output has wrong number of columns\")\n",
    "\n",
    "    column_start = 1\n",
    "    for array in arrays\n",
    "        num_cols = size(array, 2)\n",
    "        range = column_start : column_start + num_cols - 1\n",
    "        @inbounds copy!(view(out, :, range), array)\n",
    "        column_start += num_cols\n",
    "    end\n",
    "    out\n",
    "end\n"
   ]
  },
  {
   "cell_type": "code",
   "execution_count": 30,
   "metadata": {},
   "outputs": [
    {
     "data": {
      "text/plain": [
       "1536×6798 adjoint(::Matrix{Float64}) with eltype Float64:\n",
       " -0.0638973    0.282284   -0.617617   …  0.0  0.0  0.0  0.0  0.0  0.0  0.0\n",
       " -0.0102584    0.0562522  -0.169147      0.0  0.0  0.0  0.0  0.0  0.0  0.0\n",
       " -0.0518837    0.246732   -0.616317      0.0  0.0  0.0  0.0  0.0  0.0  0.0\n",
       "  0.0638973   -0.282284    0.617617      0.0  0.0  0.0  0.0  0.0  0.0  0.0\n",
       " -0.0102584    0.0562522  -0.169147      0.0  0.0  0.0  0.0  0.0  0.0  0.0\n",
       "  0.0518837   -0.246732    0.616317   …  0.0  0.0  0.0  0.0  0.0  0.0  0.0\n",
       " -0.00795499   0.0441632  -0.136178      0.0  0.0  0.0  0.0  0.0  0.0  0.0\n",
       "  0.00589559  -0.0235179   0.0386136     0.0  0.0  0.0  0.0  0.0  0.0  0.0\n",
       "  0.0437128   -0.211707    0.544886      0.0  0.0  0.0  0.0  0.0  0.0  0.0\n",
       "  0.00795499  -0.0441632   0.136178      0.0  0.0  0.0  0.0  0.0  0.0  0.0\n",
       "  0.00589559  -0.0235179   0.0386136  …  0.0  0.0  0.0  0.0  0.0  0.0  0.0\n",
       " -0.0437128    0.211707   -0.544886      0.0  0.0  0.0  0.0  0.0  0.0  0.0\n",
       " -0.0623225    0.203826   -0.211955      0.0  0.0  0.0  0.0  0.0  0.0  0.0\n",
       "  ⋮                                   ⋱                      ⋮         \n",
       "  0.0          0.0         0.0           0.0  0.0  0.0  0.0  0.0  0.0  0.0\n",
       "  0.0          0.0         0.0        …  0.0  0.0  0.0  0.0  0.0  0.0  0.0\n",
       "  0.0          0.0         0.0           0.0  0.0  0.0  0.0  0.0  0.0  0.0\n",
       "  0.0          0.0         0.0           0.0  0.0  0.0  0.0  0.0  0.0  0.0\n",
       "  0.0          0.0         0.0           0.0  0.0  0.0  0.0  0.0  0.0  0.0\n",
       "  0.0          0.0         0.0           0.0  0.0  0.0  0.0  0.0  0.0  0.0\n",
       "  0.0          0.0         0.0        …  0.0  0.0  0.0  0.0  0.0  0.0  0.0\n",
       "  0.0          0.0         0.0           0.0  0.0  0.0  0.0  0.0  0.0  0.0\n",
       "  0.0          0.0         0.0           0.0  0.0  0.0  0.0  0.0  0.0  0.0\n",
       "  0.0          0.0         0.0           0.0  0.0  0.0  0.0  0.0  0.0  0.0\n",
       "  0.0          0.0         0.0           0.0  0.0  0.0  0.0  0.0  0.0  0.0\n",
       "  0.0          0.0         0.0        …  0.0  0.0  0.0  0.0  0.0  0.0  0.0"
      ]
     },
     "execution_count": 30,
     "metadata": {},
     "output_type": "execute_result"
    }
   ],
   "source": [
    "hcat(A[\"XF\"][1:2]'...)'"
   ]
  },
  {
   "cell_type": "code",
   "execution_count": 33,
   "metadata": {},
   "outputs": [
    {
     "ename": "LoadError",
     "evalue": "output has wrong number of columns",
     "output_type": "error",
     "traceback": [
      "output has wrong number of columns",
      "",
      "Stacktrace:",
      " [1] error(s::String)",
      "   @ Base ./error.jl:33",
      " [2] hcat!(::Adjoint{Float64, Matrix{Float64}}, ::Adjoint{Float64, Matrix{Float64}}, ::Vararg{Adjoint{Float64, Matrix{Float64}}, N} where N)",
      "   @ Main ./In[29]:5",
      " [3] top-level scope",
      "   @ In[33]:1",
      " [4] eval",
      "   @ ./boot.jl:360 [inlined]",
      " [5] include_string(mapexpr::typeof(REPL.softscope), mod::Module, code::String, filename::String)",
      "   @ Base ./loading.jl:1094"
     ]
    }
   ],
   "source": []
  },
  {
   "cell_type": "code",
   "execution_count": null,
   "metadata": {},
   "outputs": [],
   "source": [
    "using JLD2, FileIO\n",
    "A = 0\n",
    "loading=true\n",
    "if loading\n",
    "    A = load(\"500ace.jld2\")[\"data\"]\n",
    "else\n",
    "    d = Dict(\n",
    "            (\"XE\") => XE,\n",
    "            (\"XF\") => XF,\n",
    "            (\"YE\") => YE,\n",
    "            (\"YF\") => YF,\n",
    "            (\"nat\") => nat\n",
    "        )\n",
    "    save(\"500ace.jld2\", \"data\", d)\n",
    "end\n",
    "\n",
    "counter = get_spec_counter(all_traj[1:size(A[\"XE\"],1)]);"
   ]
  }
 ],
 "metadata": {
  "kernelspec": {
   "display_name": "Julia 1.6.0",
   "language": "julia",
   "name": "julia-1.6"
  },
  "language_info": {
   "file_extension": ".jl",
   "mimetype": "application/julia",
   "name": "julia",
   "version": "1.6.0"
  }
 },
 "nbformat": 4,
 "nbformat_minor": 4
}
