{
 "cells": [
  {
   "cell_type": "code",
   "execution_count": 24,
   "metadata": {},
   "outputs": [
    {
     "name": "stdout",
     "output_type": "stream",
     "text": [
      "The autoreload extension is already loaded. To reload it, use:\n",
      "  %reload_ext autoreload\n"
     ]
    }
   ],
   "source": [
    "import sys\n",
    "from ase.io import read\n",
    "sys.path.append(\"../src\")\n",
    "import ace_interface as ji\n",
    "\n",
    "%load_ext autoreload\n",
    "%autoreload 2"
   ]
  },
  {
   "cell_type": "code",
   "execution_count": 18,
   "metadata": {},
   "outputs": [],
   "source": [
    "N = 8               # Body order\n",
    "maxdeg = 10         # Number of basis (?)\n",
    "rcut = 5.0          # Radial Cutoff\n",
    "r0 = 1.0            # Lowest radius for basis\n",
    "reg = 1e-8          # Ridge regularizer\n",
    "species = 14        # Atomic number of species\n",
    "\n",
    "# Create julia basis\n",
    "basis, n_feats = ji.get_basis(N, maxdeg, rcut, species, r0, reg)\n",
    "\n",
    "# Read as ASE python trajectory\n",
    "traj = read(\"/home/claudio/postdoc/integrated_potentials/data/Si_2018/delta_silicon.xyz\", index = ':')\n",
    "\n",
    "# Convert to ASE julia snapshot\n",
    "at = ji.frame_to_julia_at(traj[0], \"dft_energy\", \"dft_force\")\n",
    "\n",
    "# Get descriptors and derivatives\n",
    "X, dX_dr = ji.descriptors_from_at(basis, at)"
   ]
  },
  {
   "cell_type": "code",
   "execution_count": null,
   "metadata": {},
   "outputs": [],
   "source": [
    "# Time test\n",
    "%time at = ji.frame_to_julia_at(traj[0], \"dft_energy\", \"dft_force\")"
   ]
  },
  {
   "cell_type": "code",
   "execution_count": null,
   "metadata": {},
   "outputs": [],
   "source": [
    "%time XE, YE, XF, YF, nat = ji.descriptors_from_frame(basis, at)"
   ]
  },
  {
   "cell_type": "code",
   "execution_count": 28,
   "metadata": {},
   "outputs": [],
   "source": [
    "basis, n_feats = ji.get_basis(N, maxdeg, rcut, species, r0, reg)\n"
   ]
  },
  {
   "cell_type": "code",
   "execution_count": null,
   "metadata": {},
   "outputs": [],
   "source": []
  }
 ],
 "metadata": {
  "kernelspec": {
   "display_name": "flare_dev",
   "language": "python",
   "name": "flare_dev"
  },
  "language_info": {
   "codemirror_mode": {
    "name": "ipython",
    "version": 3
   },
   "file_extension": ".py",
   "mimetype": "text/x-python",
   "name": "python",
   "nbconvert_exporter": "python",
   "pygments_lexer": "ipython3",
   "version": "3.8.10"
  }
 },
 "nbformat": 4,
 "nbformat_minor": 4
}
