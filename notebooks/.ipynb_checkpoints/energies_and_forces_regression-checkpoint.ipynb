{
 "cells": [
  {
   "cell_type": "code",
   "execution_count": 1,
   "metadata": {},
   "outputs": [
    {
     "name": "stderr",
     "output_type": "stream",
     "text": [
      "\u001b[32m\u001b[1m Activating\u001b[22m\u001b[39m environment at `~/postdoc/ACE.jl/Project.toml`\n",
      "┌ Info: Precompiling IPFitting [3002bd4c-79e4-52ce-b924-91256dde4e52]\n",
      "└ @ Base loading.jl:1278\n",
      "┌ Info: Skipping precompilation since __precompile__(false). Importing IPFitting [3002bd4c-79e4-52ce-b924-91256dde4e52].\n",
      "└ @ Base loading.jl:1034\n",
      "┌ Info: Precompiling ASE [51974c44-a7ed-5088-b8be-3e78c8ba416c]\n",
      "└ @ Base loading.jl:1278\n",
      "┌ Info: Skipping precompilation since __precompile__(false). Importing ASE [51974c44-a7ed-5088-b8be-3e78c8ba416c].\n",
      "└ @ Base loading.jl:1034\n"
     ]
    }
   ],
   "source": [
    "using Pkg\n",
    "Pkg.activate(\"/home/claudio/postdoc/ACE.jl/Project.toml\")\n",
    "\n",
    "using LinearAlgebra, Statistics, Random, ProgressMeter, ScikitLearn\n",
    "using ACE: alloc_B, alloc_temp, evaluate!,alloc_dB, alloc_temp_d, evaluate_d!, rpi_basis, rnn\n",
    "using NeighbourLists: maxneigs\n",
    "using JuLIP: sites, neighbourlist, cutoff, JVec, AbstractAtoms, fltype, AtomicNumber\n",
    "using JuLIP.Potentials: neigsz!\n",
    "using IPFitting.Data: read_xyz\n",
    "@sk_import linear_model: Ridge\n",
    "using ScikitLearn.CrossValidation: train_test_split"
   ]
  },
  {
   "cell_type": "code",
   "execution_count": 2,
   "metadata": {},
   "outputs": [],
   "source": [
    "function sum_descriptor(shipB, at::AbstractAtoms{T}) where {T}\n",
    "   E = zeros(fltype(shipB), length(shipB))\n",
    "   B = alloc_B(shipB)\n",
    "   nlist = neighbourlist(at, cutoff(shipB))\n",
    "   maxnR = maxneigs(nlist)\n",
    "   tmp = alloc_temp(shipB, maxnR)\n",
    "   tmpRZ = (R = zeros(JVec{T}, maxnR), Z = zeros(AtomicNumber, maxnR))\n",
    "   for i = 1:length(at)\n",
    "      j, R, Z = neigsz!(tmpRZ, nlist, at, i)\n",
    "      fill!(B, 0)\n",
    "      evaluate!(B, tmp, shipB, R, Z, at.Z[i])\n",
    "      E[:] .+= B[:]\n",
    "   end\n",
    "   return E\n",
    "end\n",
    "\n",
    "function sum_descriptor_traj(basis, traj)\n",
    "    A_all = Array{Float64, 2}(undef, length(traj), length(basis)) \n",
    "    @showprogress \"Computing descriptor for structure \" for i in 1:length(traj)\n",
    "        atoms = traj[i].at\n",
    "        A_all[i, :] = sum_descriptor(basis, atoms)\n",
    "    end\n",
    "    return A_all\n",
    "end;\n",
    "\n",
    "\n",
    "function sum_d_descriptor(shipB, at::AbstractAtoms{T}) where {T}\n",
    "   # precompute the neighbourlist to count the number of neighbours\n",
    "   nlist = neighbourlist(at, cutoff(shipB); storelist=false)\n",
    "   maxR = maxneigs(nlist)\n",
    "   # allocate space accordingly\n",
    "   F = zeros(JVec{T}, length(at), length(shipB))\n",
    "   B = alloc_B(shipB, maxR)\n",
    "   dB = alloc_dB(shipB, maxR)\n",
    "   tmp = alloc_temp_d(shipB, maxR)\n",
    "   tmpRZ = (R = zeros(JVec{T}, maxR), Z = zeros(AtomicNumber, maxR))\n",
    "   return sum_d_descriptor_inner!(shipB, at, nlist, F, B, dB, tmp, tmpRZ)\n",
    "end\n",
    "\n",
    "# this is a little hack to remove a type instability. It probably makes no\n",
    "# difference in practise...\n",
    "function sum_d_descriptor_inner!(shipB, at::AbstractAtoms{T},\n",
    "                       nlist, F, B, dB, tmp, tmpRZ) where {T}\n",
    "   # assemble site gradients and write into F\n",
    "   for i = 1:length(at)\n",
    "      j, R, Z = neigsz!(tmpRZ, nlist, at, i)\n",
    "      fill!(dB, zero(JVec{T}))\n",
    "      fill!(B, 0)\n",
    "      evaluate_d!(B, dB, tmp, shipB, R, Z, at.Z[i])\n",
    "      for a = 1:length(R)\n",
    "         F[j[a], :] .-= dB[:, a]\n",
    "         F[i, :] .+= dB[:, a]\n",
    "      end\n",
    "   end\n",
    "   return [ F[:, iB] for iB = 1:length(shipB) ]\n",
    "end\n",
    "\n",
    "function sum_d_descriptor_traj(basis, traj)\n",
    "    dA_all = []\n",
    "    @showprogress \"Computing desc. der. for structure \" for i in 1:length(traj)\n",
    "        atoms = traj[i].at\n",
    "        XF = sum_d_descriptor(basis, atoms);\n",
    "        XF = hcat([collect(Iterators.flatten(a)) for a in XF]...)\n",
    "        push!(dA_all, XF)\n",
    "    end\n",
    "    return dA_all\n",
    "end;\n",
    "\n",
    "function fit_potential(XE_tr, YE_tr, XF_tr, YF_tr, alpha=1.0)\n",
    "    YF_tr = hcat(YF_tr'...)'\n",
    "    XF_tr = hcat(XF_tr'...)'\n",
    "    X_tr = vcat(XE_tr, XF_tr)\n",
    "    Y_tr = vcat(YE_tr, YF_tr);\n",
    "    ridge_pred = fit!(Ridge(alpha), X_tr, Y_tr)\n",
    "    return ridge_pred\n",
    "end\n",
    "\n",
    "function predict_potential(ridge_pred, XE_tst, XF_tst)\n",
    "    n_struc = length(XE_tst[:, 1])\n",
    "    XF_tst = hcat(XF_tst'...)'\n",
    "    X_tst = vcat(XE_tst, XF_tst)\n",
    "    result = predict(ridge_pred, X_tst)\n",
    "    return result[1:n_struc], result[n_struc+1:end]\n",
    "end\n",
    "\n",
    "function extract_info(B, traj)\n",
    "    XE = sum_descriptor_traj(B, traj);\n",
    "    XF = sum_d_descriptor_traj(B, traj);\n",
    "\n",
    "    YE = Vector{Float64}(undef, length(traj)) \n",
    "    for i in 1:length(traj)\n",
    "        YE[i] = traj[i].D[\"E\"][1]\n",
    "    end\n",
    "\n",
    "    YF = Vector{Float64}[]\n",
    "    for i in 1:length(traj)\n",
    "        push!(YF, traj[i].D[\"F\"])\n",
    "    end\n",
    "\n",
    "    nat = Vector{Float64}(undef, length(traj)) \n",
    "    for i in 1:length(traj)\n",
    "        nat[i] = length(traj[i])\n",
    "    end\n",
    "    \n",
    "    return XE, YE, XF, YF, nat\n",
    "    end;"
   ]
  },
  {
   "cell_type": "code",
   "execution_count": null,
   "metadata": {},
   "outputs": [],
   "source": [
    "# Data loading\n",
    "\n",
    "all_traj = read_xyz(\"/home/claudio/postdoc/integrated_potentials/data/Si_2018/delta_silicon.xyz\", \n",
    "    energy_key=\"dft_energy\", force_key=\"dft_force\", verbose=false);\n",
    "\n",
    "\n",
    "# Data parsing\n",
    "\n",
    "types = [\"bcc\",\"fcc\",\"hcp\",\"bt\",\"liq\",\"amorph\",\"dia\"]\n",
    "traj = Any[]\n",
    "for tt in all_traj\n",
    "   if tt.configtype in types\n",
    "        push!(traj, tt)\n",
    "    end\n",
    "end"
   ]
  },
  {
   "cell_type": "code",
   "execution_count": 7,
   "metadata": {},
   "outputs": [],
   "source": [
    "# Descriptor parameters\n",
    "\n",
    "N = 8               # Body order\n",
    "maxdeg = 10         # Number of basis (?)\n",
    "rcut = 5.0          # Radial Cutoff\n",
    "species = :Si;      # Well... Species\n",
    "r0 = 1.0            # Lowest radius for basis\n",
    "reg = 1e-8;         # Ridge regularizer\n",
    "\n",
    "B = rpi_basis(; species=species, N = N, r0 = r0,\n",
    "   maxdeg = maxdeg, rcut = rcut,\n",
    "   rin = rnn(:Si) * 0.6,\n",
    "   constants = false);"
   ]
  },
  {
   "cell_type": "code",
   "execution_count": 9,
   "metadata": {},
   "outputs": [
    {
     "name": "stderr",
     "output_type": "stream",
     "text": [
      "\u001b[32mComputing descriptor for structure 100%|████████████████| Time: 0:00:05\u001b[39m\n",
      "\u001b[32mComputing desc. der. for structure 100%|████████████████| Time: 0:00:28\u001b[39m\n"
     ]
    }
   ],
   "source": [
    "# Generate descriptors and extract data\n",
    "\n",
    "XE, YE, XF, YF, nat = extract_info(B, traj)\n",
    "\n",
    "XE_tr, XE_tst, YE_tr, YE_tst, XF_tr, XF_tst, YF_tr, YF_tst, nat_tr, nat_tst = train_test_split(\n",
    "    XE, YE, XF, YF, nat, test_size=0.25, random_state=42);"
   ]
  },
  {
   "cell_type": "code",
   "execution_count": 19,
   "metadata": {},
   "outputs": [
    {
     "name": "stdout",
     "output_type": "stream",
     "text": [
      "RMSE Energy [meV/atom]: 14.432255274470627\n",
      "RMSE Forces [eV/A]:     0.12934605106297223"
     ]
    }
   ],
   "source": [
    "# Fit and Predict\n",
    "\n",
    "rr = fit_potential(XE_tr, YE_tr, XF_tr, YF_tr, reg)\n",
    "e_hat, f_hat = predict_potential(rr, XE_tst, XF_tst)\n",
    "\n",
    "rmse_e = mean((YE_tst./nat_tst .-  e_hat./nat_tst).^2).^0.5\n",
    "print(\"RMSE Energy [meV/atom]: \", 1000*rmse_e)\n",
    "\n",
    "rmse_f = mean((hcat(YF_tst'...)' .-  f_hat).^2).^0.5\n",
    "print(\"\\nRMSE Forces [eV/A]:     \", rmse_f)"
   ]
  },
  {
   "cell_type": "code",
   "execution_count": null,
   "metadata": {},
   "outputs": [],
   "source": []
  }
 ],
 "metadata": {
  "kernelspec": {
   "display_name": "Julia 1.5.3",
   "language": "julia",
   "name": "julia-1.5"
  },
  "language_info": {
   "file_extension": ".jl",
   "mimetype": "application/julia",
   "name": "julia",
   "version": "1.5.3"
  }
 },
 "nbformat": 4,
 "nbformat_minor": 4
}
