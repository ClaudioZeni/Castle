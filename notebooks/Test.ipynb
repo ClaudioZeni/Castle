{
 "cells": [
  {
   "cell_type": "code",
   "execution_count": 1,
   "id": "7769d151-5394-4ae0-88f6-6c5d0d0cedc1",
   "metadata": {},
   "outputs": [],
   "source": [
    "from ase.io import read\n",
    "import numpy as np\n",
    "from matplotlib import pyplot as plt\n",
    "import joblib, pickle, sys\n",
    "sys.path.insert(0,\"../\")\n",
    "from castle import train_ensamble_linear_model, train_linear_model, ASEMLCalculator, AceGlobalRepresentation, AceLocalRepresentation\n",
    "from castle import get_forces_and_energies, get_virials, get_nat, dump, load, print_score, utils\n",
    "rcuts = {'Cu': 3.9, 'Mo': 5.2, 'Si': 4.7, 'Ge':5.1, 'Ni':4.0, 'Li':5.1}\n",
    "\n",
    "%load_ext autoreload\n",
    "%autoreload 2"
   ]
  },
  {
   "cell_type": "code",
   "execution_count": null,
   "id": "9292c5a5-d883-4b42-8a39-269438c804f5",
   "metadata": {},
   "outputs": [],
   "source": [
    "species = 'Mo'\n",
    "N = 5\n",
    "maxdeg = 8\n",
    "rcut = 4.6\n",
    "force_name = 'dft_forces'\n",
    "energy_name = 'DFT_PE'\n",
    "noise = 1e-8\n",
    "\n",
    "root = f\"/home/claudio/postdoc/data/Zuo/{species}/\"\n",
    "\n",
    "tr_features, val_features = utils.extract_features(root, \"train_trajectory.xyz\", \"validation_trajectory.xyz\",\n",
    "                                             N=N, maxdeg=maxdeg, rcut=rcut, force_name = force_name, energy_name =energy_name,\n",
    "                                            species = species)\n",
    "\n",
    "e_t, f_t, e_val, f_val, nat_tr, nat_val, tr_features, val_features = utils.load_everything(\n",
    "    root, \"train_trajectory.xyz\", \"validation_trajectory.xyz\",\n",
    "    f\"tr_features_N_{N}_d_{maxdeg}_cut_{rcut}.xz\", f\"val_features_N_{N}_d_{maxdeg}_cut_{rcut}.xz\", force_name = force_name)"
   ]
  },
  {
   "cell_type": "code",
   "execution_count": null,
   "id": "4298d08a-39b5-47e1-a280-17a28c7afb73",
   "metadata": {},
   "outputs": [],
   "source": [
    "model = train_linear_model(tr_features, noise, e_t, f_t)\n",
    "\n",
    "# evaluate its performances\n",
    "%time ep, fp = model.predict(val_features)\n",
    "\n",
    "print_score(ep/nat_val, e_val/nat_val)\n",
    "print_score(fp.flatten(), f_val.flatten())\n",
    "\n",
    "plt.scatter(e_val/nat_val, ep/nat_val)\n",
    "plt.plot(e_val/nat_val, e_val/nat_val, 'k--')\n",
    "plt.xlabel(\"True Energy [eV/atom]\")\n",
    "plt.ylabel(\"Predicted Energy [eV/atom]\")\n",
    "plt.show()\n",
    "\n",
    "plt.scatter(f_val, fp)\n",
    "plt.plot(f_val, f_val, 'k--')\n",
    "plt.xlabel(\"True Force [eV/$\\AA$]\")\n",
    "plt.ylabel(\"Predicted Force [eV/$\\AA$]\")\n",
    "plt.show()"
   ]
  },
  {
   "cell_type": "code",
   "execution_count": null,
   "id": "565aab1b-8e09-4efe-a3b6-8b451f4f289d",
   "metadata": {},
   "outputs": [],
   "source": [
    "n_clusters = 'auto'\n",
    "# train the model\n",
    "model =  train_ensamble_linear_model(tr_features, noise, e_t, f_t,\n",
    "                         n_clusters=n_clusters, clustering='e_gmm')\n",
    "\n",
    "# evaluate its performances\n",
    "%time ep, fp = model.predict(val_features)\n",
    "print_score(ep/nat_val, e_val/nat_val)\n",
    "print_score(fp.flatten(), f_val.flatten())\n",
    "\n",
    "plt.scatter(e_val/nat_val, ep/nat_val)\n",
    "plt.plot(e_val/nat_val, e_val/nat_val, 'k--')\n",
    "plt.xlabel(\"True Energy [eV/atom]\")\n",
    "plt.ylabel(\"Predicted Energy [eV/atom]\")\n",
    "plt.show()\n",
    "\n",
    "plt.scatter(f_val, fp)\n",
    "plt.plot(f_val, f_val, 'k--')\n",
    "plt.xlabel(\"True Force [eV/$\\AA$]\")\n",
    "plt.ylabel(\"Predicted Force [eV/$\\AA$]\")\n",
    "plt.show()"
   ]
  },
  {
   "cell_type": "code",
   "execution_count": null,
   "id": "1fd4a5c8-7aaf-4887-8180-6df04455f8ba",
   "metadata": {},
   "outputs": [],
   "source": []
  }
 ],
 "metadata": {
  "kernelspec": {
   "display_name": "Python 3 (ipykernel)",
   "language": "python",
   "name": "python3"
  },
  "language_info": {
   "codemirror_mode": {
    "name": "ipython",
    "version": 3
   },
   "file_extension": ".py",
   "mimetype": "text/x-python",
   "name": "python",
   "nbconvert_exporter": "python",
   "pygments_lexer": "ipython3",
   "version": "3.8.10"
  }
 },
 "nbformat": 4,
 "nbformat_minor": 5
}
